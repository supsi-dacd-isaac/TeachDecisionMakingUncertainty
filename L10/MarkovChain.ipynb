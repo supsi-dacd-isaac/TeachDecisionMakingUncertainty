{
  "nbformat": 4,
  "nbformat_minor": 0,
  "metadata": {
    "colab": {
      "provenance": [],
      "include_colab_link": true
    },
    "kernelspec": {
      "name": "python3",
      "display_name": "Python 3"
    },
    "language_info": {
      "name": "python"
    }
  },
  "cells": [
    {
      "cell_type": "markdown",
      "metadata": {
        "id": "view-in-github",
        "colab_type": "text"
      },
      "source": [
        "<a href=\"https://colab.research.google.com/github/supsi-dacd-isaac/TeachDecisionMakingUncertainty/blob/main/L10/MarkovChain.ipynb\" target=\"_parent\"><img src=\"https://colab.research.google.com/assets/colab-badge.svg\" alt=\"Open In Colab\"/></a>"
      ]
    },
    {
      "cell_type": "code",
      "source": [
        "import matplotlib.pyplot as plt\n",
        "import numpy as np\n",
        "import random\n",
        "import matplotlib.animation as animation\n",
        "\n",
        "class ThreeStateMDP:\n",
        "    def __init__(self):\n",
        "        self.num_states = 3\n",
        "        self.state = 1  # Initial state\n",
        "        self.actions = [\"forward\", \"backward\"]\n",
        "\n",
        "    def step(self, action):\n",
        "        if action == \"forward\":\n",
        "            if random.random() < 0.8:\n",
        "                self.state = min(self.state + 1, 2)  # Move forward with probability 0.9\n",
        "            else:\n",
        "                self.state = random.choice([0, 1, 2])  # Random transition otherwise\n",
        "        elif action == \"backward\":\n",
        "            if random.random() < 0.8:\n",
        "                self.state = max(self.state - 1, 0)  # Move backward with probability 0.9\n",
        "            else:\n",
        "                self.state = random.choice([0, 1, 2]) # Random transition otherwise\n",
        "        return self.state\n",
        "\n",
        "# Simulation\n",
        "num_steps_per_episode = 10000\n",
        "state_distribution = np.zeros((num_steps_per_episode, 3)) # Store state distributions for animation\n",
        "\n",
        "mdp = ThreeStateMDP()\n",
        "for step in range(num_steps_per_episode):\n",
        "    action = 'forward' if mdp.state == 2 else random.choice(mdp.actions)\n",
        "    next_state = mdp.step(action)\n",
        "    state_distribution[step, next_state] += 1\n",
        "\n",
        "# Averaging over all episodes\n",
        "average_state_distribution = np.cumsum(state_distribution, axis=0)\n",
        "\n",
        "\n"
      ],
      "metadata": {
        "id": "qghWTKmhcp0i"
      },
      "execution_count": 1,
      "outputs": []
    },
    {
      "cell_type": "code",
      "source": [
        "\n",
        "import matplotlib.pyplot as plt\n",
        "import numpy as np\n",
        "import matplotlib.animation as animation\n",
        "from IPython.display import HTML\n",
        "\n",
        "# Assuming average_state_distribution and num_steps_per_episode are defined from the previous code\n",
        "fig, ax = plt.subplots(figsize=(5,3),layout='tight')\n",
        "x = np.arange(3)\n",
        "rects = ax.bar(x, [0.8]*3, width=0.8, color='red', alpha=0.0)  # fixed height, only alpha changes\n",
        "triangle, = ax.plot([], [], marker='v', markersize=15, color='black', linestyle='None')\n",
        "texts = [ax.text(pos, 0.4, '', ha='center', va='center', fontsize=10, color='white') for pos in x]\n",
        "# Setup axis\n",
        "#ax.set_xlim(-0.5, 2.5)\n",
        "#ax.set_ylim(-0.5, 1.5)\n",
        "ax.set_aspect('equal')\n",
        "ax.axis('off')\n",
        "\n",
        "def animate(i):\n",
        "    t = i\n",
        "    t = min(t, num_steps_per_episode - 1)  # avoid index out of bounds\n",
        "\n",
        "    distribution = average_state_distribution[t]\n",
        "    distribution = distribution / np.sum(distribution) if np.sum(distribution) > 0 else np.zeros(3)\n",
        "\n",
        "    # Update alpha for each square\n",
        "    for rect, alpha, text in zip(rects, distribution, texts):\n",
        "        rect.set_alpha(alpha)\n",
        "        text.set_text(f'{alpha:.2f}')\n",
        "    # Determine last visited state\n",
        "    if t > 0:\n",
        "        last_visited_state = np.argwhere(state_distribution[t])\n",
        "\n",
        "    else:\n",
        "        last_visited_state = np.argmax(state_distribution[t])\n",
        "\n",
        "    # Update triangle position (wrapped in list)\n",
        "    triangle.set_data([last_visited_state], [0.8])\n",
        "\n",
        "\n",
        "    ax.set_title(f\"State Distribution at Time Step: {t}\")\n",
        "\n",
        "    return [*rects, triangle]\n",
        "\n",
        "ani = animation.FuncAnimation(fig, animate, frames=200, interval=200, blit=False)\n",
        "\n",
        "plt.close(fig)  # prevent static display\n",
        "HTML(ani.to_jshtml())\n",
        "\n",
        "# save animation\n",
        "ani.save('animation.gif', writer='pillow', fps=5)\n"
      ],
      "metadata": {
        "id": "u2_gMCmZgxct"
      },
      "execution_count": 8,
      "outputs": []
    }
  ]
}