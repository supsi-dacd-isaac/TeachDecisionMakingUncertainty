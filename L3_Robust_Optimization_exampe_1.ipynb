{
  "nbformat": 4,
  "nbformat_minor": 0,
  "metadata": {
    "colab": {
      "provenance": [],
      "authorship_tag": "ABX9TyOFKGkDVUg5KstNVD9pA2aE",
      "include_colab_link": true
    },
    "kernelspec": {
      "name": "python3",
      "display_name": "Python 3"
    },
    "language_info": {
      "name": "python"
    }
  },
  "cells": [
    {
      "cell_type": "markdown",
      "metadata": {
        "id": "view-in-github",
        "colab_type": "text"
      },
      "source": [
        "<a href=\"https://colab.research.google.com/github/supsi-dacd-isaac/TeachDecisionMakingUncertainty/blob/main/L3_Robust_Optimization_exampe_1.ipynb\" target=\"_parent\"><img src=\"https://colab.research.google.com/assets/colab-badge.svg\" alt=\"Open In Colab\"/></a>"
      ]
    },
    {
      "cell_type": "markdown",
      "source": [
        "## **Solving a deterministic optimization problem**\n",
        "\n",
        "**Descision/Design variables**   \n",
        "\n",
        "- $(n_1,n_2)$: number of boxes (1000 packs) produced for drugs 1 and 2\n",
        "- $(m_1, m_2)$: masses of raw material type 1 and 2\n",
        "\n",
        "$$\\theta = (n_1, n_2, m_1, m_2)$$\n",
        "\n",
        "\n",
        "**Objective function**\n",
        "\n",
        "\n",
        "$$J(\\theta, c) = \\text{Reward}(\\theta, c) - \\text{Cost}(\\theta, c)= $$\n",
        "$$ = 6200n_1+6900n_2-(100m_1+199.90m_2+700n_1+800n_2)$$\n",
        "\n",
        "$c = (c_1,c_2, c_3, c_4, c_5, c_6)$\n",
        "\n",
        "- $(c_1,c_2) = (6200, 6900)~~ [\\frac{CHF}{Box}]$ expected revenue per box and drug type\n",
        "- $(c_3,c_4) = (100, 199.9)~~ [\\frac{CHF}{kg}]$: costs of raw materials type 1 and 2\n",
        "- $(c_5,c_6) = (700, 800)~~ [\\frac{CHF}{Box}]$: production cost per box and drug type\n"
      ],
      "metadata": {
        "id": "I0-egwxNIWH9"
      }
    },
    {
      "cell_type": "markdown",
      "source": [
        "\n",
        "The **deterministic optimal production model** is given as follows:\n",
        "\n",
        "\\begin{align}\n",
        "\\max\\limits_{\\theta}\\;& J(\\theta, c) \\\\\n",
        "\\text{subject to}\\;&  m_1 + m_2 \\leq 1000  && \\text{(Storage)} \\\\\n",
        "                 & 90n_1 + 100n_2 \\leq 2000  && \\text{(Manpower)} \\\\\n",
        "                 & 40n_1 + 50n_2 \\leq 800  && \\text{(Equipment)} \\\\\n",
        "                 & 100m_1+199.9m_2+700n_1+800n_2 \\leq 100000 &&\\text{(Budget)} \\\\\n",
        "                 & 0.01m_1+0.02m_2-0.5n_1-0.6n_2 \\geq 0 &&\\text{(Catalyst A)} \\\\\n",
        "                 &  m_1\\geq0, m_2\\geq0, n_1 \\geq 0, n_2\\geq 0.\n",
        "\\end{align}"
      ],
      "metadata": {
        "id": "CNkwSi4rN2sw"
      }
    },
    {
      "cell_type": "code",
      "source": [
        "# prompt: The deterministic model is given as follows:\n",
        "# J(θ,c)=Reward(θ,c)−Cost(θ,c)=\n",
        "# = 6200n1+6900n2−(100m1+199.90m2+700n1+800n2)\n",
        "\n",
        "# maxθsubject toJ(θ,c)  m1+m2≤100090n1+100n2≤200040n1+50n2≤800100m1+199.9m2+700n1+800n2≤1000000.01m1+0.02m2−0.5n1−0.6n2≥0m1≥0,m2≥0,n1≥0,n2≥0.(Storage)(Manpower)(Equipment)(Budget)(Catalyst A)\n",
        "# this is a linear program\n",
        "\n",
        "# The expecte result:\n",
        "# we buy 438 kg of raw material 2 (no raw material 1), produce 17 552 packs (17.55 boxes) of drug 1 for a total profit of 8820 [CHF]\n",
        "\n",
        "\n",
        "from scipy.optimize import linprog\n",
        "\n",
        "# Objective function coefficients (to be maximized)\n",
        "c = [-(6200-700), -(6900-800), +100, +199.90]  # max J() --> min -J() Negated for maximization\n",
        "\n",
        "# Inequality constraint matrix\n",
        "A = [\n",
        "    [0, 0, 1, 1],\n",
        "    [90, 100, 0, 0],\n",
        "    [40, 50, 0, 0],\n",
        "    [700, 800, 100, 199.9],\n",
        "    [0.5, 0.6, -0.01, -0.02],\n",
        "]\n",
        "\n",
        "# Inequality constraint vector\n",
        "b = [1000, 2000, 800, 100000, 0]\n",
        "\n",
        "# Bounds for decision variables\n",
        "bounds = [(0, None), (0, None), (0, None), (0, None)]\n",
        "\n",
        "\n",
        "# Solve the linear program\n",
        "result = linprog(c, A_ub=A, b_ub=b, bounds=bounds)\n",
        "\n",
        "# Print the results\n",
        "print(result)\n",
        "\n",
        "if result.success:\n",
        "  print(\"Optimal Solution:\")\n",
        "  print(\"n1 =\", result.x[0])\n",
        "  print(\"n2 =\", result.x[1])\n",
        "  print(\"m1 =\", result.x[2])\n",
        "  print(\"m2 =\", result.x[3])\n",
        "  print(\"Objective Function Value =\", -result.fun) #negate to get the maximized value\n",
        "else:\n",
        "    print(\"Optimization failed:\", result.message)"
      ],
      "metadata": {
        "colab": {
          "base_uri": "https://localhost:8080/"
        },
        "id": "MQODUPdPOHVn",
        "outputId": "c398223b-56c8-4ebe-bb2a-2b1f4f4bdc39"
      },
      "execution_count": null,
      "outputs": [
        {
          "output_type": "stream",
          "name": "stdout",
          "text": [
            "        message: Optimization terminated successfully. (HiGHS Status 7: Optimal)\n",
            "        success: True\n",
            "         status: 0\n",
            "            fun: -8819.657744624841\n",
            "              x: [ 1.755e+01  0.000e+00  0.000e+00  4.388e+02]\n",
            "            nit: 2\n",
            "          lower:  residual: [ 1.755e+01  0.000e+00  0.000e+00  4.388e+02]\n",
            "                 marginals: [ 0.000e+00  4.965e+02  5.441e-02  0.000e+00]\n",
            "          upper:  residual: [       inf        inf        inf        inf]\n",
            "                 marginals: [ 0.000e+00  0.000e+00  0.000e+00  0.000e+00]\n",
            "          eqlin:  residual: []\n",
            "                 marginals: []\n",
            "        ineqlin:  residual: [ 5.612e+02  4.204e+02  9.794e+01  0.000e+00\n",
            "                              0.000e+00]\n",
            "                 marginals: [-0.000e+00 -0.000e+00 -0.000e+00 -8.820e-02\n",
            "                             -1.088e+04]\n",
            " mip_node_count: 0\n",
            " mip_dual_bound: 0.0\n",
            "        mip_gap: 0.0\n",
            "Optimal Solution:\n",
            "n1 = 17.551557700745942\n",
            "n2 = 0.0\n",
            "m1 = 0.0\n",
            "m2 = 438.7889425186485\n",
            "Objective Function Value = 8819.657744624841\n"
          ]
        }
      ]
    }
  ]
}