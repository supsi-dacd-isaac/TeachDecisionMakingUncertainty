{
  "nbformat": 4,
  "nbformat_minor": 0,
  "metadata": {
    "colab": {
      "provenance": [],
      "authorship_tag": "ABX9TyOrlE+q0TgG6KNW9+Gmyu4L",
      "include_colab_link": true
    },
    "kernelspec": {
      "name": "python3",
      "display_name": "Python 3"
    },
    "language_info": {
      "name": "python"
    }
  },
  "cells": [
    {
      "cell_type": "markdown",
      "metadata": {
        "id": "view-in-github",
        "colab_type": "text"
      },
      "source": [
        "<a href=\"https://colab.research.google.com/github/supsi-dacd-isaac/TeachDecisionMakingUncertainty/blob/main/L3_Robust_Optimization_example_LP.ipynb\" target=\"_parent\"><img src=\"https://colab.research.google.com/assets/colab-badge.svg\" alt=\"Open In Colab\"/></a>"
      ]
    },
    {
      "cell_type": "code",
      "execution_count": 3,
      "metadata": {
        "colab": {
          "base_uri": "https://localhost:8080/"
        },
        "id": "6SJULpLR6Gp3",
        "outputId": "76185341-ae2e-4b0d-b27b-59180bf9dc6a"
      },
      "outputs": [
        {
          "output_type": "stream",
          "name": "stdout",
          "text": [
            "Collecting rsome\n",
            "  Downloading rsome-1.3.1-py3-none-any.whl.metadata (7.0 kB)\n",
            "Requirement already satisfied: numpy>=1.20.0 in /usr/local/lib/python3.11/dist-packages (from rsome) (1.26.4)\n",
            "Requirement already satisfied: scipy>=1.9.0 in /usr/local/lib/python3.11/dist-packages (from rsome) (1.13.1)\n",
            "Requirement already satisfied: pandas>=0.25.0 in /usr/local/lib/python3.11/dist-packages (from rsome) (2.2.2)\n",
            "Requirement already satisfied: python-dateutil>=2.8.2 in /usr/local/lib/python3.11/dist-packages (from pandas>=0.25.0->rsome) (2.8.2)\n",
            "Requirement already satisfied: pytz>=2020.1 in /usr/local/lib/python3.11/dist-packages (from pandas>=0.25.0->rsome) (2024.2)\n",
            "Requirement already satisfied: tzdata>=2022.7 in /usr/local/lib/python3.11/dist-packages (from pandas>=0.25.0->rsome) (2025.1)\n",
            "Requirement already satisfied: six>=1.5 in /usr/local/lib/python3.11/dist-packages (from python-dateutil>=2.8.2->pandas>=0.25.0->rsome) (1.17.0)\n",
            "Downloading rsome-1.3.1-py3-none-any.whl (87 kB)\n",
            "\u001b[2K   \u001b[90m━━━━━━━━━━━━━━━━━━━━━━━━━━━━━━━━━━━━━━━━\u001b[0m \u001b[32m87.8/87.8 kB\u001b[0m \u001b[31m1.8 MB/s\u001b[0m eta \u001b[36m0:00:00\u001b[0m\n",
            "\u001b[?25hInstalling collected packages: rsome\n",
            "Successfully installed rsome-1.3.1\n",
            "Collecting mosek\n",
            "  Downloading Mosek-11.0.4-cp39-abi3-manylinux2014_x86_64.whl.metadata (697 bytes)\n",
            "Requirement already satisfied: numpy in /usr/local/lib/python3.11/dist-packages (from mosek) (1.26.4)\n",
            "Downloading Mosek-11.0.4-cp39-abi3-manylinux2014_x86_64.whl (14.7 MB)\n",
            "\u001b[2K   \u001b[90m━━━━━━━━━━━━━━━━━━━━━━━━━━━━━━━━━━━━━━━━\u001b[0m \u001b[32m14.7/14.7 MB\u001b[0m \u001b[31m90.2 MB/s\u001b[0m eta \u001b[36m0:00:00\u001b[0m\n",
            "\u001b[?25hInstalling collected packages: mosek\n",
            "Successfully installed mosek-11.0.4\n",
            "rm: cannot remove 'mosek.lic': No such file or directory\n",
            "Cloning into 'mosek_lic'...\n",
            "remote: Enumerating objects: 3, done.\u001b[K\n",
            "remote: Counting objects: 100% (3/3), done.\u001b[K\n",
            "remote: Compressing objects: 100% (2/2), done.\u001b[K\n",
            "remote: Total 3 (delta 0), reused 0 (delta 0), pack-reused 0 (from 0)\u001b[K\n",
            "Receiving objects: 100% (3/3), done.\n"
          ]
        }
      ],
      "source": [
        "!pip install rsome\n",
        "!pip install mosek\n",
        "!rm mosek.lic\n",
        "!git clone https://github.com/roberock/mosek_lic\n",
        "!cp ./mosek_lic/mosek.lic .\n",
        "!rm -r ./mosek_lic\n",
        "!mkdir -p /root/mosek\n",
        "!cp ./mosek.lic /root/mosek\n",
        "#!pip install -i https://pypi.gurobi.com gurobipy"
      ]
    },
    {
      "cell_type": "code",
      "source": [
        "import rsome as rso\n",
        "import numpy as np\n",
        "from rsome import ro\n",
        "from rsome import msk_solver as my_solver  #Import Mosek solver interface\n",
        "#from rsome import grb_solver as my_solver  #Import Gurobi solver interface"
      ],
      "metadata": {
        "id": "EX-PWy1t7Jml"
      },
      "execution_count": 4,
      "outputs": []
    },
    {
      "cell_type": "code",
      "source": [
        "# Parameters setup\n",
        "n  = 150\n",
        "i = np.arange(1, n+1)\n",
        "c  = 0.15+ i*0.05/150\n",
        "a = np.zeros(n)\n",
        "b = 0.02\n",
        "\n",
        "# Describing the uncertainty\n",
        "maxDev = 0.05/450 * (2*i*n*(n+1))**0.5\n",
        "uBarPlus = maxDev\n",
        "uBarMinus = -maxDev"
      ],
      "metadata": {
        "id": "r7GV8z-w7UeC"
      },
      "execution_count": 5,
      "outputs": []
    },
    {
      "cell_type": "markdown",
      "source": [
        "## **Solving Deterministic Model**\n",
        "\n",
        "Consider the following linear programming problem:\n",
        "\\begin{align}\n",
        "\\max\\limits_{x}\\;\\;&c^\\top x \\\\\n",
        "\\text{subject to}\\;\\;& a^\\top x \\leq b\\\\\n",
        "& 0 \\leq x \\leq 1.\n",
        "\\end{align}"
      ],
      "metadata": {
        "id": "lGgnewbE7d2U"
      }
    },
    {
      "cell_type": "code",
      "source": [
        "#Create model\n",
        "model = ro.Model('simpleExample_det')\n",
        "x=model.dvar(n)\n",
        "model.max(c@x)\n",
        "model.st(a@x<=b)\n",
        "model.st(x>=0)\n",
        "model.st(x<=1)\n",
        "model.solve(my_solver)\n",
        "optobj_det = model.get()\n",
        "xx_det   = x.get()\n",
        "print('objective',optobj_det)\n",
        "print('solution',xx_det)"
      ],
      "metadata": {
        "colab": {
          "base_uri": "https://localhost:8080/"
        },
        "id": "qbLz4WTb7Ukk",
        "outputId": "a76622f8-eac6-4322-985b-1c3d768402b1"
      },
      "execution_count": 17,
      "outputs": [
        {
          "output_type": "stream",
          "name": "stdout",
          "text": [
            "Being solved by Mosek...\n",
            "Solution status: Optimal\n",
            "Running time: 0.0034s\n",
            "objective 26.275\n",
            "solution [1. 1. 1. 1. 1. 1. 1. 1. 1. 1. 1. 1. 1. 1. 1. 1. 1. 1. 1. 1. 1. 1. 1. 1.\n",
            " 1. 1. 1. 1. 1. 1. 1. 1. 1. 1. 1. 1. 1. 1. 1. 1. 1. 1. 1. 1. 1. 1. 1. 1.\n",
            " 1. 1. 1. 1. 1. 1. 1. 1. 1. 1. 1. 1. 1. 1. 1. 1. 1. 1. 1. 1. 1. 1. 1. 1.\n",
            " 1. 1. 1. 1. 1. 1. 1. 1. 1. 1. 1. 1. 1. 1. 1. 1. 1. 1. 1. 1. 1. 1. 1. 1.\n",
            " 1. 1. 1. 1. 1. 1. 1. 1. 1. 1. 1. 1. 1. 1. 1. 1. 1. 1. 1. 1. 1. 1. 1. 1.\n",
            " 1. 1. 1. 1. 1. 1. 1. 1. 1. 1. 1. 1. 1. 1. 1. 1. 1. 1. 1. 1. 1. 1. 1. 1.\n",
            " 1. 1. 1. 1. 1. 1.]\n"
          ]
        }
      ]
    },
    {
      "cell_type": "markdown",
      "source": [
        "## **Solving Raw Robust Counterpart**\n",
        "\n",
        "Consider the following robust linear optimization problem:\n",
        "\\begin{align}\n",
        "\\max\\limits_{x}\\;\\;&c^\\top x \\\\\n",
        "\\text{subject to}\\\\ \\;\\;& (a + u)^\\top x \\leq b && \\forall u \\in \\mathcal{U}\\\\\n",
        "& 0 \\leq x \\leq 1,\n",
        "\\end{align}\n",
        "where $$\\mathcal{U}:=\\{u\\;|\\;\\bar{u}^- \\leq u \\leq \\bar{u}^+\\}.$$"
      ],
      "metadata": {
        "id": "xEHLJQp27dwa"
      }
    },
    {
      "cell_type": "code",
      "source": [
        "#Create model\n",
        "model = ro.Model('simpleExample_rawrobust')\n",
        "x=model.dvar(n)\n",
        "\n",
        "#Create uncertain vector\n",
        "u = model.rvar(n)\n",
        "#Create uncertainty set\n",
        "USet = (u>=uBarMinus, u <= uBarPlus)\n",
        "model.max(c@x)\n",
        "#Robustify the constraint\n",
        "model.st(((a+u)@x<=b).forall(USet))\n",
        "model.st(x>=0)\n",
        "model.st(x<=1)\n",
        "model.solve(my_solver)\n",
        "\n",
        "optobj_raw = model.get()\n",
        "xx_raw   = x.get()\n",
        "\n",
        "print('objective',optobj_raw)\n",
        "print('solution',xx_raw)"
      ],
      "metadata": {
        "colab": {
          "base_uri": "https://localhost:8080/"
        },
        "id": "g1d6pn9T7Unu",
        "outputId": "7f745124-37c0-495a-e59f-556a1a25ce67"
      },
      "execution_count": 6,
      "outputs": [
        {
          "output_type": "stream",
          "name": "stdout",
          "text": [
            "Being solved by Mosek...\n",
            "Solution status: Optimal\n",
            "Running time: 0.0381s\n",
            "objective 0.12713897073987465\n",
            "solution [0.84571377 0.         0.         0.         0.         0.\n",
            " 0.         0.         0.         0.         0.         0.\n",
            " 0.         0.         0.         0.         0.         0.\n",
            " 0.         0.         0.         0.         0.         0.\n",
            " 0.         0.         0.         0.         0.         0.\n",
            " 0.         0.         0.         0.         0.         0.\n",
            " 0.         0.         0.         0.         0.         0.\n",
            " 0.         0.         0.         0.         0.         0.\n",
            " 0.         0.         0.         0.         0.         0.\n",
            " 0.         0.         0.         0.         0.         0.\n",
            " 0.         0.         0.         0.         0.         0.\n",
            " 0.         0.         0.         0.         0.         0.\n",
            " 0.         0.         0.         0.         0.         0.\n",
            " 0.         0.         0.         0.         0.         0.\n",
            " 0.         0.         0.         0.         0.         0.\n",
            " 0.         0.         0.         0.         0.         0.\n",
            " 0.         0.         0.         0.         0.         0.\n",
            " 0.         0.         0.         0.         0.         0.\n",
            " 0.         0.         0.         0.         0.         0.\n",
            " 0.         0.         0.         0.         0.         0.\n",
            " 0.         0.         0.         0.         0.         0.\n",
            " 0.         0.         0.         0.         0.         0.\n",
            " 0.         0.         0.         0.         0.         0.\n",
            " 0.         0.         0.         0.         0.         0.\n",
            " 0.         0.         0.         0.         0.         0.        ]\n"
          ]
        }
      ]
    },
    {
      "cell_type": "markdown",
      "source": [
        "## **Solving Reduced Robust Counterpart**\n",
        "\n",
        "The robust counterpart can be reformulated as follows:\n",
        "\n",
        "\\begin{align}\n",
        "\\max\\limits_{x,\\lambda^+,\\lambda^-}\\;\\;&c^\\top x \\\\\n",
        "\\text{subject to}\\\\\n",
        "\\;\\;& a ^\\top x + (\\bar{u}^+)^\\top \\lambda^+ - (\\bar{u}^-)^\\top \\lambda^- \\leq b, &&\\\\\n",
        "& \\lambda^+ -\\lambda^- =x, \\\\\n",
        "& \\lambda^- \\geq 0, \\\\\n",
        "& \\lambda^+ \\geq 0,\\\\\n",
        "& 0 \\leq x \\leq 1.\n",
        "\\end{align}"
      ],
      "metadata": {
        "id": "G6nVz4i87dky"
      }
    },
    {
      "cell_type": "code",
      "source": [
        "#Create model\n",
        "model = ro.Model('simpleExample_redrobust')\n",
        "x=model.dvar(n)\n",
        "#Create auxiliary variables\n",
        "lambdaPlus=model.dvar(n)\n",
        "lambdaMinus=model.dvar(n)\n",
        "\n",
        "model.max(c@x)\n",
        "#Modify the deterministic constraint\n",
        "model.st(a@x + uBarPlus@lambdaPlus - uBarMinus@lambdaMinus <=b)\n",
        "#Add constraints from dual representation of worst-case optimization\n",
        "model.st(lambdaPlus-lambdaMinus == x)\n",
        "model.st(lambdaPlus>=0)\n",
        "model.st(lambdaMinus>=0)\n",
        "\n",
        "model.st(x>= 0)\n",
        "model.st(x<=1)\n",
        "\n",
        "model.solve(my_solver)\n",
        "\n",
        "optobj_red = model.get()\n",
        "xx_red   = x.get()\n",
        "\n",
        "print('objective',optobj_red)\n",
        "print('solution',xx_red)"
      ],
      "metadata": {
        "colab": {
          "base_uri": "https://localhost:8080/"
        },
        "id": "Rp74n5OT7Upw",
        "outputId": "55caab26-82ac-4827-bfe3-588fa393f662"
      },
      "execution_count": 7,
      "outputs": [
        {
          "output_type": "stream",
          "name": "stdout",
          "text": [
            "Being solved by Mosek...\n",
            "Solution status: Optimal\n",
            "Running time: 0.0031s\n",
            "objective 0.12713897073987465\n",
            "solution [0.84571377 0.         0.         0.         0.         0.\n",
            " 0.         0.         0.         0.         0.         0.\n",
            " 0.         0.         0.         0.         0.         0.\n",
            " 0.         0.         0.         0.         0.         0.\n",
            " 0.         0.         0.         0.         0.         0.\n",
            " 0.         0.         0.         0.         0.         0.\n",
            " 0.         0.         0.         0.         0.         0.\n",
            " 0.         0.         0.         0.         0.         0.\n",
            " 0.         0.         0.         0.         0.         0.\n",
            " 0.         0.         0.         0.         0.         0.\n",
            " 0.         0.         0.         0.         0.         0.\n",
            " 0.         0.         0.         0.         0.         0.\n",
            " 0.         0.         0.         0.         0.         0.\n",
            " 0.         0.         0.         0.         0.         0.\n",
            " 0.         0.         0.         0.         0.         0.\n",
            " 0.         0.         0.         0.         0.         0.\n",
            " 0.         0.         0.         0.         0.         0.\n",
            " 0.         0.         0.         0.         0.         0.\n",
            " 0.         0.         0.         0.         0.         0.\n",
            " 0.         0.         0.         0.         0.         0.\n",
            " 0.         0.         0.         0.         0.         0.\n",
            " 0.         0.         0.         0.         0.         0.\n",
            " 0.         0.         0.         0.         0.         0.\n",
            " 0.         0.         0.         0.         0.         0.\n",
            " 0.         0.         0.         0.         0.         0.        ]\n"
          ]
        }
      ]
    },
    {
      "cell_type": "markdown",
      "source": [],
      "metadata": {
        "id": "161853Dm7d7T"
      }
    },
    {
      "cell_type": "markdown",
      "source": [
        "\n",
        "# **Robust Portfolio Example**\n",
        "\n",
        "In this example, the portfolio construction problem discussed in the previous sections is solved using a robust optimization approach introduced in the paper **Bertsimas and Sim (2004)**. The robust model is presented below:\n",
        "\n",
        "### **Robust Optimization Model**\n",
        "$$\n",
        "\\max_{\\mathbf{x}} \\min_{\\mathbf{u} \\in \\mathcal{U}} \\sum_{i=1}^n (p_i + \\delta_i u_i)x_i\n",
        "$$\n",
        "subject to:\n",
        "$$\n",
        "\\sum_{i=1}^n x_i = 1, \\quad x_i \\geq 0, \\, \\forall i = 1, 2, \\dots, n,\n",
        "$$\n",
        "where the affine term $p_i + \\delta_i u_i$ represents the random stock return, and the random variable $u_i$ is bounded within $[-1, 1]$.\n",
        "\n",
        " Thus, the stock return has an arbitrary distribution in the interval $[p_i - \\delta_i, p_i + \\delta_i]$.\n",
        "\n",
        " The uncertainty set $\\mathcal{U}$ is given below:\n",
        "$$\n",
        "\\mathcal{U} = \\{\\mathbf{u} : \\|\\mathbf{u}\\|_\\infty \\leq 1, \\|\\mathbf{u}\\|_1 \\leq \\Gamma\\},\n",
        "$$\n",
        "where $\\Gamma$ is the budget of uncertainty parameter.\n",
        "\n",
        "### **Parameter Values**\n",
        "The values of the budget of uncertainty and other parameters are presented as follows:\n",
        "\n",
        "$$\n",
        "\\Gamma = 5, \\quad p_i = 1.15 + \\frac{i}{0.05 \\times 150}, \\quad \\delta_i = 0.05 \\sqrt{\\frac{450}{i(n+1)}}, \\, \\forall i = 1, 2, \\dots, n.\n",
        "$$\n"
      ],
      "metadata": {
        "id": "61pH6jjG7d4-"
      }
    },
    {
      "cell_type": "code",
      "source": [
        "from rsome import ro\n",
        "import rsome as rso\n",
        "import numpy as np\n",
        "\n",
        "n = 150                                 # number of stocks\n",
        "i = np.arange(1, n+1)                   # indices of stocks\n",
        "p = 1.15 + i*0.05/150                   # mean returns\n",
        "delta = 0.05/450 * (2*i*n*(n+1))**0.5   # deviations of returns\n",
        "Gamma = 5                               # budget of uncertainty\n",
        "\n",
        "model = ro.Model()\n",
        "x = model.dvar(n)                       # fractions of investment\n",
        "u = model.rvar(n)                       # random variables\n",
        "\n",
        "model.maxmin((p + delta*u) @ x,         # the max-min objective\n",
        "             rso.norm(u, np.infty) <=1, # uncertainty set constraints\n",
        "             rso.norm(u, 1) <= Gamma)   # uncertainty set constraints\n",
        "\n",
        "model.st(sum(x) == 1)                   # summation of x is one\n",
        "model.st(x >= 0)                        # x is non-negative\n",
        "\n",
        "model.solve(my_solver)                        # solve the model by Gurobi"
      ],
      "metadata": {
        "colab": {
          "base_uri": "https://localhost:8080/"
        },
        "id": "_3_JxGqn7Uu1",
        "outputId": "bb982224-b011-4ae3-a2ec-bf133b24b9f6"
      },
      "execution_count": 8,
      "outputs": [
        {
          "output_type": "stream",
          "name": "stdout",
          "text": [
            "Being solved by Mosek...\n",
            "Solution status: Optimal\n",
            "Running time: 0.0181s\n"
          ]
        }
      ]
    },
    {
      "cell_type": "code",
      "source": [
        "import matplotlib.pyplot as plt\n",
        "\n",
        "obj_val = model.get()                   # the optimal objective value\n",
        "x_sol = x.get()                         # the optimal investment decision\n",
        "\n",
        "plt.plot(range(1, n+1), x_sol, linewidth=2, color='b')\n",
        "plt.xlabel('Stocks')\n",
        "plt.ylabel('Fraction of investment')\n",
        "plt.show()\n",
        "print('Objective value: {0:0.4f}'.format(obj_val))"
      ],
      "metadata": {
        "colab": {
          "base_uri": "https://localhost:8080/",
          "height": 467
        },
        "id": "l02igAXD7Ux4",
        "outputId": "0a38c21b-d095-4f6c-9ebf-bd61f73554bb"
      },
      "execution_count": 9,
      "outputs": [
        {
          "output_type": "display_data",
          "data": {
            "text/plain": [
              "<Figure size 640x480 with 1 Axes>"
            ],
            "image/png": "[encoded data removed]"
          },
          "metadata": {}
        },
        {
          "output_type": "stream",
          "name": "stdout",
          "text": [
            "Objective value: 1.1709\n"
          ]
        }
      ]
    },
    {
      "cell_type": "markdown",
      "source": [
        "# Minimal Enclosing Ellipsoid\n",
        "\n",
        "In this example, we consider a polytope defined as the convex hull of $m$ data points:\n",
        "\n",
        "$$\n",
        "S = \\text{conv}\\{ \\mathbf{x}_1, \\mathbf{x}_2, \\dots, \\mathbf{x}_m \\}, \\quad \\mathbf{x}_i \\in \\mathbb{R}^n.\n",
        "$$\n",
        "\n",
        "The polytope is enclosed in the following ellipsoid:\n",
        "\n",
        "$$\n",
        "E := \\{ \\mathbf{x} \\,|\\, \\| P(\\mathbf{x} - \\mathbf{c}) \\|_2 \\leq 1 \\},\n",
        "$$\n",
        "\n",
        "where $P$ and $\\mathbf{c}$ are the coefficients of the ellipsoid. According to the MOSEK Modeling Cookbook, the minimum-volume enclosing ellipsoid can be achieved by solving the following semidefinite programming problem:\n",
        "\n",
        "$$\n",
        "\\max \\quad \\log(\\det(P)) \\quad \\text{s.t.} \\quad \\| P(\\mathbf{x}_i - \\mathbf{c}) \\|_2 \\leq 1, \\, P \\succeq 0, \\, i = 1, 2, \\dots, m.\n",
        "$$\n",
        "\n",
        "The function $\\det(\\cdot)$ represents the determinant of a given matrix, which is either convex or concave. However, the logarithm of the determinant, $\\log(\\det(P))$, is concave. Maximizing $\\log(\\det(P))$ is equivalent to solving the following conic programming problem:\n",
        "\n",
        "$$\n",
        "\\max \\quad \\sum_{i=1}^n v_i \\leq \\log(Z_{ii}), \\quad (P, Z^\\top Z, \\text{diag}(Z)) \\succeq 0, \\quad Z \\text{ is lower triangular}, \\, i = 1, 2, \\dots, n.\n",
        "$$\n",
        "\n",
        "Thus, the minimum-volume enclosing ellipsoid problem can be rewritten as:\n",
        "\n",
        "$$\n",
        "\\max \\quad \\sum_{i=1}^n v_i \\leq \\log(Z_{ii}), \\quad \\| P(\\mathbf{x}_i - \\mathbf{c}) \\|_2 \\leq 1, \\, P \\succeq 0, \\, (P, Z^\\top Z, \\text{diag}(Z)) \\succeq 0, \\, Z \\text{ is lower triangular}, \\, i = 1, 2, \\dots, n, \\, i = 1, 2, \\dots, m.\n",
        "$$\n"
      ],
      "metadata": {
        "id": "FXc6fIqJBQM9"
      }
    },
    {
      "cell_type": "code",
      "source": [
        "m = 21\n",
        "np.random.seed(1)\n",
        "xs = np.random.randn(m, 2)\n",
        "xs[:, 1] = xs[:, 0]*0.08 + xs[:, 1]"
      ],
      "metadata": {
        "id": "7WxUGpSkBOtY"
      },
      "execution_count": 10,
      "outputs": []
    },
    {
      "cell_type": "code",
      "source": [
        "model = ro.Model()\n",
        "\n",
        "P = model.dvar((2, 2))\n",
        "c = model.dvar(2)\n",
        "Z = rso.tril(model.dvar((2, 2)))\n",
        "v = model.dvar(2)\n",
        "\n",
        "model.max(v.sum())\n",
        "model.st(v <= rso.log(rso.diag(Z)))\n",
        "model.st(rso.rstack([P, Z],\n",
        "                    [Z.T, rso.diag(Z, fill=True)]) >> 0)\n",
        "for i in range(m):\n",
        "    model.st(rso.norm(P@xs[i] - c) <= 1)\n",
        "model.st(P >> 0)\n",
        "\n",
        "model.solve(my_solver)\n",
        "print(f'Determinant: {np.exp(model.get())}')"
      ],
      "metadata": {
        "id": "8Wb8CqqNBOwh",
        "outputId": "b57ced89-885a-4b92-921e-48b412d5da31",
        "colab": {
          "base_uri": "https://localhost:8080/"
        }
      },
      "execution_count": 11,
      "outputs": [
        {
          "output_type": "stream",
          "name": "stdout",
          "text": [
            "Being solved by Mosek...\n",
            "Solution status: Optimal\n",
            "Running time: 0.0057s\n",
            "Determinant: 0.29789472760354446\n"
          ]
        }
      ]
    },
    {
      "cell_type": "code",
      "source": [
        "Ps = P.get()\n",
        "cs = c.get()\n",
        "\n",
        "step = 0.01\n",
        "t = np.arange(0, 2*np.pi+step, step)\n",
        "y = np.vstack((np.cos(t), np.sin(t))).T\n",
        "\n",
        "ellip = np.linalg.inv(Ps) @ (y + cs).T"
      ],
      "metadata": {
        "id": "F2zIMp4bBOzW"
      },
      "execution_count": 12,
      "outputs": []
    },
    {
      "cell_type": "code",
      "source": [
        "plt.figure(figsize=(5, 5))\n",
        "plt.scatter(xs[:, 0], xs[:, 1],\n",
        "            marker='o', facecolor='none', color='k', label='Data points')\n",
        "plt.plot(ellip[0], ellip[1], color='b',\n",
        "         label='Minimum enclosing ellipsoid')\n",
        "plt.legend(fontsize=12, bbox_to_anchor=(1.01, 1.02))\n",
        "plt.axis('equal')\n",
        "plt.xlabel(r'$x_1$', fontsize=14)\n",
        "plt.ylabel(r'$x_2$', fontsize=14)\n",
        "plt.show()"
      ],
      "metadata": {
        "id": "wyG7RHXRBO15",
        "outputId": "99b68484-d8fe-41a4-8969-d7b1db45f11e",
        "colab": {
          "base_uri": "https://localhost:8080/",
          "height": 470
        }
      },
      "execution_count": 13,
      "outputs": [
        {
          "output_type": "display_data",
          "data": {
            "text/plain": [
              "<Figure size 500x500 with 1 Axes>"
            ],
            "image/png": "[encoded data removed]"
          },
          "metadata": {}
        }
      ]
    }
  ]
}