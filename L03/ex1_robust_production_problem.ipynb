{
  "cells": [
    {
      "cell_type": "markdown",
      "metadata": {
        "id": "view-in-github",
        "colab_type": "text"
      },
      "source": [
        "<a href=\"https://colab.research.google.com/github/supsi-dacd-isaac/TeachDecisionMakingUncertainty/blob/main/L03/ex1_robust_production_problem.ipynb\" target=\"_parent\"><img src=\"https://colab.research.google.com/assets/colab-badge.svg\" alt=\"Open In Colab\"/></a>"
      ]
    },
    {
      "cell_type": "markdown",
      "metadata": {
        "id": "HDGFkKYTEDOM"
      },
      "source": [
        "AN EXAMPLE OF ROBUSTIFIED LINEAR PROGRAM\n",
        "Modified by:\n",
        " 1. Erick Delage (Created for ROME 14 April 2015)\n",
        " 2. Erick Delage (Adapted to RSOME in November 2020)\n",
        " 3. Roberto Rocchetta (January 2025)\n",
        "\n",
        "As discussed in example 2.5 of the  [lecture notes](http://tintin.hec.ca/pages/erick.delage/MATH80624_LectureNotes.pdf) of MATH80624 at HEC Montréal.\n"
      ]
    },
    {
      "cell_type": "markdown",
      "source": [
        "# **Preliminaries**\n",
        "\n",
        "\n",
        "\n",
        "1. `!pip install rsome`  \n",
        "   - Installs **RSOME**, a robust stochastic optimization modeling environment.\n",
        "\n",
        "2. `!pip install mosek`  \n",
        "   - Installs **MOSEK**, a solver for optimization problems.\n",
        "\n",
        "3. `!rm mosek.lic`  \n",
        "   - Removes any existing MOSEK license file (if present).\n",
        "\n",
        "4. `!git clone https://github.com/roberock/mosek_lic`  \n",
        "   - Clones a GitHub repository containing a MOSEK license file.\n",
        "\n",
        "5. `!cp ./mosek_lic/mosek.lic .`  \n",
        "   - Copies the license file to the current directory.\n",
        "\n",
        "6. `!rm -r ./mosek_lic`  \n",
        "   - Deletes the cloned repository after extracting the license.\n",
        "\n",
        "7. `!mkdir -p /root/mosek`  \n",
        "   - Creates a directory for MOSEK in the system’s root folder.\n",
        "\n",
        "8. `!cp ./mosek.lic /root/mosek`  \n",
        "   - Copies the MOSEK license file to the required directory.\n",
        "\n",
        "9. `#!pip install -i https://pypi.gurobi.com gurobipy`  \n",
        "   - (Commented out) Would install **Gurobi**, another solver, if needed.\n",
        "\n",
        "This setup ensures that **RSOME** and **MOSEK** are installed and properly licensed for optimization tasks. 🚀\n",
        "\n",
        "\n"
      ],
      "metadata": {
        "id": "ujpO-13gy_JV"
      }
    },
    {
      "cell_type": "code",
      "execution_count": 29,
      "metadata": {
        "colab": {
          "base_uri": "https://localhost:8080/"
        },
        "id": "q5oa7jOASlVP",
        "outputId": "bd2f764b-eafd-4bce-f5fe-294c760c03fe"
      },
      "outputs": [
        {
          "output_type": "stream",
          "name": "stdout",
          "text": [
            "Requirement already satisfied: rsome in /usr/local/lib/python3.11/dist-packages (1.3.1)\n",
            "Requirement already satisfied: numpy>=1.20.0 in /usr/local/lib/python3.11/dist-packages (from rsome) (1.26.4)\n",
            "Requirement already satisfied: scipy>=1.9.0 in /usr/local/lib/python3.11/dist-packages (from rsome) (1.13.1)\n",
            "Requirement already satisfied: pandas>=0.25.0 in /usr/local/lib/python3.11/dist-packages (from rsome) (2.2.2)\n",
            "Requirement already satisfied: python-dateutil>=2.8.2 in /usr/local/lib/python3.11/dist-packages (from pandas>=0.25.0->rsome) (2.8.2)\n",
            "Requirement already satisfied: pytz>=2020.1 in /usr/local/lib/python3.11/dist-packages (from pandas>=0.25.0->rsome) (2025.1)\n",
            "Requirement already satisfied: tzdata>=2022.7 in /usr/local/lib/python3.11/dist-packages (from pandas>=0.25.0->rsome) (2025.1)\n",
            "Requirement already satisfied: six>=1.5 in /usr/local/lib/python3.11/dist-packages (from python-dateutil>=2.8.2->pandas>=0.25.0->rsome) (1.17.0)\n",
            "Requirement already satisfied: mosek in /usr/local/lib/python3.11/dist-packages (11.0.11)\n",
            "Requirement already satisfied: numpy in /usr/local/lib/python3.11/dist-packages (from mosek) (1.26.4)\n",
            "Cloning into 'mosek_lic'...\n",
            "remote: Enumerating objects: 3, done.\u001b[K\n",
            "remote: Counting objects: 100% (3/3), done.\u001b[K\n",
            "remote: Compressing objects: 100% (2/2), done.\u001b[K\n",
            "remote: Total 3 (delta 0), reused 0 (delta 0), pack-reused 0 (from 0)\u001b[K\n",
            "Receiving objects: 100% (3/3), done.\n"
          ]
        }
      ],
      "source": [
        "!pip install rsome\n",
        "!pip install mosek\n",
        "!rm mosek.lic\n",
        "!git clone https://github.com/roberock/mosek_lic\n",
        "!cp ./mosek_lic/mosek.lic .\n",
        "!rm -r ./mosek_lic\n",
        "!mkdir -p /root/mosek\n",
        "!cp ./mosek.lic /root/mosek\n",
        "#!pip install -i https://pypi.gurobi.com gurobipy\n"
      ]
    },
    {
      "cell_type": "markdown",
      "metadata": {
        "id": "49mOeNalTaRu"
      },
      "source": [
        "WARNING!!!\n",
        "\n",
        "The following code uses a Personal Academic License file valid until **2026-jan-23**.\n",
        "\n",
        "If you have error messages informing you about licencing issues, you may try uncommenting the installation lines for Gurobi.\n",
        "\n",
        "Otherwise, we recommend that you obtain your own free accademic licence of either Mosek ([url](https://www.mosek.com/)) or Gurobi ([url](https://www.gurobi.com/))."
      ]
    },
    {
      "cell_type": "code",
      "execution_count": 30,
      "metadata": {
        "id": "QhATmoYKEBgk"
      },
      "outputs": [],
      "source": [
        "import numpy as np\n",
        "import rsome as rso\n",
        "from rsome import ro\n",
        "from rsome import msk_solver as my_solver   # Import Mosek solver interface\n",
        "#from rsome import grb_solver as my_solver  # Import Gurobi solver interface"
      ]
    },
    {
      "cell_type": "markdown",
      "source": [
        "For further details, see also the example 1.1.1 in the reference:\n",
        "\n",
        "A. Ben-Tal, L. El Ghaoui, and A. Nemirovski. *Robust Optimization*. Princeton Series in Applied Mathematics, 2009."
      ],
      "metadata": {
        "id": "8WZ12lUYK98_"
      }
    },
    {
      "cell_type": "markdown",
      "metadata": {
        "id": "I0-egwxNIWH9"
      },
      "source": [
        "## **Define a deterministic optimization problem**\n",
        "\n",
        "Define a simple production problem for a company. A **deterministic optimal production model** is defined as follows:\n",
        "\n",
        "\\begin{align}\n",
        "\\max\\limits_{\\theta}\\;& 6200n_1+6900n_2-(100m_1+199.90m_2+700n_1+800n_2)\\\\\n",
        "\\text{subject to}\\;&  m_1 + m_2 \\leq 1000  && \\text{(Storage)} \\\\\n",
        "                 & 90n_1 + 100n_2 \\leq 2000  && \\text{(Manpower)} \\\\\n",
        "                 & 40n_1 + 50n_2 \\leq 800  && \\text{(Equipment)} \\\\\n",
        "                 & 100m_1+199.9m_2+700n_1+800n_2 \\leq 100000 &&\\text{(Budget)} \\\\\n",
        "                 & 0.01m_1+0.02m_2-0.5n_1-0.6n_2 \\geq 0 &&\\text{(Catalyst/Agent A)} \\\\\n",
        "                 &  m_1\\geq0, m_2\\geq0, n_1 \\geq 0, n_2\\geq 0.\n",
        "\\end{align}\n",
        "\n",
        "\n",
        "**Descision variables:**\n",
        "- $(n_1,n_2)$: number of boxes (1000 packs/box) produced for drug type 1 and type 2\n",
        "- $(m_1, m_2)$: masses of raw material type 1 and Type 2\n",
        "\n",
        "**Model coefficients:**\n",
        "\n",
        "- $(c_1,c_2) = (6200, 6900)~~ [\\frac{CHF}{Box}]$ expected revenue per box and drug type\n",
        "- $(c_3,c_4) = (100, 199.9)~~ [\\frac{CHF}{kg}]$: costs of raw materials type 1 and 2\n",
        "- $(c_5,c_6) = (700, 800)~~ [\\frac{CHF}{Box}]$: production cost per box and drug type\n",
        "\n"
      ]
    },
    {
      "cell_type": "markdown",
      "source": [
        "## **Solve a deterministic optimization problem**\n",
        "\n",
        "In a compact form:\n",
        "\n",
        "\\begin{align}\n",
        "\\min\\limits_{\\theta\\in\\mathbb{R}^{+,n_\\theta}}\\;& c^T \\theta \\\\\n",
        "\\text{subject to}\\;&  A\\theta  \\leq b  &&  \\\\\n",
        "\\end{align}\n",
        "\n",
        "**Objective function:**\n",
        "\n",
        "- Maximize $6200n_1+6900n_2-(100m_1+199.90m_2+700n_1+800n_2) $\n",
        "- Minimize $ \\text{Cost}(\\theta, c) -\\text{Revenue}(\\theta, c)  = c^T \\theta$\n",
        "\n",
        "**Coefficients:**\n",
        "- $c = [-(c_1-c_5),-(c_2-c_6), c_3, c_4]$\n",
        "\n",
        "**Decision variables:**\n",
        "- $\\theta = [n_1, n_2, m_1, m_2]$\n",
        "   "
      ],
      "metadata": {
        "id": "FfxKrL8cZoad"
      }
    },
    {
      "cell_type": "code",
      "execution_count": 31,
      "metadata": {
        "colab": {
          "base_uri": "https://localhost:8080/"
        },
        "id": "MQODUPdPOHVn",
        "outputId": "768a6f37-f8da-46b9-d0d5-182066f4d4c0"
      },
      "outputs": [
        {
          "output_type": "stream",
          "name": "stdout",
          "text": [
            " ---------------- \n",
            "Optimal Solution Deterministic Problem\n",
            "Deterministic objective value\n",
            "n1 =  17.55 boxes drug 1\n",
            "n1 =  0.00 boxes drug 2\n",
            "m1 =  0.00 [kg] Raw material 1\n",
            "m2 =  438.79 [kg] Raw material 2\n",
            "Objective Function Value = 8819.66  CHF\n"
          ]
        }
      ],
      "source": [
        "from scipy.optimize import linprog # This function can be used to solve deterministic linear programs\n",
        "\n",
        "\n",
        "#1. definie coefficients for the objective function (to be maximized)\n",
        "# we can change sign of the operation......Negate the objective for minimization\n",
        "# from maximize_a Objective_function(a) --> to --> minimize_a -objective_function(a)\n",
        "c = [-(6200-700), -(6900-800), +100, +199.90]\n",
        "\n",
        "\n",
        "# REMARK by default we use the form Aθ≤b for the constraint (so change sign for the coefficient as appropriate)\n",
        "\n",
        "# Inequality constraint matrix\n",
        "A = [\n",
        "    [0, 0, 1, 1],  # Storage\n",
        "    [90, 100, 0, 0],  # ManPower\n",
        "    [40, 50, 0, 0],  # Equipment\n",
        "    [700, 800, 100, 199.9],   # Budget\n",
        "    [0.5, 0.6, -0.01, -0.02],  # Agent A # changing sign for <=0\n",
        "]\n",
        "\n",
        "# Inequality constraint vector (right-hand side)\n",
        "b = [1000,  # max storage in kg\n",
        "     2000,\n",
        "     800,\n",
        "     100000,  # total investment in monetary unit, e.g., [CHF], [EUR], [$])\n",
        "     0]\n",
        "\n",
        "\n",
        "def production_problem_det(c,A,b):\n",
        "  \"\"\"\n",
        "  this function is used to solve a linear program\n",
        "  # INPUTS:\n",
        "    c objective coefficients\n",
        "    A matrix of inequality constraints\n",
        "    b right-hand side of the inequality constraints\n",
        "  \"\"\"\n",
        "\n",
        "  # decision variables are non-negative\n",
        "  bounds = [(0, None), (0, None), (0, None), (0, None)]   # we define the domain for the decision variables\n",
        "\n",
        "  # run the function linprog and return the results\n",
        "  return linprog(c, A_ub=A, b_ub=b, bounds=bounds) # This function is used to solve linear programs\n",
        "\n",
        "#Run\n",
        "result = production_problem_det(c,A,b)\n",
        "\n",
        "# Determinisitc objective (net revenue)\n",
        "optobj_det = -result.fun\n",
        "\n",
        "# Print the results\n",
        "# print(result)\n",
        "\n",
        "if result.success:\n",
        "  print(\" ---------------- \")\n",
        "  print(\"Optimal Solution Deterministic Problem\")\n",
        "  print('Deterministic objective value')\n",
        "\n",
        "  print(f\"n1 =  {result.x[0]:.2f} boxes drug 1\")\n",
        "  print(f\"n1 =  {result.x[1]:.2f} boxes drug 2\")\n",
        "  print(f\"m1 =  {result.x[2]:.2f} [kg] Raw material 1\")\n",
        "  print(f\"m2 =  {result.x[3]:.2f} [kg] Raw material 2\")\n",
        "  print(f\"Objective Function Value = {optobj_det:.2f}  CHF\") #negate to get the maximized value\n",
        "else:\n",
        "    print(\"Optimization failed: \", result.message)"
      ]
    },
    {
      "cell_type": "markdown",
      "metadata": {
        "id": "jqIxHw52Ts9i"
      },
      "source": [
        "# **What could go wrong?**\n",
        "### **Evaluate a production damage**\n",
        "We designed the production. We bought material $(m_1,m_2)$, a customer is going to buy $(n_1,n_2)$\n",
        "\n",
        "\n",
        "\n",
        "**Unfortunately we realize that:**\n",
        "* We observe an error of up to 2 % error on the estimation of the conversion rate 0.02 of this raw material 2.\n",
        "* We observe an error of up to 0.5 % on the conversion rate for the raw material 1.\n",
        "\n",
        "\n",
        "\n",
        "Hence, in the **worst-case** for the consider 'perturbation' we will only get:\n",
        "* 0.0196 kg of agent A per kg of raw material 2\n",
        "* 0.0095 kg of agent A per kg of raw material 1.\n",
        "\n",
        "**We will define**\n",
        "\n",
        "* Different uncertainty sets, e.g., box, spherical and budgetted   \n",
        "* Determine how much missing agent A in the worst case?  \n",
        "* Define the problem with uncertain coefficients $A(u)$\n",
        "* Evaluate the worst-case profit   $\\max_u c^T \\theta$"
      ]
    },
    {
      "cell_type": "code",
      "execution_count": 32,
      "metadata": {
        "colab": {
          "base_uri": "https://localhost:8080/"
        },
        "id": "1xFx0CyTTtdN",
        "outputId": "1e54ec9b-46c2-445e-e3b4-e4fd2e2bdfb6"
      },
      "outputs": [
        {
          "output_type": "stream",
          "name": "stdout",
          "text": [
            "Deterministic solution: there could be up to 0.176 [g] of missing agent A\n"
          ]
        }
      ],
      "source": [
        "def worst_case_production_error(m1, m2, n1, n2, error_yeld1 = 0.005, error_yeld2=0.02 ):\n",
        "  \"\"\"\n",
        "  this function is used to compute the worst case missing Agent A (due to production errors u1, u2)\n",
        "  # INPUTS:\n",
        "    m1, m2, n1, n2: decision vector (masses of raw materials 1 and 2 and number of boxes produced of drug type I and II)\n",
        "    error_yeld1: worst case conversion rate error on raw material I (default value 0.005)\n",
        "    error_yeld2: worst case conversion rate error on raw material II (default value 0.02)\n",
        "\n",
        "  # OUT:\n",
        "    worst_case: worst case production error (missing Agent A)\n",
        "  \"\"\"\n",
        "\n",
        "  # how much Agent A from the raw materials 1 and 2?\n",
        "  agent_a_produced_with_raw1 = (1-error_yeld1)*0.01*m1\n",
        "  agent_a_produced_with_raw2 = (1-error_yeld2)*0.02*m2\n",
        "\n",
        "  # how much Agent A do we need to produce durgs 1 and 2?\n",
        "  consumed_with_durg_1 = 0.5*n1 # ammount per box times number of boxes\n",
        "  consumed_with_durg_2 = 0.6*n2\n",
        "\n",
        "  diff_agent_A = agent_a_produced_with_raw1+agent_a_produced_with_raw2-consumed_with_durg_1-consumed_with_durg_2\n",
        "  # diff_agent_A = 0 if production = consumtption,\n",
        "  # diff_agent_A > 0 if production > consumption,\n",
        "  # diff_agent_A < 0 if we do not have enough for the boxes n1 and n2 ( production < consumption )\n",
        "\n",
        "  worst_case = -min(0, diff_agent_A)   # we only look at cases where diff_agent_A<0 .....worst case yeild in [g] for agent A....worst case constraint violation in the inequality A<=b\n",
        "  return worst_case\n",
        "\n",
        "\n",
        "det_n1, det_n2 = result.x[0],  result.x[1]\n",
        "det_m1, det_m2  = result.x[2], result.x[3]\n",
        "worst_case_deterministic_solution = worst_case_production_error(det_m1, det_m2,\n",
        "                                                                det_n1, det_n2,\n",
        "                                                                error_yeld1 = 0.005,\n",
        "                                                                error_yeld2 = 0.02)\n",
        "\n",
        "\n",
        "print(f'Deterministic solution: there could be up to {worst_case_deterministic_solution:.3f} [g] of missing agent A');\n"
      ]
    },
    {
      "cell_type": "markdown",
      "source": [
        "# **We will now**\n",
        "\n",
        "- fix the resutls for the masses m1 and m2\n",
        "- find the optimal number of boxes n1, n2 while accounting for the errors in the production of agent A"
      ],
      "metadata": {
        "id": "mV-dtnZ9qA3I"
      }
    },
    {
      "cell_type": "code",
      "execution_count": 33,
      "metadata": {
        "id": "Fpg8uCXDyJ94",
        "colab": {
          "base_uri": "https://localhost:8080/"
        },
        "outputId": "a07257d0-a192-405d-ca51-73b080d36b71"
      },
      "outputs": [
        {
          "output_type": "stream",
          "name": "stdout",
          "text": [
            "Being solved by Mosek...\n",
            "Solution status: Optimal\n",
            "Running time: 0.0859s\n",
            "Same resut is obtained using the RSOME package with the Mosek solver\n",
            "Deterministic solution: Worst-case profit is 6888.99 [CHF] vs  8819.66 [CHF] of deterministic solution\n",
            "Deterministic solution: The unrealized profit is -1930.67 [CHF] 😭\n",
            "Deterministic solution: Due to loss in production of 351  packs of Drug I\n",
            "Deterministic solution: Due to loss in production of 0  packs of Drug II\n"
          ]
        }
      ],
      "source": [
        "# define the paramers (this is how much material we bought....mass RawI and mass RawII)\n",
        "RawI = det_m1;\n",
        "RawII = det_m2;\n",
        "\n",
        "#Create model\n",
        "model = ro.Model('production_raw_fixed_worst-case_scenario')\n",
        "\n",
        "# Define decision variables\n",
        "DrugI =model.dvar()             # Define a decision variable DrugI\n",
        "DrugII =model.dvar()            # Define a decision variable DrugII\n",
        "\n",
        "#Objective to maximize the profit\n",
        "model.max(6200*DrugI+6900*DrugII - (100*RawI+199.90*RawII+700*DrugI+800*DrugII))\n",
        "\n",
        "# Manpower constraint\n",
        "model.st(90*DrugI + 100*DrugII <= 2000)\n",
        "\n",
        "# Equipment constraint\n",
        "model.st(40*DrugI+50*DrugII <= 800)\n",
        "\n",
        "# Budget constraint\n",
        "model.st(100*RawI+199.9*RawII+700*DrugI+800*DrugII <= 100000)\n",
        "\n",
        "# Constraint to have enough active agent A under worst-case scenario\n",
        "model.st(0.01*(1-0.005)*RawI+0.02*(1-0.02)*RawII-0.5*DrugI-0.6*DrugII >= 0)\n",
        "\n",
        "# Constraints that decision variables are non-negative\n",
        "model.st(DrugI >= 0)                             # DrugI is non-negative\n",
        "model.st(DrugII >= 0)                            # DrugII is non-negative\n",
        "\n",
        "# solve the model\n",
        "model.solve(my_solver)\n",
        "\n",
        "wc_det = model.get()\n",
        "det_sol_wcDrugI   = DrugI.get()\n",
        "det_sol_wcDrugII   = DrugII.get()\n",
        "\n",
        "print('Same resut is obtained using the RSOME package with the Mosek solver')\n",
        "print('Deterministic solution: Worst-case profit is',np.round(wc_det,2), '[CHF] vs ', np.round(optobj_det,2), '[CHF] of deterministic solution')\n",
        "print('Deterministic solution: The unrealized profit is',np.round(wc_det-optobj_det,2), '[CHF] 😭')\n",
        "\n",
        "print('Deterministic solution: Due to loss in production of', int(1000*np.round(det_n1- det_sol_wcDrugI,3)), ' packs of Drug I')\n",
        "print('Deterministic solution: Due to loss in production of', int(1000*np.round(det_n2 - det_sol_wcDrugII,3)), ' packs of Drug II')"
      ]
    },
    {
      "cell_type": "code",
      "source": [
        "# Can we do better?\n",
        "\n",
        "# We will use the uncertainty set (box uncertainty)\n"
      ],
      "metadata": {
        "id": "DTMC1CDLH3hY"
      },
      "execution_count": 34,
      "outputs": []
    },
    {
      "cell_type": "markdown",
      "metadata": {
        "id": "ewdSCfEqxGW8"
      },
      "source": [
        "## **We will try now to solve a deterministic worst-case linear program**\n",
        "* Here we add worst-case error in the Agent A constraints\n",
        "\n",
        "\n",
        " $$A(u) = (0.5, 0.6, -0.01(1-0.005u_1), -0.02(1-0.02u_2)) $$\n",
        "\n",
        "\n",
        "This constraint is equivalent to an affine constraint:\n",
        "\n",
        "$$A(u)\\theta = (A_j+Pu)\\theta\\leq b_j$$\n",
        "\n",
        "where,\n",
        "\n",
        "* $A_j=[0.5, 0.6, -0.01, -0.02]$ the deterministic coefficients\n",
        "* $ u=[0, 0, 1, 1]$ we are taking the worst case\n",
        "* $P =[0, 0, -0.005, -0.02]$"
      ]
    },
    {
      "cell_type": "code",
      "source": [
        "# REMARK: the parameters c, b are not affected by the error, only the matrix A is.\n",
        "\n",
        "# Rewrite the inequality constraint matrix\n",
        "A_worst_case= [\n",
        "                  [0, 0, 1, 1],  # Storage\n",
        "                  [90, 100, 0, 0],  # ManPower\n",
        "                  [40, 50, 0, 0],  # Equipment\n",
        "                  [700, 800, 100, 199.9],   # Budget\n",
        "                  [0.5, 0.6, -0.01*(1-0.005), -0.02*(1-0.02)] # <-- Note that now we have included the worst case errors within the agent A constraint\n",
        "              ]\n",
        "\n",
        "\n",
        "# Run the function we defined before to solve the linear program\n",
        "result_worst_case = production_problem_det(c,A_worst_case,b)\n",
        "\n",
        "# Determinisitc revenue\n",
        "optobj_det_wc = -result_worst_case.fun\n",
        "\n",
        "if result_worst_case.success:\n",
        "  print(\" ---------------- \")\n",
        "  print(\"Solution Deterministic Problem with Uncertain Yield\")\n",
        "  print(f\"n1 =  {result_worst_case.x[0]:.2f} boxes drug 1\")\n",
        "  print(f\"n1 =  {result_worst_case.x[1]:.2f} boxes drug 2\")\n",
        "  print(f\"m1 =  {result_worst_case.x[2]:.2f} [kg] Raw material 1\")\n",
        "  print(f\"m2 =  {result_worst_case.x[3]:.2f} [kg] Raw material 2\")\n",
        "  print(f\"Objective Function Value = {optobj_det_wc:.2f}  CHF\")\n",
        "else:\n",
        "    print(\"Optimization failed: \", result_worst_case.message)"
      ],
      "metadata": {
        "colab": {
          "base_uri": "https://localhost:8080/"
        },
        "id": "whVcWa2FaZdK",
        "outputId": "9c08317e-8986-4627-b129-c33e8b503ede"
      },
      "execution_count": 35,
      "outputs": [
        {
          "output_type": "stream",
          "name": "stdout",
          "text": [
            " ---------------- \n",
            "Solution Deterministic Problem with Uncertain Yield\n",
            "n1 =  17.47 boxes drug 1\n",
            "n1 =  0.00 boxes drug 2\n",
            "m1 =  877.73 [kg] Raw material 1\n",
            "m2 =  0.00 [kg] Raw material 2\n",
            "Objective Function Value = 8294.57  CHF\n"
          ]
        }
      ]
    },
    {
      "cell_type": "markdown",
      "metadata": {
        "id": "fVmF6l1cyqfs"
      },
      "source": [
        "## **Solving a robust model with a box uncertainty set**\n",
        "\n",
        "Consider a robust version of the linear optimization problem we have seen before:\n",
        "\n",
        "\\begin{align}\n",
        "\\min\\limits_{\\theta\\in\\mathbb{R}^{+,n_\\theta}}\\;& c^T \\theta \\\\\n",
        "\\text{subject to}\\;&  A(u)\\theta  \\leq b,  &&   \\;\\forall\\, u\\in\\mathcal{U} \\\\\n",
        "\\end{align}\n",
        "where $\\mathcal{U}$ is a box-shaped uncertainty set: $$\\mathcal{U}:=\\{u\\in\\mathbb{R}^2 : |u_i| \\leq 1, \\forall i=1, 2\\}.$$\n",
        "\n",
        "**(Robsut constraint produced Agent A):**\n",
        "\n",
        "Revise budget constraint as follows\n",
        "\n",
        "$$ 0.01(1-0.005u_1)m_1+0.02(1-0.02u_2)m_2-0.5n_1-0.6n_2 \\geq 0   \\;\\forall\\,(u_1,u_2)\\in\\mathcal{U} $$\n",
        "\n",
        "\n",
        "\n",
        "\n"
      ]
    },
    {
      "cell_type": "code",
      "execution_count": 64,
      "metadata": {
        "colab": {
          "base_uri": "https://localhost:8080/"
        },
        "id": "Tn_Kg-VsxDwX",
        "outputId": "dd794365-8a9f-4106-f862-c7459fcb4f96"
      },
      "outputs": [
        {
          "output_type": "stream",
          "name": "stdout",
          "text": [
            "Being solved by Mosek...\n",
            "Solution status: Optimal\n",
            "Running time: 0.0019s\n",
            "Robust solution: Expected profit is 8294.57 CHF\n",
            "Robust solution: Robust Solution Raw Material I =  877.73\n",
            "Robust solution: Robust Solution Raw Material II =  0.0\n",
            "Robust solution: Robust Solution Drug I =  17.47\n",
            "Robust solution:  Robust Solution Drug II =  0.0\n",
            "When drifts are as small in a BOX set \u001b[91m it is possible to avoid a potential loss of 22 % by giving away 6.0 % of profit.A\u001b[0m ⚖️\n"
          ]
        }
      ],
      "source": [
        "#Create model\n",
        "model = ro.Model('robustproduction_box')\n",
        "\n",
        "max_error_1 = 0.005\n",
        "max_error_2 = 0.02\n",
        "\n",
        "# Define decision variables\n",
        "n1 =model.dvar()              # Define a decision variable for n boxes of Drug I\n",
        "n2 =model.dvar()              # Define a decision variable for n boxes of Drug II\n",
        "m1 =model.dvar()              # Define a decision variable mass Raw I\n",
        "m2 =model.dvar()              # Define a decision variable mass Raw II\n",
        "\n",
        "# Declare uncertain parameters and the box uncertainty set\n",
        "u = model.rvar(2)           # define 2 random variables\n",
        "boxSet = (abs(u) <= 1);     # each laing within a box [-1, 1]\n",
        "\n",
        "# Objective to maximize the profit\n",
        "model.max(6200*n1+6900*n2 - (100*m1+199.90*m2+700*n1+800*n2))\n",
        "\n",
        "# Constraints\n",
        "model.st(m1 + m2 <= 1000)                         # Storage constraint\n",
        "model.st(90*n1 + 100*n2 <= 2000)                  # Manpower constraint\n",
        "model.st(40*n1+50*n2 <= 800)                      # Equipment constraint\n",
        "model.st(100*m1+199.9*m2+700*n1+800*n2 <= 100000) # Budget constraint\n",
        "\n",
        "# Constraints that decision variables are non-negative\n",
        "model.st(n1 >= 0)           # DrugI is non-negative\n",
        "model.st(n2 >= 0)           # DrugII is non-negative\n",
        "model.st(m1 >= 0)           # RawI is non-negative\n",
        "model.st(m2 >= 0)           # RawII is non-negative\n",
        "\n",
        "# Constraint to have enough active agent A\n",
        "model.st((0.01*(1-max_error_1*u[0])*m1+0.02*(1-max_error_2*u[1])*m2-0.5*n1-0.6*n2 >= 0).forall(boxSet))\n",
        "\n",
        "# solve the model\n",
        "model.solve(my_solver)\n",
        "\n",
        "optobj_rob = model.get()      #get optimal objective value\n",
        "rob_sol_DrugI   = n1.get()    #get optimal solution\n",
        "rob_sol_DrugII  = n2.get()    #get optimal solution\n",
        "rob_sol_RawI    = m1.get()    #get optimal solution\n",
        "rob_sol_RawII   = m2.get()    #get optimal solution\n",
        "\n",
        "print('Robust solution: Expected profit is', np.round(optobj_rob,2), 'CHF')\n",
        "print('Robust solution: Robust Solution Raw Material I = ', np.round(rob_sol_RawI,2))\n",
        "print('Robust solution: Robust Solution Raw Material II = ', np.round(rob_sol_RawII,2))\n",
        "print('Robust solution: Robust Solution Drug I = ', np.round(rob_sol_DrugI,2))\n",
        "print('Robust solution:  Robust Solution Drug II = ', np.round(rob_sol_DrugII,2))\n",
        "print('When drifts are as small in a BOX set \\033[91m it is possible to avoid a potential loss of', \"{0:.0f}\".format((optobj_det-wc_det)/optobj_det*100),'% by giving away', \"{0:.1f}\".format((optobj_det-optobj_rob)/optobj_det*100),'% of profit.A\\033[0m ⚖️' )"
      ]
    },
    {
      "cell_type": "markdown",
      "source": [
        "## Is the new solution guaranteed against all the errors?\n",
        "\n",
        "* We will now sample random errors in $u_1 \\in [-1,1]$ and $u_2 \\in[-1,1]$\n",
        "* Demonstrate that for all samples we always sattisfy the deterministic constraint on Agent A.\n",
        "* In other words, the `worst_case_production_error ` function always return a 0  [g] of missing agent\n"
      ],
      "metadata": {
        "id": "eZf4rw7y__na"
      }
    },
    {
      "cell_type": "code",
      "source": [
        "# show that we are never missing [g] of Agent A\n",
        "for k in range(25):\n",
        "  u = np.random.uniform(-1,1,2)  # explore different yield errors in [-1,+1]\n",
        "  error_yeld1 = max_error_1*u[0]\n",
        "  error_yeld2 = max_error_2*u[1]\n",
        "  worst_case_robust = worst_case_production_error(m1=rob_sol_RawI,\n",
        "                                                m2=rob_sol_RawII,\n",
        "                                                n1=rob_sol_DrugI,\n",
        "                                                n2=rob_sol_DrugII,\n",
        "                                                error_yeld1 = error_yeld1,\n",
        "                                                error_yeld2 = error_yeld2)\n",
        "  if worst_case_robust>0:\n",
        "    print(f'\\033[91mCONSTRAINT IS NOT SATTISFIED, Missing agent A for u={u} is {worst_case_robust:.3f} [g] of missing agent A\\033[0m')\n",
        "  else:\n",
        "    print(f'\\033[92mCONSTRAINT IS OK for u={u} we have {worst_case_robust:.3f} [g] of missing agent A\\033[0m')\n",
        "\n"
      ],
      "metadata": {
        "colab": {
          "base_uri": "https://localhost:8080/"
        },
        "id": "L1kUXcKhCmxp",
        "outputId": "d5cbc9e2-5009-42ac-ed14-9caccc4e1090"
      },
      "execution_count": 56,
      "outputs": [
        {
          "output_type": "stream",
          "name": "stdout",
          "text": [
            "\u001b[92mCONSTRAINT IS OK for u=[-0.74635671  0.22466632] we have 0.000 [g] of missing agent A\u001b[0m\n",
            "\u001b[92mCONSTRAINT IS OK for u=[-0.70488512  0.28082963] we have 0.000 [g] of missing agent A\u001b[0m\n",
            "\u001b[92mCONSTRAINT IS OK for u=[-0.79987318 -0.30154485] we have 0.000 [g] of missing agent A\u001b[0m\n",
            "\u001b[92mCONSTRAINT IS OK for u=[-0.28707795  0.91889886] we have 0.000 [g] of missing agent A\u001b[0m\n",
            "\u001b[92mCONSTRAINT IS OK for u=[-0.93714715  0.08740163] we have 0.000 [g] of missing agent A\u001b[0m\n",
            "\u001b[92mCONSTRAINT IS OK for u=[ 0.73249521 -0.56760253] we have 0.000 [g] of missing agent A\u001b[0m\n",
            "\u001b[92mCONSTRAINT IS OK for u=[ 0.11661471 -0.85529519] we have 0.000 [g] of missing agent A\u001b[0m\n",
            "\u001b[92mCONSTRAINT IS OK for u=[-0.03942709  0.26632955] we have 0.000 [g] of missing agent A\u001b[0m\n",
            "\u001b[92mCONSTRAINT IS OK for u=[0.46142794 0.85173013] we have 0.000 [g] of missing agent A\u001b[0m\n",
            "\u001b[92mCONSTRAINT IS OK for u=[0.20943741 0.07602066] we have 0.000 [g] of missing agent A\u001b[0m\n",
            "\u001b[92mCONSTRAINT IS OK for u=[0.60506069 0.03696553] we have 0.000 [g] of missing agent A\u001b[0m\n",
            "\u001b[92mCONSTRAINT IS OK for u=[0.31203485 0.87640724] we have 0.000 [g] of missing agent A\u001b[0m\n",
            "\u001b[92mCONSTRAINT IS OK for u=[0.94975115 0.31552892] we have 0.000 [g] of missing agent A\u001b[0m\n",
            "\u001b[92mCONSTRAINT IS OK for u=[0.01361586 0.77568636] we have 0.000 [g] of missing agent A\u001b[0m\n",
            "\u001b[92mCONSTRAINT IS OK for u=[0.01619402 0.30843362] we have 0.000 [g] of missing agent A\u001b[0m\n",
            "\u001b[92mCONSTRAINT IS OK for u=[-0.50836796 -0.09622196] we have 0.000 [g] of missing agent A\u001b[0m\n",
            "\u001b[92mCONSTRAINT IS OK for u=[-0.78579929  0.66990256] we have 0.000 [g] of missing agent A\u001b[0m\n",
            "\u001b[92mCONSTRAINT IS OK for u=[ 0.86465534 -0.92949694] we have 0.000 [g] of missing agent A\u001b[0m\n",
            "\u001b[92mCONSTRAINT IS OK for u=[-0.926654  -0.4607955] we have 0.000 [g] of missing agent A\u001b[0m\n",
            "\u001b[92mCONSTRAINT IS OK for u=[-0.84336677  0.3387248 ] we have 0.000 [g] of missing agent A\u001b[0m\n",
            "\u001b[92mCONSTRAINT IS OK for u=[ 0.55688762 -0.02985593] we have 0.000 [g] of missing agent A\u001b[0m\n",
            "\u001b[92mCONSTRAINT IS OK for u=[ 0.59549698 -0.11342449] we have 0.000 [g] of missing agent A\u001b[0m\n",
            "\u001b[92mCONSTRAINT IS OK for u=[-0.72828996 -0.38523577] we have 0.000 [g] of missing agent A\u001b[0m\n",
            "\u001b[92mCONSTRAINT IS OK for u=[-0.55159054 -0.23326587] we have 0.000 [g] of missing agent A\u001b[0m\n",
            "\u001b[92mCONSTRAINT IS OK for u=[0.29900389 0.13550624] we have 0.000 [g] of missing agent A\u001b[0m\n"
          ]
        }
      ]
    },
    {
      "cell_type": "markdown",
      "source": [
        "## We do not have guarantees if the $u\\not\\in \\mathcal{U}$\n",
        "\n",
        "* We will now sample random errors in $u_1 \\in [-2,2]$ and $u_2 \\in[-2,2]$ (errors 2 times larger than expected)\n",
        "* Demonstrate that when $u\\not\\in \\mathcal{U}$, the `worst_case_production_error ` return a positve [g] of missing agent A.\n",
        "* In other words, we dont have enough material and the Agent A conostraint is not sattisfied."
      ],
      "metadata": {
        "id": "4JmnhEJaAnpw"
      }
    },
    {
      "cell_type": "code",
      "source": [
        "# WE ARE NOT GUARANTEED OUTSIDE FROM THE UNCERTAINTY SET (missing agent A)\n",
        "for k in range(25):\n",
        "\n",
        "  u = np.random.uniform(-2,2,2) # a wrong characterization of the error u in [-4,+4]\n",
        "\n",
        "  error_yeld1 = max_error_1*u[0]\n",
        "  error_yeld2 = max_error_2*u[1]\n",
        "  worst_case_robust = worst_case_production_error(m1=rob_sol_RawI,\n",
        "                                                m2=rob_sol_RawII,\n",
        "                                                n1=rob_sol_DrugI,\n",
        "                                                n2=rob_sol_DrugII,\n",
        "                                                error_yeld1 = error_yeld1,\n",
        "                                                error_yeld2 = error_yeld2)\n",
        "\n",
        "  if worst_case_robust>0:\n",
        "    print(f'\\033[91mCONSTRAINT IS NOT SATTISFIED, Missing agent A for u={u} is {worst_case_robust:.3f} [g] of missing agent A\\033[0m')\n",
        "  else:\n",
        "    print(f'\\033[92mCONSTRAINT IS OK for u={u} we have {worst_case_robust:.3f} [g] of missing agent A\\033[0m')\n"
      ],
      "metadata": {
        "id": "0HF-7MKyI2dP",
        "colab": {
          "base_uri": "https://localhost:8080/"
        },
        "outputId": "73ef4e72-005a-4840-cdd5-c418b9e000e3"
      },
      "execution_count": 58,
      "outputs": [
        {
          "output_type": "stream",
          "name": "stdout",
          "text": [
            "\u001b[92mCONSTRAINT IS OK for u=[0.42705199 0.77893546] we have 0.000 [g] of missing agent A\u001b[0m\n",
            "\u001b[92mCONSTRAINT IS OK for u=[-1.07152055  1.3527282 ] we have 0.000 [g] of missing agent A\u001b[0m\n",
            "\u001b[92mCONSTRAINT IS OK for u=[-0.64877876  0.31167208] we have 0.000 [g] of missing agent A\u001b[0m\n",
            "\u001b[92mCONSTRAINT IS OK for u=[-0.89206517  0.53985159] we have 0.000 [g] of missing agent A\u001b[0m\n",
            "\u001b[92mCONSTRAINT IS OK for u=[-0.20358571  1.32282758] we have 0.000 [g] of missing agent A\u001b[0m\n",
            "\u001b[91mCONSTRAINT IS NOT SATTISFIED, Missing agent A for u=[ 1.15031526 -0.2309285 ] is 0.007 [g] of missing agent A\u001b[0m\n",
            "\u001b[91mCONSTRAINT IS NOT SATTISFIED, Missing agent A for u=[ 1.27237812 -0.72217225] is 0.012 [g] of missing agent A\u001b[0m\n",
            "\u001b[92mCONSTRAINT IS OK for u=[ 0.08948892 -0.07520354] we have 0.000 [g] of missing agent A\u001b[0m\n",
            "\u001b[92mCONSTRAINT IS OK for u=[ 0.48573271 -1.86660587] we have 0.000 [g] of missing agent A\u001b[0m\n",
            "\u001b[92mCONSTRAINT IS OK for u=[-1.76563025  1.18550249] we have 0.000 [g] of missing agent A\u001b[0m\n",
            "\u001b[92mCONSTRAINT IS OK for u=[-1.91967512  1.59172432] we have 0.000 [g] of missing agent A\u001b[0m\n",
            "\u001b[92mCONSTRAINT IS OK for u=[-0.29900194 -0.97937118] we have 0.000 [g] of missing agent A\u001b[0m\n",
            "\u001b[92mCONSTRAINT IS OK for u=[-1.20463104 -0.65382684] we have 0.000 [g] of missing agent A\u001b[0m\n",
            "\u001b[92mCONSTRAINT IS OK for u=[0.70202943 1.91555589] we have 0.000 [g] of missing agent A\u001b[0m\n",
            "\u001b[91mCONSTRAINT IS NOT SATTISFIED, Missing agent A for u=[1.97826469 1.35932862] is 0.043 [g] of missing agent A\u001b[0m\n",
            "\u001b[91mCONSTRAINT IS NOT SATTISFIED, Missing agent A for u=[1.5113142  0.44561473] is 0.022 [g] of missing agent A\u001b[0m\n",
            "\u001b[92mCONSTRAINT IS OK for u=[0.25481302 1.94094898] we have 0.000 [g] of missing agent A\u001b[0m\n",
            "\u001b[92mCONSTRAINT IS OK for u=[-1.81538206 -1.54648222] we have 0.000 [g] of missing agent A\u001b[0m\n",
            "\u001b[92mCONSTRAINT IS OK for u=[0.93840012 0.43708655] we have 0.000 [g] of missing agent A\u001b[0m\n",
            "\u001b[92mCONSTRAINT IS OK for u=[-0.82184306 -0.98149034] we have 0.000 [g] of missing agent A\u001b[0m\n",
            "\u001b[92mCONSTRAINT IS OK for u=[ 0.52870324 -0.96278158] we have 0.000 [g] of missing agent A\u001b[0m\n",
            "\u001b[92mCONSTRAINT IS OK for u=[ 0.493218   -0.67370058] we have 0.000 [g] of missing agent A\u001b[0m\n",
            "\u001b[92mCONSTRAINT IS OK for u=[-0.80098745  1.2973124 ] we have 0.000 [g] of missing agent A\u001b[0m\n",
            "\u001b[92mCONSTRAINT IS OK for u=[-1.6930876   0.22721603] we have 0.000 [g] of missing agent A\u001b[0m\n",
            "\u001b[92mCONSTRAINT IS OK for u=[0.13015072 0.09684729] we have 0.000 [g] of missing agent A\u001b[0m\n"
          ]
        }
      ]
    },
    {
      "cell_type": "markdown",
      "source": [
        "## **Solve robust model with an ellipsoidal uncertainty set**\n",
        "\n",
        "Consider the following robust optimization model with an ellipsoidal uncertainty set:\n",
        "\n",
        "\\begin{align}\n",
        "\\max\\limits_{\\theta\\in\\mathbb{R}^{+,n_\\theta}}\\;& c^T \\theta \\\\\n",
        "\\text{subject to}\\;&  A(u)\\theta  \\leq b,  &&   \\;\\forall\\, u\\in\\mathcal{U} \\\\\n",
        "\\end{align}\n",
        "\n",
        "where $\\mathcal{U}:=\\left\\{u\\in\\mathbb{R}^2\\;\\middle|\\;  ||u||_2 = \\sqrt{u_1^2+u_2^2} \\leq 1\\right\\}.$"
      ],
      "metadata": {
        "id": "bBLOpkPzRCS1"
      }
    },
    {
      "cell_type": "code",
      "source": [
        "#Create model\n",
        "model = ro.Model('robustproduction_elipsoidal') # an uncertainty ball\n",
        "\n",
        "# Define decision variables\n",
        "n1 =model.dvar()              # Define a decision variable for n boxes of Drug I\n",
        "n2 =model.dvar()              # Define a decision variable for n boxes of Drug II\n",
        "m1 =model.dvar()              # Define a decision variable mass Raw I\n",
        "m2 =model.dvar()              # Define a decision variable mass Raw II\n",
        "\n",
        "# Declare uncertain parameters and the box uncertainty set\n",
        "u = model.rvar(2)                   # same as before, we define 2 uncertain variables using model.rvar\n",
        "BallSet= (rso.norm(u,2)<=1)         # we assume perturbations are within a ball of radius 1\n",
        "\n",
        "\n",
        "# Objective to maximize the profit\n",
        "model.max(6200*n1+6900*n2 - (100*m1+199.90*m2+700*n1+800*n2))\n",
        "\n",
        "# Constraints\n",
        "model.st(m1 + m2 <= 1000)                         # Storage constraint\n",
        "model.st(90*n1 + 100*n2 <= 2000)                  # Manpower constraint\n",
        "model.st(40*n1+50*n2 <= 800)                      # Equipment constraint\n",
        "model.st(100*m1+199.9*m2+700*n1+800*n2 <= 100000) # Budget constraint\n",
        "\n",
        "# Constraints that decision variables are non-negative\n",
        "model.st(n1 >= 0)           # DrugI is non-negative\n",
        "model.st(n2 >= 0)           # DrugII is non-negative\n",
        "model.st(m1 >= 0)           # RawI is non-negative\n",
        "model.st(m2 >= 0)           # RawII is non-negative\n",
        "\n",
        "# Constraint to have enough active agent A\n",
        "model.st((0.01*(1+0.005*u[0])*m1+0.02*(1+0.02*u[1])*m2-0.5*n1-0.6*n2 >= 0).forall(BallSet))\n",
        "\n",
        "# solve the model\n",
        "model.solve(my_solver)\n",
        "\n",
        "optobj_rob = model.get()      #get optimal objective value\n",
        "rob_sol_DrugI   = n1.get()    #get optimal solution\n",
        "rob_sol_DrugII  = n2.get()    #get optimal solution\n",
        "rob_sol_RawI    = m1.get()    #get optimal solution\n",
        "rob_sol_RawII   = m2.get()    #get optimal solution\n",
        "\n",
        "print('Robust solution: Expected profit is', np.round(optobj_rob,2), 'CHF')\n",
        "print('Robust solution: Robust Solution Raw Material I = ', np.round(rob_sol_RawI,2))\n",
        "print('Robust solution: Robust Solution Raw Material II = ', np.round(rob_sol_RawII,2))\n",
        "print('Robust solution: Robust Solution Drug I = ', np.round(rob_sol_DrugI,2))\n",
        "print('Robust solution:  Robust Solution Drug II = ', np.round(rob_sol_DrugII,2))\n"
      ],
      "metadata": {
        "colab": {
          "base_uri": "https://localhost:8080/"
        },
        "id": "bIRDqUKhQ8L1",
        "outputId": "1b33707c-15e6-4402-c9ce-d9b79fb9b45e"
      },
      "execution_count": 59,
      "outputs": [
        {
          "output_type": "stream",
          "name": "stdout",
          "text": [
            "Being solved by Mosek...\n",
            "Solution status: Optimal\n",
            "Running time: 0.0020s\n",
            "Robust solution: Expected profit is 8311.76 CHF\n",
            "Robust solution: Robust Solution Raw Material I =  821.12\n",
            "Robust solution: Robust Solution Raw Material II =  28.31\n",
            "Robust solution: Robust Solution Drug I =  17.47\n",
            "Robust solution:  Robust Solution Drug II =  0.0\n"
          ]
        }
      ]
    },
    {
      "cell_type": "markdown",
      "source": [
        "## **Solving a robust model with a budgeted uncertainty set**\n",
        "\n",
        "\n",
        "Consider the following robust optimization model:\n",
        "\\begin{align}\n",
        "\\max\\limits_{\\theta}\\;& 6200n_1+6900n_2-(100m_1+199.90m_2+700n_1+800n_2) \\\\\n",
        "\\text{subject to}\\;&  m_1 + m_2 \\leq 1000  && \\text{(Storage)} \\\\\n",
        "                 & 90n_1 + 100n_2 \\leq 2000  && \\text{(Manpower)} \\\\\n",
        "                 & 40n_1 + 50n_2 \\leq 800  && \\text{(Equipment)} \\\\\n",
        "                 & 100m_1+199.9m_2+700n_1+800n_2 \\leq 100000 &&\\text{(Budget)} \\\\\n",
        "                 & 0.01(1-0.005u_1)m_1+0.02(1-0.02u_2)m_2-0.5n_1-0.6n_2 \\geq 0   \\;\\forall\\,(u_1,u_2)\\in\\mathcal{U} && \\text{(Robsut constraint produced Agent A)} \\\\\n",
        "                 &  m_1\\geq0, m_2\\geq0, n_1 \\geq 0, n_2\\geq 0.\n",
        "\\end{align}\n",
        "\n",
        "where $\\mathcal{U}$ is a box-shaped uncertainty set: $$\\mathcal{U}:=\\{(u_1,u_2) \\in\\mathbb{R}^2\\;:\\; \\sum\\limits_{i=1}^2|z_i| \\leq \\Gamma, |z_i| \\leq 1, \\forall i =1,2\\}.$$\n",
        "\n",
        "Or in a compact form:\n",
        " $$\\mathcal{U}:=\\{u\\in\\mathbb{R}^2\\;:\\; ||z||_{1} \\leq \\Gamma, ||z||_{\\infty}  \\leq 1\\}.$$\n"
      ],
      "metadata": {
        "id": "aq_gYMPRWEGv"
      }
    },
    {
      "cell_type": "code",
      "source": [
        "#Create model\n",
        "model = ro.Model('robustproduction_budgeted')\n",
        "\n",
        "# Define decision variables\n",
        "n1 =model.dvar()              # Define a decision variable for n boxes of Drug I\n",
        "n2 =model.dvar()              # Define a decision variable for n boxes of Drug II\n",
        "m1 =model.dvar()              # Define a decision variable mass Raw I\n",
        "m2 =model.dvar()              # Define a decision variable mass Raw II\n",
        "\n",
        "\n",
        "# Declare uncertain parameters\n",
        "Gamma = 1.5\n",
        "u = model.rvar(2)\n",
        "budgetedSet=(abs(u) <= 1, rso.norm(u, 1) <=Gamma)  # define the budgeted uncertainty set\n",
        "\n",
        "# Objective to maximize the profit\n",
        "model.max(6200*n1+6900*n2 - (100*m1+199.90*m2+700*n1+800*n2))\n",
        "\n",
        "# Constraints\n",
        "model.st(m1 + m2 <= 1000)                         # Storage constraint\n",
        "model.st(90*n1 + 100*n2 <= 2000)                  # Manpower constraint\n",
        "model.st(40*n1+50*n2 <= 800)                      # Equipment constraint\n",
        "model.st(100*m1+199.9*m2+700*n1+800*n2 <= 100000) # Budget constraint\n",
        "\n",
        "# Constraints that decision variables are non-negative\n",
        "model.st(n1 >= 0)           # DrugI is non-negative\n",
        "model.st(n2 >= 0)           # DrugII is non-negative\n",
        "model.st(m1 >= 0)           # RawI is non-negative\n",
        "model.st(m2 >= 0)           # RawII is non-negative\n",
        "\n",
        "\n",
        "# Constraint to have enough active agent A\n",
        "model.st((0.01*(1+0.005*u[0])*m1+0.02*(1+0.02*u[1])*m2-0.5*n1-0.6*n2 >= 0).forall(budgetedSet))\n",
        "\n",
        "# solve the model\n",
        "model.solve(my_solver)\n",
        "\n",
        "optobj_rob = model.get()      #get optimal objective value\n",
        "rob_sol_DrugI   = n1.get()    #get optimal solution\n",
        "rob_sol_DrugII  = n2.get()    #get optimal solution\n",
        "rob_sol_RawI    = m1.get()    #get optimal solution\n",
        "rob_sol_RawII   = m2.get()    #get optimal solution\n",
        "\n",
        "print('Robust solution: Expected profit is', np.round(optobj_rob,2), 'CHF')\n",
        "print('Robust solution: Robust Solution Raw Material I = ', np.round(rob_sol_RawI,2))\n",
        "print('Robust solution: Robust Solution Raw Material II = ', np.round(rob_sol_RawII,2))\n",
        "print('Robust solution: Robust Solution Drug I = ', np.round(rob_sol_DrugI,2))\n",
        "print('Robust solution:  Robust Solution Drug II = ', np.round(rob_sol_DrugII,2))\n"
      ],
      "metadata": {
        "colab": {
          "base_uri": "https://localhost:8080/"
        },
        "id": "w2DkDt1oTIVT",
        "outputId": "6e943d00-9eb4-4cd7-9a5a-4c336b5596f2"
      },
      "execution_count": 60,
      "outputs": [
        {
          "output_type": "stream",
          "name": "stdout",
          "text": [
            "Being solved by Mosek...\n",
            "Solution status: Optimal\n",
            "Running time: 0.0030s\n",
            "Robust solution: Expected profit is 8294.57 CHF\n",
            "Robust solution: Robust Solution Raw Material I =  877.73\n",
            "Robust solution: Robust Solution Raw Material II =  0.0\n",
            "Robust solution: Robust Solution Drug I =  17.47\n",
            "Robust solution:  Robust Solution Drug II =  0.0\n"
          ]
        }
      ]
    },
    {
      "cell_type": "markdown",
      "source": [
        "# Bounus excercice\n",
        "\n",
        "* Example of RO with large uncertainy on several parameters (not only on the Yield rate of Agent A)\n",
        "\n",
        "* we will now assume we have uncertainty also in other parameters, not only in the conversion rate for agent A\n",
        "\n",
        "* specifically we will include 5% possible error in the selling prices (in the objective), budget availability, and on the equipment constraint\n",
        "\n",
        "You can try to investigate what is the worst case loss if we were using the deterministic solution on this 'larger' uncertainty set."
      ],
      "metadata": {
        "id": "933xSw8UatSO"
      }
    },
    {
      "cell_type": "code",
      "source": [
        "#Create model\n",
        "model = ro.Model('robustproduction_maxmin')\n",
        "\n",
        "# Define decision variables\n",
        "n1 =model.dvar()              # Define a decision variable for n boxes of Drug I\n",
        "n2 =model.dvar()              # Define a decision variable for n boxes of Drug II\n",
        "m1 =model.dvar()              # Define a decision variable mass Raw I\n",
        "m2 =model.dvar()              # Define a decision variable mass Raw II\n",
        "\n",
        "error_3 = 0.05 # error in the selling price, budget constrait and equiment constraint\n",
        "\n",
        "# Declare uncertain parameters\n",
        "u = model.rvar(6)\n",
        "BOX_U = (abs(u) <= 1)  # BOX UNCERTAINTY ON the 6 UNCERTAIN PARAMETERS\n",
        "\n",
        "# Objective to maximize the worst case (minimum) profit\n",
        "model.maxmin(6200*(1-error_3*u[4])*n1+6900*(1-error_3*u[5])*n2 - (100*m1+199.90*m2+700*n1+800*n2), BOX_U) # model.maxmin()\n",
        "\n",
        "# Constraints\n",
        "model.st(m1 + m2 <= 1000)                         # Storage constraint\n",
        "model.st(90*n1 + 100*n2 <= 2000)                  # Manpower constraint\n",
        "\n",
        "\n",
        "# Constraints that decision variables are non-negative\n",
        "model.st(n1 >= 0)           # DrugI is non-negative\n",
        "model.st(n2 >= 0)           # DrugII is non-negative\n",
        "model.st(m1 >= 0)           # RawI is non-negative\n",
        "model.st(m2 >= 0)           # RawII is non-negative\n",
        "\n",
        "\n",
        "# Constraint to have enough active agent A\n",
        "model.st((40*n1+50*n2 - 800*(1-error_3*u[2]) <= 0).forall(BOX_U))   # Equipment constraint\n",
        "model.st((100*m1+199.9*m2+700*n1+800*n2 -100000*(1-error_3*u[3])<= 0).forall(BOX_U)) # Budget constraint\n",
        "model.st((0.01*(1+0.005*u[0])*m1+0.02*(1+0.02*u[1])*m2-0.5*n1-0.6*n2 >= 0).forall(BOX_U))\n",
        "\n",
        "# solve the model\n",
        "model.solve(my_solver)\n",
        "\n",
        "optobj_rob = model.get()      #get optimal objective value\n",
        "rob_sol_DrugI   = n1.get()    #get optimal solution\n",
        "rob_sol_DrugII  = n2.get()    #get optimal solution\n",
        "rob_sol_RawI    = m1.get()    #get optimal solution\n",
        "rob_sol_RawII   = m2.get()    #get optimal solution\n",
        "\n",
        "print('Robust solution: Expected profit is', np.round(optobj_rob,2), 'CHF')\n",
        "print('Robust solution: Robust Solution Raw Material I = ', np.round(rob_sol_RawI,2))\n",
        "print('Robust solution: Robust Solution Raw Material II = ', np.round(rob_sol_RawII,2))\n",
        "print('Robust solution: Robust Solution Drug I = ', np.round(rob_sol_DrugI,2))\n",
        "print('Robust solution:  Robust Solution Drug II = ', np.round(rob_sol_DrugII,2))\n",
        "print('Drifts are moderate and on several constraints, we can avoid severe loss by giving away', \"{0:.1f}\".format((optobj_det-optobj_rob)/optobj_det*100),'% of profit.⚖️' )\n"
      ],
      "metadata": {
        "id": "iCmQbqiEucuG",
        "outputId": "dc9bb2fc-5f22-4848-b6fe-6b12a17648f7",
        "colab": {
          "base_uri": "https://localhost:8080/"
        }
      },
      "execution_count": 67,
      "outputs": [
        {
          "output_type": "stream",
          "name": "stdout",
          "text": [
            "Being solved by Mosek...\n",
            "Solution status: Optimal\n",
            "Running time: 0.0021s\n",
            "Robust solution: Expected profit is 2735.85 CHF\n",
            "Robust solution: Robust Solution Raw Material I =  833.85\n",
            "Robust solution: Robust Solution Raw Material II =  0.0\n",
            "Robust solution: Robust Solution Drug I =  16.59\n",
            "Robust solution:  Robust Solution Drug II =  0.0\n",
            "Drifts are moderate and on several constraints, we can avoid severe loss by giving away 69.0 % of profit.⚖️\n"
          ]
        }
      ]
    },
    {
      "cell_type": "code",
      "source": [],
      "metadata": {
        "id": "Caf1nDefD8Pw"
      },
      "execution_count": null,
      "outputs": []
    }
  ],
  "metadata": {
    "colab": {
      "provenance": [],
      "authorship_tag": "ABX9TyNuhBaceF9UYvGYE1otQFNb",
      "include_colab_link": true
    },
    "kernelspec": {
      "display_name": "Python 3",
      "name": "python3"
    },
    "language_info": {
      "name": "python"
    }
  },
  "nbformat": 4,
  "nbformat_minor": 0
}