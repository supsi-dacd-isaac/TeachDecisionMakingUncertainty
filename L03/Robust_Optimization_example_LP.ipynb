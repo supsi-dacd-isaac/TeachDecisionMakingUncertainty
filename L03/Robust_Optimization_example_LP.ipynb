{
  "cells": [
    {
      "cell_type": "markdown",
      "metadata": {
        "id": "view-in-github",
        "colab_type": "text"
      },
      "source": [
        "<a href=\"https://colab.research.google.com/github/supsi-dacd-isaac/TeachDecisionMakingUncertainty/blob/main/L03/Robust_Optimization_example_LP.ipynb\" target=\"_parent\"><img src=\"https://colab.research.google.com/assets/colab-badge.svg\" alt=\"Open In Colab\"/></a>"
      ]
    },
    {
      "cell_type": "code",
      "execution_count": 1,
      "metadata": {
        "colab": {
          "base_uri": "https://localhost:8080/"
        },
        "id": "6SJULpLR6Gp3",
        "outputId": "411b71ab-ad7a-49f8-cfcb-006eb0dbeb3d"
      },
      "outputs": [
        {
          "output_type": "stream",
          "name": "stdout",
          "text": [
            "Collecting rsome\n",
            "  Downloading rsome-1.3.1-py3-none-any.whl.metadata (7.0 kB)\n",
            "Requirement already satisfied: numpy>=1.20.0 in /usr/local/lib/python3.11/dist-packages (from rsome) (1.26.4)\n",
            "Requirement already satisfied: scipy>=1.9.0 in /usr/local/lib/python3.11/dist-packages (from rsome) (1.13.1)\n",
            "Requirement already satisfied: pandas>=0.25.0 in /usr/local/lib/python3.11/dist-packages (from rsome) (2.2.2)\n",
            "Requirement already satisfied: python-dateutil>=2.8.2 in /usr/local/lib/python3.11/dist-packages (from pandas>=0.25.0->rsome) (2.8.2)\n",
            "Requirement already satisfied: pytz>=2020.1 in /usr/local/lib/python3.11/dist-packages (from pandas>=0.25.0->rsome) (2024.2)\n",
            "Requirement already satisfied: tzdata>=2022.7 in /usr/local/lib/python3.11/dist-packages (from pandas>=0.25.0->rsome) (2025.1)\n",
            "Requirement already satisfied: six>=1.5 in /usr/local/lib/python3.11/dist-packages (from python-dateutil>=2.8.2->pandas>=0.25.0->rsome) (1.17.0)\n",
            "Downloading rsome-1.3.1-py3-none-any.whl (87 kB)\n",
            "\u001b[2K   \u001b[90m━━━━━━━━━━━━━━━━━━━━━━━━━━━━━━━━━━━━━━━━\u001b[0m \u001b[32m87.8/87.8 kB\u001b[0m \u001b[31m1.8 MB/s\u001b[0m eta \u001b[36m0:00:00\u001b[0m\n",
            "\u001b[?25hInstalling collected packages: rsome\n",
            "Successfully installed rsome-1.3.1\n",
            "Collecting mosek\n",
            "  Downloading Mosek-11.0.5-cp39-abi3-manylinux2014_x86_64.whl.metadata (697 bytes)\n",
            "Requirement already satisfied: numpy in /usr/local/lib/python3.11/dist-packages (from mosek) (1.26.4)\n",
            "Downloading Mosek-11.0.5-cp39-abi3-manylinux2014_x86_64.whl (14.7 MB)\n",
            "\u001b[2K   \u001b[90m━━━━━━━━━━━━━━━━━━━━━━━━━━━━━━━━━━━━━━━━\u001b[0m \u001b[32m14.7/14.7 MB\u001b[0m \u001b[31m48.7 MB/s\u001b[0m eta \u001b[36m0:00:00\u001b[0m\n",
            "\u001b[?25hInstalling collected packages: mosek\n",
            "Successfully installed mosek-11.0.5\n",
            "rm: cannot remove 'mosek.lic': No such file or directory\n",
            "Cloning into 'mosek_lic'...\n",
            "remote: Enumerating objects: 3, done.\u001b[K\n",
            "remote: Counting objects: 100% (3/3), done.\u001b[K\n",
            "remote: Compressing objects: 100% (2/2), done.\u001b[K\n",
            "remote: Total 3 (delta 0), reused 0 (delta 0), pack-reused 0 (from 0)\u001b[K\n",
            "Receiving objects: 100% (3/3), done.\n"
          ]
        }
      ],
      "source": [
        "!pip install rsome\n",
        "!pip install mosek\n",
        "!rm mosek.lic\n",
        "!git clone https://github.com/roberock/mosek_lic\n",
        "!cp ./mosek_lic/mosek.lic .\n",
        "!rm -r ./mosek_lic\n",
        "!mkdir -p /root/mosek\n",
        "!cp ./mosek.lic /root/mosek\n",
        "#!pip install -i https://pypi.gurobi.com gurobipy"
      ]
    },
    {
      "cell_type": "code",
      "execution_count": 2,
      "metadata": {
        "id": "EX-PWy1t7Jml"
      },
      "outputs": [],
      "source": [
        "import rsome as rso\n",
        "import numpy as np\n",
        "from rsome import ro\n",
        "from rsome import msk_solver as my_solver  #Import Mosek solver interface\n",
        "#from rsome import grb_solver as my_solver  #Import Gurobi solver interface"
      ]
    },
    {
      "cell_type": "code",
      "execution_count": 3,
      "metadata": {
        "id": "r7GV8z-w7UeC"
      },
      "outputs": [],
      "source": [
        "# Parameters setup\n",
        "n  = 150\n",
        "i = np.arange(1, n+1)\n",
        "c  = 0.15+ i*0.05/150\n",
        "a = np.zeros(n)\n",
        "b = 0.02\n",
        "\n",
        "# Describing the uncertainty\n",
        "maxDev = 0.05/450 * (2*i*n*(n+1))**0.5\n",
        "uBarPlus = maxDev\n",
        "uBarMinus = -maxDev"
      ]
    },
    {
      "cell_type": "markdown",
      "metadata": {
        "id": "lGgnewbE7d2U"
      },
      "source": [
        "## **Solving Deterministic Model**\n",
        "\n",
        "Consider the following linear programming problem:\n",
        "\\begin{align}\n",
        "\\max\\limits_{x}\\;\\;&c^\\top x \\\\\n",
        "\\text{subject to}\\;\\;& a^\\top x \\leq b\\\\\n",
        "& 0 \\leq x \\leq 1.\n",
        "\\end{align}"
      ]
    },
    {
      "cell_type": "code",
      "execution_count": 4,
      "metadata": {
        "colab": {
          "base_uri": "https://localhost:8080/"
        },
        "id": "qbLz4WTb7Ukk",
        "outputId": "7c033619-1c0f-4979-92de-9a27107dc882"
      },
      "outputs": [
        {
          "output_type": "stream",
          "name": "stdout",
          "text": [
            "Being solved by Mosek...\n",
            "Solution status: Optimal\n",
            "Running time: 0.0311s\n",
            "objective 26.275\n",
            "solution [1. 1. 1. 1. 1. 1. 1. 1. 1. 1. 1. 1. 1. 1. 1. 1. 1. 1. 1. 1. 1. 1. 1. 1.\n",
            " 1. 1. 1. 1. 1. 1. 1. 1. 1. 1. 1. 1. 1. 1. 1. 1. 1. 1. 1. 1. 1. 1. 1. 1.\n",
            " 1. 1. 1. 1. 1. 1. 1. 1. 1. 1. 1. 1. 1. 1. 1. 1. 1. 1. 1. 1. 1. 1. 1. 1.\n",
            " 1. 1. 1. 1. 1. 1. 1. 1. 1. 1. 1. 1. 1. 1. 1. 1. 1. 1. 1. 1. 1. 1. 1. 1.\n",
            " 1. 1. 1. 1. 1. 1. 1. 1. 1. 1. 1. 1. 1. 1. 1. 1. 1. 1. 1. 1. 1. 1. 1. 1.\n",
            " 1. 1. 1. 1. 1. 1. 1. 1. 1. 1. 1. 1. 1. 1. 1. 1. 1. 1. 1. 1. 1. 1. 1. 1.\n",
            " 1. 1. 1. 1. 1. 1.]\n"
          ]
        }
      ],
      "source": [
        "#Create model\n",
        "model = ro.Model('simpleExample_det')\n",
        "x=model.dvar(n)\n",
        "model.max(c@x)\n",
        "model.st(a@x<=b)\n",
        "model.st(x>=0)\n",
        "model.st(x<=1)\n",
        "model.solve(my_solver)\n",
        "optobj_det = model.get()\n",
        "xx_det   = x.get()\n",
        "print('objective',optobj_det)\n",
        "print('solution',xx_det)"
      ]
    },
    {
      "cell_type": "markdown",
      "metadata": {
        "id": "xEHLJQp27dwa"
      },
      "source": [
        "## **Solving Raw Robust Counterpart**\n",
        "\n",
        "Consider the following robust linear optimization problem:\n",
        "\\begin{align}\n",
        "\\max\\limits_{x}\\;\\;&c^\\top x \\\\\n",
        "\\text{subject to}\\\\ \\;\\;& (a + u)^\\top x \\leq b && \\forall u \\in \\mathcal{U}\\\\\n",
        "& 0 \\leq x \\leq 1,\n",
        "\\end{align}\n",
        "where $$\\mathcal{U}:=\\{u\\;|\\;\\bar{u}^- \\leq u \\leq \\bar{u}^+\\}.$$"
      ]
    },
    {
      "cell_type": "code",
      "execution_count": 5,
      "metadata": {
        "colab": {
          "base_uri": "https://localhost:8080/"
        },
        "id": "g1d6pn9T7Unu",
        "outputId": "ed0a1309-9082-43df-9415-5e902def9758"
      },
      "outputs": [
        {
          "output_type": "stream",
          "name": "stdout",
          "text": [
            "Being solved by Mosek...\n",
            "Solution status: Optimal\n",
            "Running time: 0.0026s\n",
            "objective 0.12713897073987465\n",
            "solution [0.84571377 0.         0.         0.         0.         0.\n",
            " 0.         0.         0.         0.         0.         0.\n",
            " 0.         0.         0.         0.         0.         0.\n",
            " 0.         0.         0.         0.         0.         0.\n",
            " 0.         0.         0.         0.         0.         0.\n",
            " 0.         0.         0.         0.         0.         0.\n",
            " 0.         0.         0.         0.         0.         0.\n",
            " 0.         0.         0.         0.         0.         0.\n",
            " 0.         0.         0.         0.         0.         0.\n",
            " 0.         0.         0.         0.         0.         0.\n",
            " 0.         0.         0.         0.         0.         0.\n",
            " 0.         0.         0.         0.         0.         0.\n",
            " 0.         0.         0.         0.         0.         0.\n",
            " 0.         0.         0.         0.         0.         0.\n",
            " 0.         0.         0.         0.         0.         0.\n",
            " 0.         0.         0.         0.         0.         0.\n",
            " 0.         0.         0.         0.         0.         0.\n",
            " 0.         0.         0.         0.         0.         0.\n",
            " 0.         0.         0.         0.         0.         0.\n",
            " 0.         0.         0.         0.         0.         0.\n",
            " 0.         0.         0.         0.         0.         0.\n",
            " 0.         0.         0.         0.         0.         0.\n",
            " 0.         0.         0.         0.         0.         0.\n",
            " 0.         0.         0.         0.         0.         0.\n",
            " 0.         0.         0.         0.         0.         0.        ]\n"
          ]
        }
      ],
      "source": [
        "#Create model\n",
        "model = ro.Model('simpleExample_rawrobust')\n",
        "x=model.dvar(n)\n",
        "\n",
        "#Create uncertain vector\n",
        "u = model.rvar(n)\n",
        "#Create uncertainty set\n",
        "USet = (u>=uBarMinus, u <= uBarPlus)\n",
        "model.max(c@x)\n",
        "#Robustify the constraint\n",
        "model.st(((a+u)@x<=b).forall(USet))\n",
        "model.st(x>=0)\n",
        "model.st(x<=1)\n",
        "model.solve(my_solver)\n",
        "\n",
        "optobj_raw = model.get()\n",
        "xx_raw   = x.get()\n",
        "\n",
        "print('objective',optobj_raw)\n",
        "print('solution',xx_raw)"
      ]
    },
    {
      "cell_type": "markdown",
      "metadata": {
        "id": "G6nVz4i87dky"
      },
      "source": [
        "## **Solving Reduced Robust Counterpart**\n",
        "\n",
        "The robust counterpart can be reformulated as follows:\n",
        "\n",
        "\\begin{align}\n",
        "\\max\\limits_{x,\\lambda^+,\\lambda^-}\\;\\;&c^\\top x \\\\\n",
        "\\text{subject to}\\\\\n",
        "\\;\\;& a ^\\top x + (\\bar{u}^+)^\\top \\lambda^+ - (\\bar{u}^-)^\\top \\lambda^- \\leq b, &&\\\\\n",
        "& \\lambda^+ -\\lambda^- =x, \\\\\n",
        "& \\lambda^- \\geq 0, \\\\\n",
        "& \\lambda^+ \\geq 0,\\\\\n",
        "& 0 \\leq x \\leq 1.\n",
        "\\end{align}"
      ]
    },
    {
      "cell_type": "code",
      "execution_count": 6,
      "metadata": {
        "colab": {
          "base_uri": "https://localhost:8080/"
        },
        "id": "Rp74n5OT7Upw",
        "outputId": "8a3594cb-59bb-4c09-c31d-d0e92ab85c71"
      },
      "outputs": [
        {
          "output_type": "stream",
          "name": "stdout",
          "text": [
            "Being solved by Mosek...\n",
            "Solution status: Optimal\n",
            "Running time: 0.0017s\n",
            "objective 0.12713897073987465\n",
            "solution [0.84571377 0.         0.         0.         0.         0.\n",
            " 0.         0.         0.         0.         0.         0.\n",
            " 0.         0.         0.         0.         0.         0.\n",
            " 0.         0.         0.         0.         0.         0.\n",
            " 0.         0.         0.         0.         0.         0.\n",
            " 0.         0.         0.         0.         0.         0.\n",
            " 0.         0.         0.         0.         0.         0.\n",
            " 0.         0.         0.         0.         0.         0.\n",
            " 0.         0.         0.         0.         0.         0.\n",
            " 0.         0.         0.         0.         0.         0.\n",
            " 0.         0.         0.         0.         0.         0.\n",
            " 0.         0.         0.         0.         0.         0.\n",
            " 0.         0.         0.         0.         0.         0.\n",
            " 0.         0.         0.         0.         0.         0.\n",
            " 0.         0.         0.         0.         0.         0.\n",
            " 0.         0.         0.         0.         0.         0.\n",
            " 0.         0.         0.         0.         0.         0.\n",
            " 0.         0.         0.         0.         0.         0.\n",
            " 0.         0.         0.         0.         0.         0.\n",
            " 0.         0.         0.         0.         0.         0.\n",
            " 0.         0.         0.         0.         0.         0.\n",
            " 0.         0.         0.         0.         0.         0.\n",
            " 0.         0.         0.         0.         0.         0.\n",
            " 0.         0.         0.         0.         0.         0.\n",
            " 0.         0.         0.         0.         0.         0.        ]\n"
          ]
        }
      ],
      "source": [
        "#Create model\n",
        "model = ro.Model('simpleExample_redrobust')\n",
        "x=model.dvar(n)\n",
        "#Create auxiliary variables\n",
        "lambdaPlus=model.dvar(n)\n",
        "lambdaMinus=model.dvar(n)\n",
        "\n",
        "model.max(c@x)\n",
        "#Modify the deterministic constraint\n",
        "model.st(a@x + uBarPlus@lambdaPlus - uBarMinus@lambdaMinus <=b)\n",
        "#Add constraints from dual representation of worst-case optimization\n",
        "model.st(lambdaPlus-lambdaMinus == x)\n",
        "model.st(lambdaPlus>=0)\n",
        "model.st(lambdaMinus>=0)\n",
        "\n",
        "model.st(x>= 0)\n",
        "model.st(x<=1)\n",
        "\n",
        "model.solve(my_solver)\n",
        "\n",
        "optobj_red = model.get()\n",
        "xx_red   = x.get()\n",
        "\n",
        "print('objective',optobj_red)\n",
        "print('solution',xx_red)"
      ]
    },
    {
      "cell_type": "code",
      "source": [],
      "metadata": {
        "id": "k_DuGNHDQLG-"
      },
      "execution_count": null,
      "outputs": []
    },
    {
      "cell_type": "markdown",
      "metadata": {
        "id": "161853Dm7d7T"
      },
      "source": []
    },
    {
      "cell_type": "markdown",
      "metadata": {
        "id": "61pH6jjG7d4-"
      },
      "source": [
        "\n",
        "# **Robust Portfolio Example**\n",
        "\n",
        "In this example, the portfolio construction problem discussed in the previous sections is solved using a robust optimization approach introduced in the paper **Bertsimas and Sim (2004)**. The robust model is presented below:\n",
        "\n",
        "### **Robust Optimization Model**\n",
        "$$\n",
        "\\max_{\\mathbf{x}} \\min_{\\mathbf{u} \\in \\mathcal{U}} \\sum_{i=1}^n (p_i + \\delta_i u_i)x_i\n",
        "$$\n",
        "subject to:\n",
        "$$\n",
        "\\sum_{i=1}^n x_i = 1, \\quad x_i \\geq 0, \\, \\forall i = 1, 2, \\dots, n,\n",
        "$$\n",
        "where the affine term $p_i + \\delta_i u_i$ represents the random stock return, and the random variable $u_i$ is bounded within $[-1, 1]$.\n",
        "\n",
        " Thus, the stock return has an arbitrary distribution in the interval $[p_i - \\delta_i, p_i + \\delta_i]$.\n",
        "\n",
        " The uncertainty set $\\mathcal{U}$ is given below:\n",
        "$$\n",
        "\\mathcal{U} = \\{\\mathbf{u} : \\|\\mathbf{u}\\|_\\infty \\leq 1, \\|\\mathbf{u}\\|_1 \\leq \\Gamma\\},\n",
        "$$\n",
        "where $\\Gamma$ is the budget of uncertainty parameter.\n",
        "\n",
        "### **Parameter Values**\n",
        "The values of the budget of uncertainty and other parameters are presented as follows:\n",
        "\n",
        "$$\n",
        "\\Gamma = 5, \\quad p_i = 1.15 + \\frac{i}{0.05 \\times 150}, \\quad \\delta_i = 0.05 \\sqrt{\\frac{450}{i(n+1)}}, \\, \\forall i = 1, 2, \\dots, n.\n",
        "$$\n"
      ]
    },
    {
      "cell_type": "code",
      "execution_count": 17,
      "metadata": {
        "colab": {
          "base_uri": "https://localhost:8080/",
          "height": 969
        },
        "id": "_3_JxGqn7Uu1",
        "outputId": "0b26dd78-e0d2-4884-c47a-891109ba0960"
      },
      "outputs": [
        {
          "output_type": "stream",
          "name": "stdout",
          "text": [
            "Being solved by Mosek...\n",
            "Solution status: Optimal\n",
            "Running time: 0.0092s\n",
            "objective 1.1568398884579691\n",
            "solution investment fractions [0.         0.         0.         0.         0.         0.\n",
            " 0.         0.         0.         0.         0.         0.\n",
            " 0.         0.         0.         0.         0.         0.\n",
            " 0.         0.         0.01409668 0.01377258 0.01346985 0.01318624\n",
            " 0.01291982 0.01266893 0.0124321  0.01220808 0.01199575 0.01179413\n",
            " 0.01160234 0.01141962 0.01124526 0.01107866 0.01091924 0.01076652\n",
            " 0.01062003 0.01047936 0.01034414 0.01021402 0.01008869 0.00996786\n",
            " 0.00985127 0.00973868 0.00962987 0.00952462 0.00942275 0.00932408\n",
            " 0.00922844 0.00913569 0.00904568 0.00895828 0.00887337 0.00879083\n",
            " 0.00871054 0.00863242 0.00855636 0.00848228 0.00841009 0.00833971\n",
            " 0.00827107 0.00820409 0.00813872 0.00807489 0.00801253 0.0079516\n",
            " 0.00789204 0.00783379 0.00777682 0.00772107 0.0076665  0.00761308\n",
            " 0.00756075 0.00750949 0.00745926 0.00741003 0.00736175 0.00731441\n",
            " 0.00726797 0.0072224  0.00717768 0.00713378 0.00709067 0.00704834\n",
            " 0.00700676 0.0069659  0.00692575 0.00688629 0.00684749 0.00680934\n",
            " 0.00677183 0.00673492 0.00669862 0.00666289 0.00662773 0.00659312\n",
            " 0.00655905 0.0065255  0.00649245 0.00645991 0.00642785 0.00639626\n",
            " 0.00636514 0.00633446 0.00630423 0.00627442 0.00624503 0.00621605\n",
            " 0.00618747 0.00615928 0.00613148 0.00610404 0.00607697 0.00605026\n",
            " 0.0060239  0.00599788 0.00597219 0.00594683 0.00592179 0.00589706\n",
            " 0.00587265 0.00584853 0.00582471 0.00580117 0.00577792 0.00575495\n",
            " 0.00573224 0.00570981 0.00568763 0.00566572 0.00564405 0.00562263\n",
            " 0.00560145 0.00558051 0.00555981 0.00553933 0.00551907 0.00549904\n",
            " 0.00547922 0.00545962 0.00544023 0.00542104 0.00540205 0.00538326\n",
            " 0.00536466 0.00534626 0.00532804 0.00531001 0.00529217 0.0052745 ]\n"
          ]
        },
        {
          "output_type": "execute_result",
          "data": {
            "text/plain": [
              "<BarContainer object of 150 artists>"
            ]
          },
          "metadata": {},
          "execution_count": 17
        },
        {
          "output_type": "display_data",
          "data": {
            "text/plain": [
              "<Figure size 640x480 with 1 Axes>"
            ],
            "image/png": "[encoded data removed]"
          },
          "metadata": {}
        }
      ],
      "source": [
        "# example of max min\n",
        "n = 150                                 # number of stocks\n",
        "i = np.arange(1, n+1)                   # indices of stocks\n",
        "p = 1.15 + i*0.05/150                   # mean returns\n",
        "delta = 0.05/450 * (2*i*n*(n+1))**0.5   # deviations of returns\n",
        "Gamma = 12                               # budget of uncertainty\n",
        "\n",
        "model = ro.Model()\n",
        "x = model.dvar(n)                       # fractions of investment\n",
        "z = model.rvar(n)                       # random variables\n",
        "\n",
        "model.maxmin((p + delta*z) @ x,         # the max-min objective\n",
        "             rso.norm(z, np.infty) <=1, # uncertainty set constraints\n",
        "             rso.norm(z, 1) <= Gamma)   # uncertainty set constraints\n",
        "model.st(sum(x) == 1)                   # summation of x is one\n",
        "model.st(x >= 0)                        # x is non-negative\n",
        "\n",
        "model.solve(my_solver)                  # solve the model\n",
        "\n",
        "\n",
        "print('objective',model.get())\n",
        "print('solution investment fractions',x.get())\n",
        "\n",
        "import matplotlib.pyplot as plt\n",
        "plt.bar(range(n), x.get())"
      ]
    },
    {
      "cell_type": "code",
      "source": [],
      "metadata": {
        "id": "iQhG57x6PW-Z"
      },
      "execution_count": 10,
      "outputs": []
    }
  ],
  "metadata": {
    "colab": {
      "provenance": [],
      "authorship_tag": "ABX9TyMlWNDIe2BijHBH7TZThMfP",
      "include_colab_link": true
    },
    "kernelspec": {
      "display_name": "Python 3",
      "name": "python3"
    },
    "language_info": {
      "name": "python"
    }
  },
  "nbformat": 4,
  "nbformat_minor": 0
}
