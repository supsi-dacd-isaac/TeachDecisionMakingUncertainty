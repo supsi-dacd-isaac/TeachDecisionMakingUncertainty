{
  "cells": [
    {
      "cell_type": "markdown",
      "metadata": {
        "id": "view-in-github",
        "colab_type": "text"
      },
      "source": [
        "<a href=\"https://colab.research.google.com/github/supsi-dacd-isaac/TeachDecisionMakingUncertainty/blob/main/L03/Robust_Optimization_example_LP.ipynb\" target=\"_parent\"><img src=\"https://colab.research.google.com/assets/colab-badge.svg\" alt=\"Open In Colab\"/></a>"
      ]
    },
    {
      "cell_type": "code",
      "execution_count": null,
      "metadata": {
        "colab": {
          "base_uri": "https://localhost:8080/"
        },
        "id": "6SJULpLR6Gp3",
        "outputId": "411b71ab-ad7a-49f8-cfcb-006eb0dbeb3d"
      },
      "outputs": [
        {
          "output_type": "stream",
          "name": "stdout",
          "text": [
            "Collecting rsome\n",
            "  Downloading rsome-1.3.1-py3-none-any.whl.metadata (7.0 kB)\n",
            "Requirement already satisfied: numpy>=1.20.0 in /usr/local/lib/python3.11/dist-packages (from rsome) (1.26.4)\n",
            "Requirement already satisfied: scipy>=1.9.0 in /usr/local/lib/python3.11/dist-packages (from rsome) (1.13.1)\n",
            "Requirement already satisfied: pandas>=0.25.0 in /usr/local/lib/python3.11/dist-packages (from rsome) (2.2.2)\n",
            "Requirement already satisfied: python-dateutil>=2.8.2 in /usr/local/lib/python3.11/dist-packages (from pandas>=0.25.0->rsome) (2.8.2)\n",
            "Requirement already satisfied: pytz>=2020.1 in /usr/local/lib/python3.11/dist-packages (from pandas>=0.25.0->rsome) (2024.2)\n",
            "Requirement already satisfied: tzdata>=2022.7 in /usr/local/lib/python3.11/dist-packages (from pandas>=0.25.0->rsome) (2025.1)\n",
            "Requirement already satisfied: six>=1.5 in /usr/local/lib/python3.11/dist-packages (from python-dateutil>=2.8.2->pandas>=0.25.0->rsome) (1.17.0)\n",
            "Downloading rsome-1.3.1-py3-none-any.whl (87 kB)\n",
            "\u001b[2K   \u001b[90m━━━━━━━━━━━━━━━━━━━━━━━━━━━━━━━━━━━━━━━━\u001b[0m \u001b[32m87.8/87.8 kB\u001b[0m \u001b[31m1.8 MB/s\u001b[0m eta \u001b[36m0:00:00\u001b[0m\n",
            "\u001b[?25hInstalling collected packages: rsome\n",
            "Successfully installed rsome-1.3.1\n",
            "Collecting mosek\n",
            "  Downloading Mosek-11.0.5-cp39-abi3-manylinux2014_x86_64.whl.metadata (697 bytes)\n",
            "Requirement already satisfied: numpy in /usr/local/lib/python3.11/dist-packages (from mosek) (1.26.4)\n",
            "Downloading Mosek-11.0.5-cp39-abi3-manylinux2014_x86_64.whl (14.7 MB)\n",
            "\u001b[2K   \u001b[90m━━━━━━━━━━━━━━━━━━━━━━━━━━━━━━━━━━━━━━━━\u001b[0m \u001b[32m14.7/14.7 MB\u001b[0m \u001b[31m48.7 MB/s\u001b[0m eta \u001b[36m0:00:00\u001b[0m\n",
            "\u001b[?25hInstalling collected packages: mosek\n",
            "Successfully installed mosek-11.0.5\n",
            "rm: cannot remove 'mosek.lic': No such file or directory\n",
            "Cloning into 'mosek_lic'...\n",
            "remote: Enumerating objects: 3, done.\u001b[K\n",
            "remote: Counting objects: 100% (3/3), done.\u001b[K\n",
            "remote: Compressing objects: 100% (2/2), done.\u001b[K\n",
            "remote: Total 3 (delta 0), reused 0 (delta 0), pack-reused 0 (from 0)\u001b[K\n",
            "Receiving objects: 100% (3/3), done.\n"
          ]
        }
      ],
      "source": [
        "!pip install rsome\n",
        "!pip install mosek\n",
        "!rm mosek.lic\n",
        "!git clone https://github.com/roberock/mosek_lic\n",
        "!cp ./mosek_lic/mosek.lic .\n",
        "!rm -r ./mosek_lic\n",
        "!mkdir -p /root/mosek\n",
        "!cp ./mosek.lic /root/mosek\n",
        "#!pip install -i https://pypi.gurobi.com gurobipy"
      ]
    },
    {
      "cell_type": "code",
      "execution_count": null,
      "metadata": {
        "id": "EX-PWy1t7Jml"
      },
      "outputs": [],
      "source": [
        "import rsome as rso\n",
        "import numpy as np\n",
        "from rsome import ro\n",
        "from rsome import msk_solver as my_solver  #Import Mosek solver interface\n",
        "#from rsome import grb_solver as my_solver  #Import Gurobi solver interface"
      ]
    },
    {
      "cell_type": "code",
      "execution_count": null,
      "metadata": {
        "id": "r7GV8z-w7UeC"
      },
      "outputs": [],
      "source": [
        "# Parameters setup\n",
        "n  = 150\n",
        "i = np.arange(1, n+1)\n",
        "c  = 0.15+ i*0.05/150\n",
        "a = np.zeros(n)\n",
        "b = 0.02\n",
        "\n",
        "# Describing the uncertainty\n",
        "maxDev = 0.05/450 * (2*i*n*(n+1))**0.5\n",
        "uBarPlus = maxDev\n",
        "uBarMinus = -maxDev"
      ]
    },
    {
      "cell_type": "markdown",
      "metadata": {
        "id": "lGgnewbE7d2U"
      },
      "source": [
        "## **Solving Deterministic Model**\n",
        "\n",
        "Consider the following linear programming problem:\n",
        "\\begin{align}\n",
        "\\max\\limits_{x}\\;\\;&c^\\top x \\\\\n",
        "\\text{subject to}\\;\\;& a^\\top x \\leq b\\\\\n",
        "& 0 \\leq x \\leq 1.\n",
        "\\end{align}"
      ]
    },
    {
      "cell_type": "code",
      "execution_count": null,
      "metadata": {
        "colab": {
          "base_uri": "https://localhost:8080/"
        },
        "id": "qbLz4WTb7Ukk",
        "outputId": "7c033619-1c0f-4979-92de-9a27107dc882"
      },
      "outputs": [
        {
          "output_type": "stream",
          "name": "stdout",
          "text": [
            "Being solved by Mosek...\n",
            "Solution status: Optimal\n",
            "Running time: 0.0311s\n",
            "objective 26.275\n",
            "solution [1. 1. 1. 1. 1. 1. 1. 1. 1. 1. 1. 1. 1. 1. 1. 1. 1. 1. 1. 1. 1. 1. 1. 1.\n",
            " 1. 1. 1. 1. 1. 1. 1. 1. 1. 1. 1. 1. 1. 1. 1. 1. 1. 1. 1. 1. 1. 1. 1. 1.\n",
            " 1. 1. 1. 1. 1. 1. 1. 1. 1. 1. 1. 1. 1. 1. 1. 1. 1. 1. 1. 1. 1. 1. 1. 1.\n",
            " 1. 1. 1. 1. 1. 1. 1. 1. 1. 1. 1. 1. 1. 1. 1. 1. 1. 1. 1. 1. 1. 1. 1. 1.\n",
            " 1. 1. 1. 1. 1. 1. 1. 1. 1. 1. 1. 1. 1. 1. 1. 1. 1. 1. 1. 1. 1. 1. 1. 1.\n",
            " 1. 1. 1. 1. 1. 1. 1. 1. 1. 1. 1. 1. 1. 1. 1. 1. 1. 1. 1. 1. 1. 1. 1. 1.\n",
            " 1. 1. 1. 1. 1. 1.]\n"
          ]
        }
      ],
      "source": [
        "#Create model\n",
        "model = ro.Model('simpleExample_det')\n",
        "x=model.dvar(n)\n",
        "model.max(c@x)\n",
        "model.st(a@x<=b)\n",
        "model.st(x>=0)\n",
        "model.st(x<=1)\n",
        "model.solve(my_solver)\n",
        "optobj_det = model.get()\n",
        "xx_det   = x.get()\n",
        "print('objective',optobj_det)\n",
        "print('solution',xx_det)"
      ]
    },
    {
      "cell_type": "markdown",
      "metadata": {
        "id": "xEHLJQp27dwa"
      },
      "source": [
        "## **Solving Raw Robust Counterpart**\n",
        "\n",
        "Consider the following robust linear optimization problem:\n",
        "\\begin{align}\n",
        "\\max\\limits_{x}\\;\\;&c^\\top x \\\\\n",
        "\\text{subject to}\\\\ \\;\\;& (a + u)^\\top x \\leq b && \\forall u \\in \\mathcal{U}\\\\\n",
        "& 0 \\leq x \\leq 1,\n",
        "\\end{align}\n",
        "where $$\\mathcal{U}:=\\{u\\;|\\;\\bar{u}^- \\leq u \\leq \\bar{u}^+\\}.$$"
      ]
    },
    {
      "cell_type": "code",
      "execution_count": null,
      "metadata": {
        "colab": {
          "base_uri": "https://localhost:8080/"
        },
        "id": "g1d6pn9T7Unu",
        "outputId": "ed0a1309-9082-43df-9415-5e902def9758"
      },
      "outputs": [
        {
          "output_type": "stream",
          "name": "stdout",
          "text": [
            "Being solved by Mosek...\n",
            "Solution status: Optimal\n",
            "Running time: 0.0026s\n",
            "objective 0.12713897073987465\n",
            "solution [0.84571377 0.         0.         0.         0.         0.\n",
            " 0.         0.         0.         0.         0.         0.\n",
            " 0.         0.         0.         0.         0.         0.\n",
            " 0.         0.         0.         0.         0.         0.\n",
            " 0.         0.         0.         0.         0.         0.\n",
            " 0.         0.         0.         0.         0.         0.\n",
            " 0.         0.         0.         0.         0.         0.\n",
            " 0.         0.         0.         0.         0.         0.\n",
            " 0.         0.         0.         0.         0.         0.\n",
            " 0.         0.         0.         0.         0.         0.\n",
            " 0.         0.         0.         0.         0.         0.\n",
            " 0.         0.         0.         0.         0.         0.\n",
            " 0.         0.         0.         0.         0.         0.\n",
            " 0.         0.         0.         0.         0.         0.\n",
            " 0.         0.         0.         0.         0.         0.\n",
            " 0.         0.         0.         0.         0.         0.\n",
            " 0.         0.         0.         0.         0.         0.\n",
            " 0.         0.         0.         0.         0.         0.\n",
            " 0.         0.         0.         0.         0.         0.\n",
            " 0.         0.         0.         0.         0.         0.\n",
            " 0.         0.         0.         0.         0.         0.\n",
            " 0.         0.         0.         0.         0.         0.\n",
            " 0.         0.         0.         0.         0.         0.\n",
            " 0.         0.         0.         0.         0.         0.\n",
            " 0.         0.         0.         0.         0.         0.        ]\n"
          ]
        }
      ],
      "source": [
        "#Create model\n",
        "model = ro.Model('simpleExample_rawrobust')\n",
        "x=model.dvar(n)\n",
        "\n",
        "#Create uncertain vector\n",
        "u = model.rvar(n)\n",
        "#Create uncertainty set\n",
        "USet = (u>=uBarMinus, u <= uBarPlus)\n",
        "model.max(c@x)\n",
        "#Robustify the constraint\n",
        "model.st(((a+u)@x<=b).forall(USet))\n",
        "model.st(x>=0)\n",
        "model.st(x<=1)\n",
        "model.solve(my_solver)\n",
        "\n",
        "optobj_raw = model.get()\n",
        "xx_raw   = x.get()\n",
        "\n",
        "print('objective',optobj_raw)\n",
        "print('solution',xx_raw)"
      ]
    },
    {
      "cell_type": "markdown",
      "metadata": {
        "id": "G6nVz4i87dky"
      },
      "source": [
        "## **Solving Reduced Robust Counterpart**\n",
        "\n",
        "The robust counterpart can be reformulated as follows:\n",
        "\n",
        "\\begin{align}\n",
        "\\max\\limits_{x,\\lambda^+,\\lambda^-}\\;\\;&c^\\top x \\\\\n",
        "\\text{subject to}\\\\\n",
        "\\;\\;& a ^\\top x + (\\bar{u}^+)^\\top \\lambda^+ - (\\bar{u}^-)^\\top \\lambda^- \\leq b, &&\\\\\n",
        "& \\lambda^+ -\\lambda^- =x, \\\\\n",
        "& \\lambda^- \\geq 0, \\\\\n",
        "& \\lambda^+ \\geq 0,\\\\\n",
        "& 0 \\leq x \\leq 1.\n",
        "\\end{align}"
      ]
    },
    {
      "cell_type": "code",
      "execution_count": null,
      "metadata": {
        "colab": {
          "base_uri": "https://localhost:8080/"
        },
        "id": "Rp74n5OT7Upw",
        "outputId": "8a3594cb-59bb-4c09-c31d-d0e92ab85c71"
      },
      "outputs": [
        {
          "output_type": "stream",
          "name": "stdout",
          "text": [
            "Being solved by Mosek...\n",
            "Solution status: Optimal\n",
            "Running time: 0.0017s\n",
            "objective 0.12713897073987465\n",
            "solution [0.84571377 0.         0.         0.         0.         0.\n",
            " 0.         0.         0.         0.         0.         0.\n",
            " 0.         0.         0.         0.         0.         0.\n",
            " 0.         0.         0.         0.         0.         0.\n",
            " 0.         0.         0.         0.         0.         0.\n",
            " 0.         0.         0.         0.         0.         0.\n",
            " 0.         0.         0.         0.         0.         0.\n",
            " 0.         0.         0.         0.         0.         0.\n",
            " 0.         0.         0.         0.         0.         0.\n",
            " 0.         0.         0.         0.         0.         0.\n",
            " 0.         0.         0.         0.         0.         0.\n",
            " 0.         0.         0.         0.         0.         0.\n",
            " 0.         0.         0.         0.         0.         0.\n",
            " 0.         0.         0.         0.         0.         0.\n",
            " 0.         0.         0.         0.         0.         0.\n",
            " 0.         0.         0.         0.         0.         0.\n",
            " 0.         0.         0.         0.         0.         0.\n",
            " 0.         0.         0.         0.         0.         0.\n",
            " 0.         0.         0.         0.         0.         0.\n",
            " 0.         0.         0.         0.         0.         0.\n",
            " 0.         0.         0.         0.         0.         0.\n",
            " 0.         0.         0.         0.         0.         0.\n",
            " 0.         0.         0.         0.         0.         0.\n",
            " 0.         0.         0.         0.         0.         0.\n",
            " 0.         0.         0.         0.         0.         0.        ]\n"
          ]
        }
      ],
      "source": [
        "#Create model\n",
        "model = ro.Model('simpleExample_redrobust')\n",
        "x=model.dvar(n)\n",
        "#Create auxiliary variables\n",
        "lambdaPlus=model.dvar(n)\n",
        "lambdaMinus=model.dvar(n)\n",
        "\n",
        "model.max(c@x)\n",
        "#Modify the deterministic constraint\n",
        "model.st(a@x + uBarPlus@lambdaPlus - uBarMinus@lambdaMinus <=b)\n",
        "#Add constraints from dual representation of worst-case optimization\n",
        "model.st(lambdaPlus-lambdaMinus == x)\n",
        "model.st(lambdaPlus>=0)\n",
        "model.st(lambdaMinus>=0)\n",
        "\n",
        "model.st(x>= 0)\n",
        "model.st(x<=1)\n",
        "\n",
        "model.solve(my_solver)\n",
        "\n",
        "optobj_red = model.get()\n",
        "xx_red   = x.get()\n",
        "\n",
        "print('objective',optobj_red)\n",
        "print('solution',xx_red)"
      ]
    }
  ],
  "metadata": {
    "colab": {
      "provenance": [],
      "authorship_tag": "ABX9TyM8YkBF5VX29XTo5DqMwc7s",
      "include_colab_link": true
    },
    "kernelspec": {
      "display_name": "Python 3",
      "name": "python3"
    },
    "language_info": {
      "name": "python"
    }
  },
  "nbformat": 4,
  "nbformat_minor": 0
}