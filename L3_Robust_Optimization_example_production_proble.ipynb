{
  "cells": [
    {
      "cell_type": "markdown",
      "metadata": {
        "id": "view-in-github",
        "colab_type": "text"
      },
      "source": [
        "<a href=\"https://colab.research.google.com/github/supsi-dacd-isaac/TeachDecisionMakingUncertainty/blob/main/L3_Robust_Optimization_example_production_proble.ipynb\" target=\"_parent\"><img src=\"https://colab.research.google.com/assets/colab-badge.svg\" alt=\"Open In Colab\"/></a>"
      ]
    },
    {
      "cell_type": "markdown",
      "metadata": {
        "id": "HDGFkKYTEDOM"
      },
      "source": [
        "AN EXAMPLE OF ROBUSTIFIED LINEAR PROGRAM\n",
        "Modified by:\n",
        " 1. Erick Delage (Created for ROME 14 April 2015)\n",
        " 2. Erick Delage (Adapted to RSOME in November 2020)\n",
        " 3. Roberto Rocchetta (January 2025)\n",
        "\n",
        "As discussed in example 2.5 of the  [lecture notes](http://tintin.hec.ca/pages/erick.delage/MATH80624_LectureNotes.pdf) of MATH80624 at HEC Montréal.\n"
      ]
    },
    {
      "cell_type": "markdown",
      "source": [
        "# **Preliminaries**\n",
        "\n",
        "\n",
        "\n",
        "1. `!pip install rsome`  \n",
        "   - Installs **RSOME**, a robust stochastic optimization modeling environment.\n",
        "\n",
        "2. `!pip install mosek`  \n",
        "   - Installs **MOSEK**, a solver for optimization problems.\n",
        "\n",
        "3. `!rm mosek.lic`  \n",
        "   - Removes any existing MOSEK license file (if present).\n",
        "\n",
        "4. `!git clone https://github.com/roberock/mosek_lic`  \n",
        "   - Clones a GitHub repository containing a MOSEK license file.\n",
        "\n",
        "5. `!cp ./mosek_lic/mosek.lic .`  \n",
        "   - Copies the license file to the current directory.\n",
        "\n",
        "6. `!rm -r ./mosek_lic`  \n",
        "   - Deletes the cloned repository after extracting the license.\n",
        "\n",
        "7. `!mkdir -p /root/mosek`  \n",
        "   - Creates a directory for MOSEK in the system’s root folder.\n",
        "\n",
        "8. `!cp ./mosek.lic /root/mosek`  \n",
        "   - Copies the MOSEK license file to the required directory.\n",
        "\n",
        "9. `#!pip install -i https://pypi.gurobi.com gurobipy`  \n",
        "   - (Commented out) Would install **Gurobi**, another solver, if needed.\n",
        "\n",
        "This setup ensures that **RSOME** and **MOSEK** are installed and properly licensed for optimization tasks. 🚀\n",
        "\n",
        "\n"
      ],
      "metadata": {
        "id": "ujpO-13gy_JV"
      }
    },
    {
      "cell_type": "code",
      "execution_count": 1,
      "metadata": {
        "colab": {
          "base_uri": "https://localhost:8080/"
        },
        "id": "q5oa7jOASlVP",
        "outputId": "0b367073-4e7d-44eb-dd31-54076f60d172"
      },
      "outputs": [
        {
          "output_type": "stream",
          "name": "stdout",
          "text": [
            "Collecting rsome\n",
            "  Downloading rsome-1.3.1-py3-none-any.whl.metadata (7.0 kB)\n",
            "Requirement already satisfied: numpy>=1.20.0 in /usr/local/lib/python3.11/dist-packages (from rsome) (1.26.4)\n",
            "Requirement already satisfied: scipy>=1.9.0 in /usr/local/lib/python3.11/dist-packages (from rsome) (1.13.1)\n",
            "Requirement already satisfied: pandas>=0.25.0 in /usr/local/lib/python3.11/dist-packages (from rsome) (2.2.2)\n",
            "Requirement already satisfied: python-dateutil>=2.8.2 in /usr/local/lib/python3.11/dist-packages (from pandas>=0.25.0->rsome) (2.8.2)\n",
            "Requirement already satisfied: pytz>=2020.1 in /usr/local/lib/python3.11/dist-packages (from pandas>=0.25.0->rsome) (2025.1)\n",
            "Requirement already satisfied: tzdata>=2022.7 in /usr/local/lib/python3.11/dist-packages (from pandas>=0.25.0->rsome) (2025.1)\n",
            "Requirement already satisfied: six>=1.5 in /usr/local/lib/python3.11/dist-packages (from python-dateutil>=2.8.2->pandas>=0.25.0->rsome) (1.17.0)\n",
            "Downloading rsome-1.3.1-py3-none-any.whl (87 kB)\n",
            "\u001b[?25l   \u001b[90m━━━━━━━━━━━━━━━━━━━━━━━━━━━━━━━━━━━━━━━━\u001b[0m \u001b[32m0.0/87.8 kB\u001b[0m \u001b[31m?\u001b[0m eta \u001b[36m-:--:--\u001b[0m\r\u001b[2K   \u001b[90m━━━━━━━━━━━━━━━━━━━━━━━━━━━━━━━━━━━━━━━━\u001b[0m \u001b[32m87.8/87.8 kB\u001b[0m \u001b[31m3.4 MB/s\u001b[0m eta \u001b[36m0:00:00\u001b[0m\n",
            "\u001b[?25hInstalling collected packages: rsome\n",
            "Successfully installed rsome-1.3.1\n",
            "Collecting mosek\n",
            "  Downloading Mosek-11.0.10-cp39-abi3-manylinux2014_x86_64.whl.metadata (698 bytes)\n",
            "Requirement already satisfied: numpy in /usr/local/lib/python3.11/dist-packages (from mosek) (1.26.4)\n",
            "Downloading Mosek-11.0.10-cp39-abi3-manylinux2014_x86_64.whl (14.7 MB)\n",
            "\u001b[2K   \u001b[90m━━━━━━━━━━━━━━━━━━━━━━━━━━━━━━━━━━━━━━━━\u001b[0m \u001b[32m14.7/14.7 MB\u001b[0m \u001b[31m60.0 MB/s\u001b[0m eta \u001b[36m0:00:00\u001b[0m\n",
            "\u001b[?25hInstalling collected packages: mosek\n",
            "Successfully installed mosek-11.0.10\n",
            "rm: cannot remove 'mosek.lic': No such file or directory\n",
            "Cloning into 'mosek_lic'...\n",
            "remote: Enumerating objects: 3, done.\u001b[K\n",
            "remote: Counting objects: 100% (3/3), done.\u001b[K\n",
            "remote: Compressing objects: 100% (2/2), done.\u001b[K\n",
            "remote: Total 3 (delta 0), reused 0 (delta 0), pack-reused 0 (from 0)\u001b[K\n",
            "Receiving objects: 100% (3/3), done.\n"
          ]
        }
      ],
      "source": [
        "!pip install rsome\n",
        "!pip install mosek\n",
        "!rm mosek.lic\n",
        "!git clone https://github.com/roberock/mosek_lic\n",
        "!cp ./mosek_lic/mosek.lic .\n",
        "!rm -r ./mosek_lic\n",
        "!mkdir -p /root/mosek\n",
        "!cp ./mosek.lic /root/mosek\n",
        "#!pip install -i https://pypi.gurobi.com gurobipy\n"
      ]
    },
    {
      "cell_type": "markdown",
      "metadata": {
        "id": "49mOeNalTaRu"
      },
      "source": [
        "WARNING!!!\n",
        "\n",
        "The following code uses a Personal Academic License file valid until **2026-jan-23**.\n",
        "\n",
        "If you have error messages informing you about licencing issues, you may try uncommenting the installation lines for Gurobi.\n",
        "\n",
        "Otherwise, we recommend that you obtain your own free accademic licence of either Mosek ([url](https://www.mosek.com/)) or Gurobi ([url](https://www.gurobi.com/))."
      ]
    },
    {
      "cell_type": "code",
      "execution_count": 3,
      "metadata": {
        "id": "QhATmoYKEBgk"
      },
      "outputs": [],
      "source": [
        "import numpy as np\n",
        "import rsome as rso\n",
        "from rsome import ro\n",
        "from rsome import msk_solver as my_solver   # Import Mosek solver interface\n",
        "#from rsome import grb_solver as my_solver  # Import Gurobi solver interface"
      ]
    },
    {
      "cell_type": "markdown",
      "source": [
        "For further details, see also the example 1.1.1 in the reference:\n",
        "\n",
        "A. Ben-Tal, L. El Ghaoui, and A. Nemirovski. *Robust Optimization*. Princeton Series in Applied Mathematics, 2009."
      ],
      "metadata": {
        "id": "8WZ12lUYK98_"
      }
    },
    {
      "cell_type": "markdown",
      "metadata": {
        "id": "I0-egwxNIWH9"
      },
      "source": [
        "## **Define a deterministic optimization problem**\n",
        "\n",
        "Define a simple production problem for a company. A **deterministic optimal production model** is defined as follows:\n",
        "\n",
        "\\begin{align}\n",
        "\\max\\limits_{\\theta}\\;& 6200n_1+6900n_2-(100m_1+199.90m_2+700n_1+800n_2)\\\\\n",
        "\\text{subject to}\\;&  m_1 + m_2 \\leq 1000  && \\text{(Storage)} \\\\\n",
        "                 & 90n_1 + 100n_2 \\leq 2000  && \\text{(Manpower)} \\\\\n",
        "                 & 40n_1 + 50n_2 \\leq 800  && \\text{(Equipment)} \\\\\n",
        "                 & 100m_1+199.9m_2+700n_1+800n_2 \\leq 100000 &&\\text{(Budget)} \\\\\n",
        "                 & 0.01m_1+0.02m_2-0.5n_1-0.6n_2 \\geq 0 &&\\text{(Catalyst/Agent A)} \\\\\n",
        "                 &  m_1\\geq0, m_2\\geq0, n_1 \\geq 0, n_2\\geq 0.\n",
        "\\end{align}\n",
        "\n",
        "\n",
        "**Descision variables:**\n",
        "- $(n_1,n_2)$: number of boxes (1000 packs/box) produced for drug type 1 and type 2\n",
        "- $(m_1, m_2)$: masses of raw material type 1 and Type 2\n",
        "\n",
        "**Model coefficients:**\n",
        "\n",
        "- $(c_1,c_2) = (6200, 6900)~~ [\\frac{CHF}{Box}]$ expected revenue per box and drug type\n",
        "- $(c_3,c_4) = (100, 199.9)~~ [\\frac{CHF}{kg}]$: costs of raw materials type 1 and 2\n",
        "- $(c_5,c_6) = (700, 800)~~ [\\frac{CHF}{Box}]$: production cost per box and drug type\n",
        "\n"
      ]
    },
    {
      "cell_type": "markdown",
      "source": [
        "## **Solve a deterministic optimization problem**\n",
        "\n",
        "In a compact form:\n",
        "\n",
        "\\begin{align}\n",
        "\\min\\limits_{\\theta\\in\\mathbb{R}^{+,n_\\theta}}\\;& c^T \\theta \\\\\n",
        "\\text{subject to}\\;&  A\\theta  \\leq b  &&  \\\\\n",
        "\\end{align}\n",
        "\n",
        "**Objective function:**\n",
        "\n",
        "- Maximize $6200n_1+6900n_2-(100m_1+199.90m_2+700n_1+800n_2) $\n",
        "- Minimize $ \\text{Cost}(\\theta, c) -\\text{Revenue}(\\theta, c)  = c^T \\theta$\n",
        "\n",
        "**Coefficients:**\n",
        "- $c = [-(c_1-c_5),-(c_2-c_6), c_3, c_4]$\n",
        "\n",
        "**Decision variables:**\n",
        "- $\\theta = [n_1, n_2, m_1, m_2]$\n",
        "   "
      ],
      "metadata": {
        "id": "FfxKrL8cZoad"
      }
    },
    {
      "cell_type": "markdown",
      "metadata": {
        "id": "CNkwSi4rN2sw"
      },
      "source": []
    },
    {
      "cell_type": "code",
      "execution_count": 12,
      "metadata": {
        "colab": {
          "base_uri": "https://localhost:8080/"
        },
        "id": "MQODUPdPOHVn",
        "outputId": "1eff1fb8-6998-42e1-c7fd-e5c1d048dc5c"
      },
      "outputs": [
        {
          "output_type": "stream",
          "name": "stdout",
          "text": [
            " ---------------- \n",
            "Optimal Solution Deterministic Problem\n",
            "Deterministic objective value\n",
            "n1 =  17.55 boxes drug 1\n",
            "n1 =  0.00 boxes drug 2\n",
            "m1 =  0.00 [kg] Raw material 1\n",
            "m2 =  438.79 [kg] Raw material 2\n",
            "Objective Function Value = 8819.66  CHF\n"
          ]
        }
      ],
      "source": [
        "from scipy.optimize import linprog # This function is used to solve linear programs\n",
        "\n",
        "\n",
        "# Objective function coefficients (to be maximized)\n",
        "c = [-(6200-700), -(6900-800), +100, +199.90]  # max_a f(a) --> min -f(a) Negate the objective for minimization\n",
        "\n",
        "\n",
        "# Inequality constraint matrix\n",
        "A = [\n",
        "    [0, 0, 1, 1],  # Storage\n",
        "    [90, 100, 0, 0],  # ManPower\n",
        "    [40, 50, 0, 0],  # Equipment\n",
        "    [700, 800, 100, 199.9],   # Budget\n",
        "    [0.5, 0.6, -0.01, -0.02],  # Agent A\n",
        "]\n",
        "\n",
        "# Inequality constraint vector\n",
        "b = [1000,\n",
        "     2000,\n",
        "     800,\n",
        "     100000,\n",
        "     0]\n",
        "\n",
        "def production_problem_det(c,A,b):\n",
        "  bounds = [(0, None), (0, None), (0, None), (0, None)]   # decision variables must be non-negative\n",
        "  return linprog(c, A_ub=A, b_ub=b, bounds=bounds) # This function is used to solve linear programs\n",
        "\n",
        "#Run\n",
        "result = production_problem_det(c,A,b)\n",
        "\n",
        "# Determinisitc objective (net revenue)\n",
        "optobj_det = -result.fun\n",
        "\n",
        "# Print the results\n",
        "# print(result)\n",
        "\n",
        "if result.success:\n",
        "  print(\" ---------------- \")\n",
        "  print(\"Optimal Solution Deterministic Problem\")\n",
        "  print('Deterministic objective value')\n",
        "\n",
        "  print(f\"n1 =  {result.x[0]:.2f} boxes drug 1\")\n",
        "  print(f\"n1 =  {result.x[1]:.2f} boxes drug 2\")\n",
        "  print(f\"m1 =  {result.x[2]:.2f} [kg] Raw material 1\")\n",
        "  print(f\"m2 =  {result.x[3]:.2f} [kg] Raw material 2\")\n",
        "  print(f\"Objective Function Value = {optobj_det:.2f}  CHF\") #negate to get the maximized value\n",
        "else:\n",
        "    print(\"Optimization failed: \", result.message)"
      ]
    },
    {
      "cell_type": "markdown",
      "metadata": {
        "id": "jqIxHw52Ts9i"
      },
      "source": [
        "## **What could go wrong?**\n",
        "## **Evaluate a production damage**\n",
        "We designed the production. We bought material $(m_1,m_2)$, a customer is going to buy $(n_1,n_2)$\n",
        "\n",
        "\n",
        "\n",
        "**Unfortunately we realize that:**\n",
        "* We observe an error of up to 2 % error on the estimation of the conversion rate 0.02 of this raw material 2.\n",
        "* We observe an error of up to 0.5 % on the conversion rate for the raw material 1.\n",
        "\n",
        "\n",
        "\n",
        "Hence, in the **worst-case** for the consider 'perturbation' we will only get:\n",
        "* 0.0196 kg of agent A per kg of raw material 2\n",
        "* 0.0095 kg of agent A per kg of raw material 1.\n",
        "\n",
        "**We will define**\n",
        "\n",
        "* Various uncertainty set, e.g., a box set $\\mathcal{U}=\\{u\\in\\mathbb{R}^2: \\max(|u_1|,|u_2|)\\leq 1  \\}$\n",
        "  \n",
        "* Determine how much missing agent A in the worst case? $w_{\\Delta_A} = \\min\\limits_{u\\in \\mathcal{U}}[\\text{Produced}(u,m_1,m_2)]-\\text{Consumed}(n_1,n_2)$\n",
        "\n",
        "* Define the problem with uncertain coefficients $A(u)$\n",
        "* Evaluate the worst-case profit   $\\max_u c^T \\theta$"
      ]
    },
    {
      "cell_type": "code",
      "execution_count": 13,
      "metadata": {
        "colab": {
          "base_uri": "https://localhost:8080/"
        },
        "id": "1xFx0CyTTtdN",
        "outputId": "ead45365-642c-4c8a-90a5-a3cdaa2c12d8"
      },
      "outputs": [
        {
          "output_type": "stream",
          "name": "stdout",
          "text": [
            "Deterministic solution: there could be up to 0.176 [g] of missing agent A\n"
          ]
        }
      ],
      "source": [
        "def worst_case_production_error(m1, m2, n1, n2, error_yeld1 = 0.005, error_yeld2=0.02 ):\n",
        "  \"\"\"get the worst case missing Agent A (due to production errors u1, u2)\"\"\"\n",
        "\n",
        "  # how much Agent A from the raw materials 1 and 2 ?\n",
        "  produced_with_raw1 = (1-error_yeld1)*0.01*m1\n",
        "  produced_with_raw2 = (1-error_yeld2)*0.02*m2\n",
        "\n",
        "  # how much Agent A do we need to produce durgs 1 and 2 ?\n",
        "  consumed_with_durg_1 = 0.5*n1\n",
        "  consumed_with_durg_2 = 0.6*n2\n",
        "\n",
        "  return -min(0, produced_with_raw1+produced_with_raw2-consumed_with_durg_1-consumed_with_durg_2)   # worst case yield [g] for agent A\n",
        "\n",
        "\n",
        "det_n1, det_n2 = result.x[0],  result.x[1]\n",
        "det_m1, det_m2  = result.x[2], result.x[3]\n",
        "worst_case_deterministic_solution = worst_case_production_error(det_m1, det_m2,\n",
        "                                                                det_n1, det_n2,\n",
        "                                                                error_yeld1 = 0.005,\n",
        "                                                                error_yeld2 = 0.02)\n",
        "\n",
        "\n",
        "print(f'Deterministic solution: there could be up to {worst_case_deterministic_solution:.3f} [g] of missing agent A');\n"
      ]
    },
    {
      "cell_type": "markdown",
      "metadata": {
        "id": "ewdSCfEqxGW8"
      },
      "source": [
        "## **Evaluating the worst-case profit**\n"
      ]
    },
    {
      "cell_type": "code",
      "source": [
        "# Objective function coefficients (to be maximized)\n",
        "c = [-(6200-700), -(6900-800), +100, +199.90]  # max J() --> min -J() Negated for maximization\n",
        "\n",
        "# Inequality constraint matrix\n",
        "A = [\n",
        "    [0, 0, 1, 1],\n",
        "    [90, 100, 0, 0],  # ManPower\n",
        "    [40, 50, 0, 0],  # Equipment\n",
        "    [700, 800, 100, 199.9],   # Budget\n",
        "    [0.5, 0.6, -0.01*(1-0.005), -0.02*(1-0.02)],  # Catalyst\n",
        "]\n",
        "\n",
        "# Inequality constraint vector\n",
        "b = [1000,\n",
        "     2000,\n",
        "     800,\n",
        "     100000,\n",
        "     0]\n",
        "\n",
        "def production_problem_det(c,A,b):\n",
        "  # decision variables are non-negative\n",
        "  bounds = [(0, None), (0, None), (det_m1, det_m1), (det_m2, det_m2)] # we already ordered the raw material....so we can fix the boudns it to known solution det_m1, det_m2\n",
        "  # value <= a <= value\n",
        "  return linprog(c, A_ub=A, b_ub=b, bounds=bounds)  # Solve the linear program\n",
        "\n",
        "# Run\n",
        "result_wc = production_problem_det(c,A,b)\n",
        "\n",
        "# Determinisitc revenue\n",
        "optobj_det_wc = -result_wc.fun\n",
        "\n",
        "if result_wc.success:\n",
        "  print(\" ---------------- \")\n",
        "  print(\"Solution Deterministic Problem with Uncertain Yield\")\n",
        "  print(f\"n1 =  {result_wc.x[0]:.2f} boxes drug 1\")\n",
        "  print(f\"n1 =  {result_wc.x[1]:.2f} boxes drug 2\")\n",
        "  print(f\"m1 =  {result_wc.x[2]:.2f} [kg] Raw material 1\")\n",
        "  print(f\"m2 =  {result_wc.x[3]:.2f} [kg] Raw material 2\")\n",
        "  print(f\"Objective Function Value = {optobj_det_wc:.2f}  CHF\")\n",
        "else:\n",
        "    print(\"Optimization failed: \", result_wc.message)"
      ],
      "metadata": {
        "colab": {
          "base_uri": "https://localhost:8080/"
        },
        "id": "whVcWa2FaZdK",
        "outputId": "36a4a907-e284-41e1-b745-41059a850cb3"
      },
      "execution_count": 14,
      "outputs": [
        {
          "output_type": "stream",
          "name": "stdout",
          "text": [
            " ---------------- \n",
            "Solution Deterministic Problem with Uncertain Yield\n",
            "n1 =  17.20 boxes drug 1\n",
            "n1 =  0.00 boxes drug 2\n",
            "m1 =  0.00 [kg] Raw material 1\n",
            "m2 =  438.79 [kg] Raw material 2\n",
            "Objective Function Value = 6888.99  CHF\n"
          ]
        }
      ]
    },
    {
      "cell_type": "code",
      "execution_count": 15,
      "metadata": {
        "id": "Fpg8uCXDyJ94",
        "colab": {
          "base_uri": "https://localhost:8080/"
        },
        "outputId": "9be0772f-2ab8-45c6-850e-be12f287291c"
      },
      "outputs": [
        {
          "output_type": "stream",
          "name": "stdout",
          "text": [
            "Being solved by Mosek...\n",
            "Solution status: Optimal\n",
            "Running time: 0.0027s\n",
            "Same resut is obtained using the RSOME package with the Mosek solver\n",
            "Deterministic solution: Worst-case profit is 6888.99 [CHF] vs  8819.66 [CHF] of deterministic solution\n",
            "Deterministic solution: The unrealized profit is -1930.67 [CHF] 😭\n",
            "Deterministic solution: Due to loss in production of 351  packs of Drug I\n",
            "Deterministic solution: Due to loss in production of 0  packs of Drug II\n"
          ]
        }
      ],
      "source": [
        "# define the paramers (this is how much material we bought....mass RawI and mass RawII)\n",
        "RawI = det_m1;\n",
        "RawII = det_m2;\n",
        "\n",
        "#Create model\n",
        "model = ro.Model('production_raw_fixed_worst-case_scenario')\n",
        "\n",
        "# Define decision variables\n",
        "DrugI =model.dvar()             # Define a decision variable DrugI\n",
        "DrugII =model.dvar()            # Define a decision variable DrugII\n",
        "\n",
        "#Objective to maximize the profit\n",
        "model.max(6200*DrugI+6900*DrugII - (100*RawI+199.90*RawII+700*DrugI+800*DrugII))\n",
        "\n",
        "# Manpower constraint\n",
        "model.st(90*DrugI + 100*DrugII <= 2000)\n",
        "\n",
        "# Equipment constraint\n",
        "model.st(40*DrugI+50*DrugII <= 800)\n",
        "\n",
        "# Budget constraint\n",
        "model.st(100*RawI+199.9*RawII+700*DrugI+800*DrugII <= 100000)\n",
        "\n",
        "# Constraint to have enough active agent A under worst-case scenario\n",
        "model.st(0.01*(1-0.005)*RawI+0.02*(1-0.02)*RawII-0.5*DrugI-0.6*DrugII >= 0)\n",
        "\n",
        "# Constraints that decision variables are non-negative\n",
        "model.st(DrugI >= 0)                             # DrugI is non-negative\n",
        "model.st(DrugII >= 0)                            # DrugII is non-negative\n",
        "\n",
        "# solve the model\n",
        "model.solve(my_solver)\n",
        "\n",
        "wc_det = model.get()\n",
        "det_sol_wcDrugI   = DrugI.get()\n",
        "det_sol_wcDrugII   = DrugII.get()\n",
        "\n",
        "print('Same resut is obtained using the RSOME package with the Mosek solver')\n",
        "print('Deterministic solution: Worst-case profit is',np.round(wc_det,2), '[CHF] vs ', np.round(optobj_det,2), '[CHF] of deterministic solution')\n",
        "print('Deterministic solution: The unrealized profit is',np.round(wc_det-optobj_det,2), '[CHF] 😭')\n",
        "\n",
        "print('Deterministic solution: Due to loss in production of', int(1000*np.round(det_n1- det_sol_wcDrugI,3)), ' packs of Drug I')\n",
        "print('Deterministic solution: Due to loss in production of', int(1000*np.round(det_n2 - det_sol_wcDrugII,3)), ' packs of Drug II')"
      ]
    },
    {
      "cell_type": "code",
      "source": [
        "# Can we do better?\n",
        "\n",
        "# Try solving the problem using a uncertainty set (box uncertainty)\n"
      ],
      "metadata": {
        "id": "DTMC1CDLH3hY"
      },
      "execution_count": 10,
      "outputs": []
    },
    {
      "cell_type": "markdown",
      "metadata": {
        "id": "fVmF6l1cyqfs"
      },
      "source": [
        "## **Solving a robust model with a box uncertainty set**\n",
        "\n",
        "Consider a robust version of the linear optimization problem we have seen before:\n",
        "\n",
        "\\begin{align}\n",
        "\\min\\limits_{\\theta\\in\\mathbb{R}^{+,n_\\theta}}\\;& c^T \\theta \\\\\n",
        "\\text{subject to}\\;&  A(u)\\theta  \\leq b,  &&   \\;\\forall\\, u\\in\\mathcal{U} \\\\\n",
        "\\end{align}\n",
        "where $\\mathcal{U}$ is a box-shaped uncertainty set: $$\\mathcal{U}:=\\{u\\in\\mathbb{R}^2 : |u_i| \\leq 1, \\forall i=1, 2\\}.$$\n",
        "\n",
        "**(Robsut constraint produced Agent A):**\n",
        "\n",
        "Revise budget constraint as follows\n",
        "\n",
        "$$ 0.01(1-0.005u_1)m_1+0.02(1-0.02u_2)m_2-0.5n_1-0.6n_2 \\geq 0   \\;\\forall\\,(u_1,u_2)\\in\\mathcal{U} $$\n",
        "\n",
        "\n",
        "\n",
        "\n"
      ]
    },
    {
      "cell_type": "code",
      "execution_count": 16,
      "metadata": {
        "colab": {
          "base_uri": "https://localhost:8080/"
        },
        "id": "Tn_Kg-VsxDwX",
        "outputId": "600e4228-acac-4ac3-8af0-a8bb1ddfe12d"
      },
      "outputs": [
        {
          "output_type": "stream",
          "name": "stdout",
          "text": [
            "Being solved by Mosek...\n",
            "Solution status: Optimal\n",
            "Running time: 0.0013s\n",
            "Robust solution: Expected profit is 8294.57 CHF\n",
            "Robust solution: Robust Solution Raw Material I =  877.73\n",
            "Robust solution: Robust Solution Raw Material II =  0.0\n",
            "Robust solution: Robust Solution Drug I =  17.47\n",
            "Robust solution:  Robust Solution Drug II =  0.0\n",
            "When drifts are as small in a BOX set it is possible to avoid a potential loss of 22 % by giving away 6.0 % of profit.⚖️\n"
          ]
        }
      ],
      "source": [
        "#Create model\n",
        "model = ro.Model('robustproduction_box')\n",
        "\n",
        "max_error_1 = 0.005\n",
        "max_error_2 = 0.02\n",
        "\n",
        "# Define decision variables\n",
        "n1 =model.dvar()              # Define a decision variable for n boxes of Drug I\n",
        "n2 =model.dvar()              # Define a decision variable for n boxes of Drug II\n",
        "m1 =model.dvar()              # Define a decision variable mass Raw I\n",
        "m2 =model.dvar()              # Define a decision variable mass Raw II\n",
        "\n",
        "# Declare uncertain parameters and the box uncertainty set\n",
        "u = model.rvar(2)           # define 2 random variables\n",
        "boxSet = (abs(u) <= 1);     # each laing within a box [-1, 1]\n",
        "\n",
        "# Objective to maximize the profit\n",
        "model.max(6200*n1+6900*n2 - (100*m1+199.90*m2+700*n1+800*n2))\n",
        "\n",
        "# Constraints\n",
        "model.st(m1 + m2 <= 1000)                         # Storage constraint\n",
        "model.st(90*n1 + 100*n2 <= 2000)                  # Manpower constraint\n",
        "model.st(40*n1+50*n2 <= 800)                      # Equipment constraint\n",
        "model.st(100*m1+199.9*m2+700*n1+800*n2 <= 100000) # Budget constraint\n",
        "\n",
        "# Constraints that decision variables are non-negative\n",
        "model.st(n1 >= 0)           # DrugI is non-negative\n",
        "model.st(n2 >= 0)           # DrugII is non-negative\n",
        "model.st(m1 >= 0)           # RawI is non-negative\n",
        "model.st(m2 >= 0)           # RawII is non-negative\n",
        "\n",
        "# Constraint to have enough active agent A\n",
        "model.st((0.01*(1-max_error_1*u[0])*m1+0.02*(1-max_error_2*u[1])*m2-0.5*n1-0.6*n2 >= 0).forall(boxSet))\n",
        "\n",
        "# solve the model\n",
        "model.solve(my_solver)\n",
        "\n",
        "optobj_rob = model.get()      #get optimal objective value\n",
        "rob_sol_DrugI   = n1.get()    #get optimal solution\n",
        "rob_sol_DrugII  = n2.get()    #get optimal solution\n",
        "rob_sol_RawI    = m1.get()    #get optimal solution\n",
        "rob_sol_RawII   = m2.get()    #get optimal solution\n",
        "\n",
        "print('Robust solution: Expected profit is', np.round(optobj_rob,2), 'CHF')\n",
        "print('Robust solution: Robust Solution Raw Material I = ', np.round(rob_sol_RawI,2))\n",
        "print('Robust solution: Robust Solution Raw Material II = ', np.round(rob_sol_RawII,2))\n",
        "print('Robust solution: Robust Solution Drug I = ', np.round(rob_sol_DrugI,2))\n",
        "print('Robust solution:  Robust Solution Drug II = ', np.round(rob_sol_DrugII,2))\n",
        "\n",
        "print('When drifts are as small in a BOX set it is possible to avoid a potential loss of', \"{0:.0f}\".format((optobj_det-wc_det)/optobj_det*100),'% by giving away', \"{0:.1f}\".format((optobj_det-optobj_rob)/optobj_det*100),'% of profit.⚖️' )"
      ]
    },
    {
      "cell_type": "code",
      "source": [
        "# show that we are never missing [g] of Agent A\n",
        "for k in range(15):\n",
        "  u = np.random.uniform(-1,1,2)  # explore different yield errors in [-1,+1]\n",
        "  error_yeld1 = max_error_1*u[0]\n",
        "  error_yeld2 = max_error_2*u[1]\n",
        "  worst_case_robust = worst_case_production_error(m1=rob_sol_RawI,\n",
        "                                                m2=rob_sol_RawII,\n",
        "                                                n1=rob_sol_DrugI,\n",
        "                                                n2=rob_sol_DrugII,\n",
        "                                                error_yeld1 = error_yeld1,\n",
        "                                                error_yeld2 = error_yeld2)\n",
        "\n",
        "  print(f'Missing agent A for u={u} is {worst_case_robust:.3f} [g] of missing agent A');\n",
        ""
      ],
      "metadata": {
        "colab": {
          "base_uri": "https://localhost:8080/"
        },
        "id": "L1kUXcKhCmxp",
        "outputId": "67b8fa47-d574-469c-d257-8808b4bd5b2e"
      },
      "execution_count": 18,
      "outputs": [
        {
          "output_type": "stream",
          "name": "stdout",
          "text": [
            "Missing agent A for u=[ 0.09352064 -0.50163743] is 0.000 [g] of missing agent A\n",
            "Missing agent A for u=[-0.07640788 -0.68185009] is 0.000 [g] of missing agent A\n",
            "Missing agent A for u=[ 0.11937168 -0.69312311] is 0.000 [g] of missing agent A\n",
            "Missing agent A for u=[-0.59079322 -0.94739427] is 0.000 [g] of missing agent A\n",
            "Missing agent A for u=[-0.2577293   0.29435005] is 0.000 [g] of missing agent A\n",
            "Missing agent A for u=[0.79185192 0.33494048] is 0.000 [g] of missing agent A\n",
            "Missing agent A for u=[-0.92389903  0.79421271] is 0.000 [g] of missing agent A\n",
            "Missing agent A for u=[0.58207537 0.98307422] is 0.000 [g] of missing agent A\n",
            "Missing agent A for u=[-0.74423737  0.10763463] is 0.000 [g] of missing agent A\n",
            "Missing agent A for u=[-0.88140806 -0.06352612] is 0.000 [g] of missing agent A\n",
            "Missing agent A for u=[0.54583285 0.08022886] is 0.000 [g] of missing agent A\n",
            "Missing agent A for u=[-0.51044466  0.99698051] is 0.000 [g] of missing agent A\n",
            "Missing agent A for u=[-0.0304653   0.23671119] is 0.000 [g] of missing agent A\n",
            "Missing agent A for u=[-0.95517276  0.35844143] is 0.000 [g] of missing agent A\n",
            "Missing agent A for u=[ 0.24970059 -0.75106165] is 0.000 [g] of missing agent A\n"
          ]
        }
      ]
    },
    {
      "cell_type": "code",
      "source": [
        "# WE ARE NOT GUARANTEED OUTSIDE FROM THE UNCERTAINTY SET (missing agent A)\n",
        "for k in range(15):\n",
        "\n",
        "  u = np.random.uniform(-4,4,2) # clearly, a wrong characterization of the error can lead to some issues\n",
        "  error_yeld1 = max_error_1*u[0]\n",
        "  error_yeld2 = max_error_2*u[1]\n",
        "  worst_case_robust = worst_case_production_error(m1=rob_sol_RawI,\n",
        "                                                m2=rob_sol_RawII,\n",
        "                                                n1=rob_sol_DrugI,\n",
        "                                                n2=rob_sol_DrugII,\n",
        "                                                error_yeld1 = error_yeld1,\n",
        "                                                error_yeld2 = error_yeld2)\n",
        "\n",
        "  print(f'Missing agent A for u={u} is {worst_case_robust:.4f} [g] of missing agent A');"
      ],
      "metadata": {
        "id": "0HF-7MKyI2dP",
        "colab": {
          "base_uri": "https://localhost:8080/"
        },
        "outputId": "8ba1f4e5-7a8a-4b10-9828-d6a00566d005"
      },
      "execution_count": 19,
      "outputs": [
        {
          "output_type": "stream",
          "name": "stdout",
          "text": [
            "Missing agent A for u=[-2.03040253  0.7073723 ] is 0.0000 [g] of missing agent A\n",
            "Missing agent A for u=[0.87791492 1.95721194] is 0.0000 [g] of missing agent A\n",
            "Missing agent A for u=[-1.16357954  3.76703224] is 0.0000 [g] of missing agent A\n",
            "Missing agent A for u=[-3.64941117  3.93534111] is 0.0000 [g] of missing agent A\n",
            "Missing agent A for u=[-1.71913185 -2.87973743] is 0.0000 [g] of missing agent A\n",
            "Missing agent A for u=[-1.91371989 -1.70581753] is 0.0000 [g] of missing agent A\n",
            "Missing agent A for u=[-3.79831721  2.37807766] is 0.0000 [g] of missing agent A\n",
            "Missing agent A for u=[-0.12518988 -1.24621658] is 0.0000 [g] of missing agent A\n",
            "Missing agent A for u=[-1.4143018  -1.89749455] is 0.0000 [g] of missing agent A\n",
            "Missing agent A for u=[-3.74914271 -3.9548681 ] is 0.0000 [g] of missing agent A\n",
            "Missing agent A for u=[2.39893834 3.37769169] is 0.0614 [g] of missing agent A\n",
            "Missing agent A for u=[0.33667145 2.7753352 ] is 0.0000 [g] of missing agent A\n",
            "Missing agent A for u=[2.96216056 1.3334492 ] is 0.0861 [g] of missing agent A\n",
            "Missing agent A for u=[3.83560735 1.82761359] is 0.1244 [g] of missing agent A\n",
            "Missing agent A for u=[-2.82530907 -1.20630223] is 0.0000 [g] of missing agent A\n"
          ]
        }
      ]
    },
    {
      "cell_type": "markdown",
      "source": [
        "## **Solve robust model with an ellipsoidal uncertainty set**\n",
        "\n",
        "Consider the following robust optimization model with an ellipsoidal uncertainty set:\n",
        "\n",
        "\\begin{align}\n",
        "\\max\\limits_{\\theta\\in\\mathbb{R}^{+,n_\\theta}}\\;& c^T \\theta \\\\\n",
        "\\text{subject to}\\;&  A(u)\\theta  \\leq b,  &&   \\;\\forall\\, u\\in\\mathcal{U} \\\\\n",
        "\\end{align}\n",
        "\n",
        "where $\\mathcal{U}:=\\left\\{u\\in\\mathbb{R}^2\\;\\middle|\\;  ||u||_2 = \\sqrt{u_1^2+u_2^2} \\leq 1\\right\\}.$"
      ],
      "metadata": {
        "id": "bBLOpkPzRCS1"
      }
    },
    {
      "cell_type": "code",
      "source": [
        "#Create model\n",
        "model = ro.Model('robustproduction_elipsoidal')\n",
        "\n",
        "#implement your optimization problem with an elipsoidal uncertainty set\n",
        "\n",
        "#  TO BE COMPLETED"
      ],
      "metadata": {
        "colab": {
          "base_uri": "https://localhost:8080/"
        },
        "id": "bIRDqUKhQ8L1",
        "outputId": "cf1d331e-5849-4469-af65-43e4ab4156f2"
      },
      "execution_count": 20,
      "outputs": [
        {
          "output_type": "stream",
          "name": "stdout",
          "text": [
            "Being solved by Mosek...\n",
            "Solution status: Optimal\n",
            "Running time: 0.0025s\n",
            "Robust solution: Expected profit is 8311.76 CHF\n",
            "Robust solution: Robust Solution Raw Material I =  821.12\n",
            "Robust solution: Robust Solution Raw Material II =  28.31\n",
            "Robust solution: Robust Solution Drug I =  17.47\n",
            "Robust solution:  Robust Solution Drug II =  0.0\n",
            "When drifts are as small in a BALL set it is possible to avoid a potential loss of 22 % by giving away 5.8 % of profit.⚖️\n"
          ]
        }
      ]
    },
    {
      "cell_type": "markdown",
      "source": [
        "## **Solving a robust model with a budgeted uncertainty set**\n",
        "\n",
        "\n",
        "Consider the following robust optimization model:\n",
        "\\begin{align}\n",
        "\\max\\limits_{\\theta}\\;& 6200n_1+6900n_2-(100m_1+199.90m_2+700n_1+800n_2) \\\\\n",
        "\\text{subject to}\\;&  m_1 + m_2 \\leq 1000  && \\text{(Storage)} \\\\\n",
        "                 & 90n_1 + 100n_2 \\leq 2000  && \\text{(Manpower)} \\\\\n",
        "                 & 40n_1 + 50n_2 \\leq 800  && \\text{(Equipment)} \\\\\n",
        "                 & 100m_1+199.9m_2+700n_1+800n_2 \\leq 100000 &&\\text{(Budget)} \\\\\n",
        "                 & 0.01(1-0.005u_1)m_1+0.02(1-0.02u_2)m_2-0.5n_1-0.6n_2 \\geq 0   \\;\\forall\\,(u_1,u_2)\\in\\mathcal{U} && \\text{(Robsut constraint produced Agent A)} \\\\\n",
        "                 &  m_1\\geq0, m_2\\geq0, n_1 \\geq 0, n_2\\geq 0.\n",
        "\\end{align}\n",
        "\n",
        "where $\\mathcal{U}$ is a box-shaped uncertainty set: $$\\mathcal{U}:=\\{(u_1,u_2) \\in\\mathbb{R}^2\\;:\\; \\sum\\limits_{i=1}^2|z_i| \\leq \\Gamma, |z_i| \\leq 1, \\forall i =1,2\\}.$$\n",
        "\n",
        "Or in a compact form:\n",
        " $$\\mathcal{U}:=\\{u\\in\\mathbb{R}^2\\;:\\; ||z||_{1} \\leq \\Gamma, ||z||_{\\infty}  \\leq 1\\}.$$\n"
      ],
      "metadata": {
        "id": "aq_gYMPRWEGv"
      }
    },
    {
      "cell_type": "code",
      "source": [
        "#Create model\n",
        "model = ro.Model('robustproduction_budgeted')\n",
        "\n",
        "# Hint : owe can define the set as follows\n",
        "\n",
        "# budgetedSet=(abs(u) <= 1, rso.norm(u, 1) <=Gamma)  t\n",
        "\n",
        "\n",
        "#  TO BE COMPLETED .........\n"
      ],
      "metadata": {
        "colab": {
          "base_uri": "https://localhost:8080/"
        },
        "id": "w2DkDt1oTIVT",
        "outputId": "f27fa8ac-9834-47f0-bfe8-11884954de78"
      },
      "execution_count": 23,
      "outputs": [
        {
          "output_type": "stream",
          "name": "stdout",
          "text": [
            "Being solved by Mosek...\n",
            "Solution status: Optimal\n",
            "Running time: 0.0014s\n",
            "Robust solution: Expected profit is 8294.57 CHF\n",
            "Robust solution: Robust Solution Raw Material I =  877.73\n",
            "Robust solution: Robust Solution Raw Material II =  0.0\n",
            "Robust solution: Robust Solution Drug I =  17.47\n",
            "Robust solution:  Robust Solution Drug II =  0.0\n",
            "When drifts are as small in a budgeted set it is possible to avoid a potential loss of 22 % by giving away 6.0 % of profit.⚖️\n"
          ]
        }
      ]
    },
    {
      "cell_type": "markdown",
      "source": [
        "# Bounus\n",
        "\n",
        "* Example of RO with large uncertainy on several parameters (not only on the Yield rate of Agent A)"
      ],
      "metadata": {
        "id": "933xSw8UatSO"
      }
    },
    {
      "cell_type": "code",
      "source": [
        "#Create model\n",
        "model = ro.Model('robustproduction_maxmin')\n",
        "\n",
        "# Define decision variables\n",
        "n1 =model.dvar()              # Define a decision variable for n boxes of Drug I\n",
        "n2 =model.dvar()              # Define a decision variable for n boxes of Drug II\n",
        "m1 =model.dvar()              # Define a decision variable mass Raw I\n",
        "m2 =model.dvar()              # Define a decision variable mass Raw II\n",
        "\n",
        "\n",
        "# Declare uncertain parameters\n",
        "u = model.rvar(6)\n",
        "BOX_U = (abs(u) <= 1 )  # BOX UNCERTAINTY ON the 6 UNCERTAIN PARAMETERS\n",
        "\n",
        "# Objective to maximize the worst case (min) profit\n",
        "model.maxmin(6200*n1*(1-0.01*u[4])+6900*n2*(1-0.01*u[5]) - (100*m1+199.90*m2+700*n1+800*n2), BOX_U)\n",
        "\n",
        "# Constraints\n",
        "model.st(m1 + m2 <= 1000)                         # Storage constraint\n",
        "model.st(90*n1 + 100*n2 <= 2000)                  # Manpower constraint\n",
        "\n",
        "\n",
        "# Constraints that decision variables are non-negative\n",
        "model.st(n1 >= 0)           # DrugI is non-negative\n",
        "model.st(n2 >= 0)           # DrugII is non-negative\n",
        "model.st(m1 >= 0)           # RawI is non-negative\n",
        "model.st(m2 >= 0)           # RawII is non-negative\n",
        "\n",
        "\n",
        "# Constraint to have enough active agent A\n",
        "model.st((40*n1+50*n2 - 800*(1-0.005*u[2]) <= 0).forall(BOX_U))                      # Equipment constraint\n",
        "model.st((100*m1+199.9*m2+700*n1+800*n2 -100000*(1-0.2*u[3])<= 0).forall(BOX_U)) # Budget constraint\n",
        "model.st((0.01*(1+0.005*u[0])*m1+0.02*(1+0.02*u[1])*m2-0.5*n1-0.6*n2 >= 0).forall(BOX_U))\n",
        "\n",
        "# solve the model\n",
        "model.solve(my_solver)\n",
        "\n",
        "optobj_rob = model.get()      #get optimal objective value\n",
        "rob_sol_DrugI   = n1.get()    #get optimal solution\n",
        "rob_sol_DrugII  = n2.get()    #get optimal solution\n",
        "rob_sol_RawI    = m1.get()    #get optimal solution\n",
        "rob_sol_RawII   = m2.get()    #get optimal solution\n",
        "\n",
        "print('Robust solution: Expected profit is', np.round(optobj_rob,2), 'CHF')\n",
        "print('Robust solution: Robust Solution Raw Material I = ', np.round(rob_sol_RawI,2))\n",
        "print('Robust solution: Robust Solution Raw Material II = ', np.round(rob_sol_RawII,2))\n",
        "print('Robust solution: Robust Solution Drug I = ', np.round(rob_sol_DrugI,2))\n",
        "print('Robust solution:  Robust Solution Drug II = ', np.round(rob_sol_DrugII,2))\n",
        "print('When drifts are as small in a budgeted set it is possible to avoid a potential loss of', \"{0:.0f}\".format((optobj_det-wc_det)/optobj_det*100),'% by giving away', \"{0:.1f}\".format((optobj_det-optobj_rob)/optobj_det*100),'% of profit.⚖️' )\n"
      ],
      "metadata": {
        "id": "iCmQbqiEucuG",
        "outputId": "4d73f819-93d1-4ce6-873d-a1b33720e93e",
        "colab": {
          "base_uri": "https://localhost:8080/"
        }
      },
      "execution_count": 25,
      "outputs": [
        {
          "output_type": "stream",
          "name": "stdout",
          "text": [
            "Being solved by Mosek...\n",
            "Solution status: Optimal\n",
            "Running time: 0.0024s\n",
            "Robust solution: Expected profit is 5769.3 CHF\n",
            "Robust solution: Robust Solution Raw Material I =  702.19\n",
            "Robust solution: Robust Solution Raw Material II =  0.0\n",
            "Robust solution: Robust Solution Drug I =  13.97\n",
            "Robust solution:  Robust Solution Drug II =  0.0\n",
            "When drifts are as small in a budgeted set it is possible to avoid a potential loss of 22 % by giving away 34.6 % of profit.⚖️\n"
          ]
        }
      ]
    }
  ],
  "metadata": {
    "colab": {
      "provenance": [],
      "authorship_tag": "ABX9TyM/mDOAsgigpYiDFNGs9DVA",
      "include_colab_link": true
    },
    "kernelspec": {
      "display_name": "Python 3",
      "name": "python3"
    },
    "language_info": {
      "name": "python"
    }
  },
  "nbformat": 4,
  "nbformat_minor": 0
}