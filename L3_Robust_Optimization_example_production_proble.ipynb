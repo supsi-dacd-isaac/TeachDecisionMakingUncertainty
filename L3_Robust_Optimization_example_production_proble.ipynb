{
  "cells": [
    {
      "cell_type": "markdown",
      "metadata": {
        "id": "view-in-github",
        "colab_type": "text"
      },
      "source": [
        "<a href=\"https://colab.research.google.com/github/supsi-dacd-isaac/TeachDecisionMakingUncertainty/blob/main/L3_Robust_Optimization_example_production_proble.ipynb\" target=\"_parent\"><img src=\"https://colab.research.google.com/assets/colab-badge.svg\" alt=\"Open In Colab\"/></a>"
      ]
    },
    {
      "cell_type": "markdown",
      "metadata": {
        "id": "HDGFkKYTEDOM"
      },
      "source": [
        "AN EXAMPLE OF ROBUSTIFIED LINEAR PROGRAM\n",
        "Modified by:\n",
        " 1. Erick Delage (Created for ROME 14 April 2015)\n",
        " 2. Erick Delage (Adapted to RSOME in November 2020)\n",
        " 3. Roberto Rocchetta (January 2025)\n",
        "\n",
        "As discussed in example 2.5 of the  [lecture notes](http://tintin.hec.ca/pages/erick.delage/MATH80624_LectureNotes.pdf) of MATH80624 at HEC Montréal.\n"
      ]
    },
    {
      "cell_type": "code",
      "execution_count": null,
      "metadata": {
        "colab": {
          "base_uri": "https://localhost:8080/"
        },
        "id": "q5oa7jOASlVP",
        "outputId": "fb2eff1f-6bf3-44e7-82ec-d2e2de3ea076"
      },
      "outputs": [
        {
          "output_type": "stream",
          "name": "stdout",
          "text": [
            "Requirement already satisfied: rsome in /usr/local/lib/python3.11/dist-packages (1.3.1)\n",
            "Requirement already satisfied: numpy>=1.20.0 in /usr/local/lib/python3.11/dist-packages (from rsome) (1.26.4)\n",
            "Requirement already satisfied: scipy>=1.9.0 in /usr/local/lib/python3.11/dist-packages (from rsome) (1.13.1)\n",
            "Requirement already satisfied: pandas>=0.25.0 in /usr/local/lib/python3.11/dist-packages (from rsome) (2.2.2)\n",
            "Requirement already satisfied: python-dateutil>=2.8.2 in /usr/local/lib/python3.11/dist-packages (from pandas>=0.25.0->rsome) (2.8.2)\n",
            "Requirement already satisfied: pytz>=2020.1 in /usr/local/lib/python3.11/dist-packages (from pandas>=0.25.0->rsome) (2024.2)\n",
            "Requirement already satisfied: tzdata>=2022.7 in /usr/local/lib/python3.11/dist-packages (from pandas>=0.25.0->rsome) (2025.1)\n",
            "Requirement already satisfied: six>=1.5 in /usr/local/lib/python3.11/dist-packages (from python-dateutil>=2.8.2->pandas>=0.25.0->rsome) (1.17.0)\n",
            "Requirement already satisfied: mosek in /usr/local/lib/python3.11/dist-packages (11.0.4)\n",
            "Requirement already satisfied: numpy in /usr/local/lib/python3.11/dist-packages (from mosek) (1.26.4)\n",
            "Cloning into 'mosek_lic'...\n",
            "remote: Enumerating objects: 3, done.\u001b[K\n",
            "remote: Counting objects: 100% (3/3), done.\u001b[K\n",
            "remote: Compressing objects: 100% (2/2), done.\u001b[K\n",
            "remote: Total 3 (delta 0), reused 0 (delta 0), pack-reused 0 (from 0)\u001b[K\n",
            "Receiving objects: 100% (3/3), done.\n"
          ]
        }
      ],
      "source": [
        "!pip install rsome\n",
        "!pip install mosek\n",
        "!rm mosek.lic\n",
        "!git clone https://github.com/roberock/mosek_lic\n",
        "!cp ./mosek_lic/mosek.lic .\n",
        "!rm -r ./mosek_lic\n",
        "!mkdir -p /root/mosek\n",
        "!cp ./mosek.lic /root/mosek\n",
        "#!pip install -i https://pypi.gurobi.com gurobipy\n"
      ]
    },
    {
      "cell_type": "markdown",
      "metadata": {
        "id": "49mOeNalTaRu"
      },
      "source": [
        "WARNING!!!\n",
        "\n",
        "The following code uses a Personal Academic License file valid until **2026-jan-23**.\n",
        "\n",
        "If you have error messages informing you about licencing issues, you may try uncommenting the installation lines for Gurobi.\n",
        "\n",
        "Otherwise, we recommend that you obtain your own free accademic licence of either Mosek ([url](https://www.mosek.com/)) or Gurobi ([url](https://www.gurobi.com/))."
      ]
    },
    {
      "cell_type": "code",
      "execution_count": null,
      "metadata": {
        "id": "QhATmoYKEBgk"
      },
      "outputs": [],
      "source": [
        "import rsome as rso\n",
        "import numpy as np\n",
        "from rsome import ro\n",
        "from rsome import msk_solver as my_solver  #Import Mosek solver interface\n",
        "#from rsome import grb_solver as my_solver  #Import Gurobi solver interface"
      ]
    },
    {
      "cell_type": "markdown",
      "source": [
        "For further details, see also the example 1.1.1 in the reference:\n",
        "\n",
        "A. Ben-Tal, L. El Ghaoui, and A. Nemirovski. *Robust Optimization*. Princeton Series in Applied Mathematics, 2009."
      ],
      "metadata": {
        "id": "8WZ12lUYK98_"
      }
    },
    {
      "cell_type": "markdown",
      "metadata": {
        "id": "I0-egwxNIWH9"
      },
      "source": [
        "## **Define a deterministic optimization problem**\n",
        "\n",
        "Define a simple production problem for a company:\n",
        "\n",
        "**Descision variables:**\n",
        "- $(n_1,n_2)$: number of boxes (1000 packs per box) produced for Drug Type 1 and type 2\n",
        "- $(m_1, m_2)$: masses of Raw Material Type 1 and Type 2\n",
        "\n",
        "**Model coefficients:**\n",
        "\n",
        "- $(c_1,c_2) = (6200, 6900)~~ [\\frac{CHF}{Box}]$ expected revenue per box and drug type\n",
        "- $(c_3,c_4) = (100, 199.9)~~ [\\frac{CHF}{kg}]$: costs of raw materials type 1 and 2\n",
        "- $(c_5,c_6) = (700, 800)~~ [\\frac{CHF}{Box}]$: production cost per box and drug type\n",
        "\n",
        "\n",
        "**Objective function:**\n",
        "\n",
        "\n",
        "$$J(\\theta, c) = \\text{Reward}(\\theta, c) - \\text{Cost}(\\theta, c) = 6200n_1+6900n_2-(100m_1+199.90m_2+700n_1+800n_2) $$\n",
        "\n",
        "$$ $$\n",
        "$$c = [-(c_1-c_5),-(c_2-c_6), c_3, c_4]; \\theta = [n_1, n_2, m_1, m_2]$$\n",
        "\n",
        "  \n",
        "$$ $$\n",
        "$$J(\\theta, c) = c\\theta^T $$"
      ]
    },
    {
      "cell_type": "markdown",
      "metadata": {
        "id": "CNkwSi4rN2sw"
      },
      "source": [
        "## **Solve a deterministic optimization problem**\n",
        "The **deterministic optimal production model** is given as follows:\n",
        "\n",
        "\\begin{align}\n",
        "\\max\\limits_{\\theta}\\;& 6200n_1+6900n_2-(100m_1+199.90m_2+700n_1+800n_2)\\\\\n",
        "\\text{subject to}\\;&  m_1 + m_2 \\leq 1000  && \\text{(Storage)} \\\\\n",
        "                 & 90n_1 + 100n_2 \\leq 2000  && \\text{(Manpower)} \\\\\n",
        "                 & 40n_1 + 50n_2 \\leq 800  && \\text{(Equipment)} \\\\\n",
        "                 & 100m_1+199.9m_2+700n_1+800n_2 \\leq 100000 &&\\text{(Budget)} \\\\\n",
        "                 & 0.01m_1+0.02m_2-0.5n_1-0.6n_2 \\geq 0 &&\\text{(Catalyst/Agent A)} \\\\\n",
        "                 &  m_1\\geq0, m_2\\geq0, n_1 \\geq 0, n_2\\geq 0.\n",
        "\\end{align}\n",
        "\n",
        "\n",
        "In a compact form:\n",
        "\n",
        "\\begin{align}\n",
        "\\max\\limits_{\\theta\\in\\mathbb{R}^{+,n_\\theta}}\\;& c^T \\theta \\\\\n",
        "\\text{subject to}\\;&  A\\theta  \\leq b  &&  \\\\\n",
        "\\end{align}\n"
      ]
    },
    {
      "cell_type": "code",
      "execution_count": 118,
      "metadata": {
        "colab": {
          "base_uri": "https://localhost:8080/"
        },
        "id": "MQODUPdPOHVn",
        "outputId": "3ee84ffe-99e9-4db4-c25b-c04e1b589d47"
      },
      "outputs": [
        {
          "output_type": "stream",
          "name": "stdout",
          "text": [
            "        message: Optimization terminated successfully. (HiGHS Status 7: Optimal)\n",
            "        success: True\n",
            "         status: 0\n",
            "            fun: -8819.657744624841\n",
            "              x: [ 1.755e+01  0.000e+00  0.000e+00  4.388e+02]\n",
            "            nit: 2\n",
            "          lower:  residual: [ 1.755e+01  0.000e+00  0.000e+00  4.388e+02]\n",
            "                 marginals: [ 0.000e+00  4.965e+02  5.441e-02  0.000e+00]\n",
            "          upper:  residual: [       inf        inf        inf        inf]\n",
            "                 marginals: [ 0.000e+00  0.000e+00  0.000e+00  0.000e+00]\n",
            "          eqlin:  residual: []\n",
            "                 marginals: []\n",
            "        ineqlin:  residual: [ 5.612e+02  4.204e+02  9.794e+01  0.000e+00\n",
            "                              0.000e+00]\n",
            "                 marginals: [-0.000e+00 -0.000e+00 -0.000e+00 -8.820e-02\n",
            "                             -1.088e+04]\n",
            " mip_node_count: 0\n",
            " mip_dual_bound: 0.0\n",
            "        mip_gap: 0.0\n",
            " ---------------- \n",
            "Optimal Solution Deterministic Problem\n",
            "Deterministic objective value\n",
            "n1 =  17.55 boxes drug 1\n",
            "n1 =  0.00 boxes drug 2\n",
            "m1 =  0.00 [kg] Raw material 1\n",
            "m2 =  438.79 [kg] Raw material 2\n",
            "Objective Function Value = 8819.66  CHF\n"
          ]
        }
      ],
      "source": [
        "from scipy.optimize import linprog\n",
        "\n",
        "# Objective function coefficients (to be maximized)\n",
        "c = [-(6200-700), -(6900-800), +100, +199.90]  # max J() --> min -J() Negated for maximization\n",
        "\n",
        "# Inequality constraint matrix\n",
        "A = [\n",
        "    [0, 0, 1, 1],\n",
        "    [90, 100, 0, 0],  # ManPower\n",
        "    [40, 50, 0, 0],  # Equipment\n",
        "    [700, 800, 100, 199.9],   # Budget\n",
        "    [0.5, 0.6, -0.01, -0.02],  # Catalyst\n",
        "]\n",
        "\n",
        "# Inequality constraint vector\n",
        "b = [1000,\n",
        "     2000,\n",
        "     800,\n",
        "     100000,\n",
        "     0]\n",
        "\n",
        "def production_problem_det(c,A,b):\n",
        "  # decision variables are non-negative\n",
        "  bounds = [(0, None), (0, None), (0, None), (0, None)]\n",
        "\n",
        "  # Solve the linear program\n",
        "  return linprog(c, A_ub=A, b_ub=b, bounds=bounds)\n",
        "\n",
        "#Run\n",
        "result = production_problem_det(c,A,b)\n",
        "\n",
        "# Determinisitc revenue\n",
        "optobj_det = -result.fun\n",
        "\n",
        "# Print the results\n",
        "print(result)\n",
        "\n",
        "if result.success:\n",
        "  print(\" ---------------- \")\n",
        "  print(\"Optimal Solution Deterministic Problem\")\n",
        "  print('Deterministic objective value')\n",
        "\n",
        "  print(f\"n1 =  {result.x[0]:.2f} boxes drug 1\")\n",
        "  print(f\"n1 =  {result.x[1]:.2f} boxes drug 2\")\n",
        "  print(f\"m1 =  {result.x[2]:.2f} [kg] Raw material 1\")\n",
        "  print(f\"m2 =  {result.x[3]:.2f} [kg] Raw material 2\")\n",
        "  print(f\"Objective Function Value = {optobj_det:.2f}  CHF\") #negate to get the maximized value\n",
        "else:\n",
        "    print(\"Optimization failed: \", result.message)"
      ]
    },
    {
      "cell_type": "markdown",
      "metadata": {
        "id": "jqIxHw52Ts9i"
      },
      "source": [
        "# What could go wrong?\n",
        "\n",
        "What if we realize their was a 2 % error on the estimation of the conversion rate 0.02 of this raw material 2.\n",
        "\n",
        "Also, a 0.5 % on the raw material 1.  \n",
        "\n",
        "Hence, in the worst-case, we will only get 0.0196 $[\\frac{g}{kg}]$ of Catalyst A per kg of raw material 2."
      ]
    },
    {
      "cell_type": "code",
      "execution_count": null,
      "metadata": {
        "colab": {
          "base_uri": "https://localhost:8080/"
        },
        "id": "1xFx0CyTTtdN",
        "outputId": "0b155851-9b9c-4f78-997c-a8f5b632e6c1"
      },
      "outputs": [
        {
          "output_type": "stream",
          "name": "stdout",
          "text": [
            "Deterministic solution: there could be up to 0.176 [g] of missing\n"
          ]
        }
      ],
      "source": [
        "# prompt: # What could go wrong?\n",
        "import numpy as np\n",
        "\n",
        "def worst_case_production_error(m1, m2, n1, n2, error_yeld1 = 0.005, error_yeld2=0.02 ):\n",
        "  \"\"\"get the worst case missing Agent A (due to production errors u1, u2)\"\"\"\n",
        "\n",
        "  # how much Agent A from the raw materials 1 and 2 ?\n",
        "  produced_with_raw1 = (1-error_yeld1)*0.01*m1\n",
        "  produced_with_raw2 = (1-error_yeld2)*0.02*m2\n",
        "\n",
        "  # how much Agent A do we need to produce durgs 1 and 2 ?\n",
        "  consumed_with_durg_1 = 0.5*n1\n",
        "  consumed_with_durg_2 = 0.6*n2\n",
        "\n",
        "  return -min(0, produced_with_raw1+produced_with_raw2-consumed_with_durg_1-consumed_with_durg_2)   # worst case yield [g] for agent A\n",
        "\n",
        "\n",
        "det_n1, det_n2 = result.x[0],  result.x[1]\n",
        "det_m1, det_m2  = result.x[2], result.x[3]\n",
        "worst_case_deterministic_solution = worst_case_production_error(det_m1, det_m2,\n",
        "                                                                det_n1, det_n2,\n",
        "                                                                error_yeld1 = 0.005,\n",
        "                                                                error_yeld2 = 0.02)\n",
        "\n",
        "\n",
        "print(f'Deterministic solution: there could be up to {worst_case_deterministic_solution:.3f} [g] of missing');\n"
      ]
    },
    {
      "cell_type": "markdown",
      "metadata": {
        "id": "ewdSCfEqxGW8"
      },
      "source": [
        "## **Evaluating the worst-case profit**\n"
      ]
    },
    {
      "cell_type": "code",
      "execution_count": null,
      "metadata": {
        "id": "Fpg8uCXDyJ94",
        "colab": {
          "base_uri": "https://localhost:8080/"
        },
        "outputId": "4bbb8d84-d864-4d7d-f776-f0ca6c48ec3f"
      },
      "outputs": [
        {
          "output_type": "stream",
          "name": "stdout",
          "text": [
            "Being solved by Mosek...\n",
            "Solution status: Optimal\n",
            "Running time: 0.0032s\n",
            "Deterministic solution: Worst-case profit is 6888.99 [CHF] vs  8819.66 [CHF] of deterministic solution\n",
            "Deterministic solution: The unrealized profit  is -1930.67 [CHF]\n",
            "Deterministic solution: Due to loss in production of 351  packs of DrugI\n",
            "Deterministic solution: Due to loss in production of 0  packs of DrugII\n"
          ]
        }
      ],
      "source": [
        "# define the paramers (this is how much material we bought....mass RawI and mass RawII)\n",
        "RawI = det_m1;\n",
        "RawII = det_m2;\n",
        "\n",
        "#Create model\n",
        "model = ro.Model('production_raw_fixed_worst-case_scenario')\n",
        "\n",
        "# Define decision variables\n",
        "DrugI =model.dvar()             # Define a decision variable DrugI\n",
        "DrugII =model.dvar()            # Define a decision variable DrugII\n",
        "\n",
        "#Objective to maximize the profit\n",
        "model.max(6200*DrugI+6900*DrugII - (100*RawI+199.90*RawII+700*DrugI+800*DrugII))\n",
        "\n",
        "# Manpower constraint\n",
        "model.st(90*DrugI + 100*DrugII <= 2000)\n",
        "\n",
        "# Equipment constraint\n",
        "model.st(40*DrugI+50*DrugII <= 800)\n",
        "\n",
        "# Budget constraint\n",
        "model.st(100*RawI+199.9*RawII+700*DrugI+800*DrugII <= 100000)\n",
        "\n",
        "# Constraint to have enough active agent A under worst-case scenario\n",
        "model.st(0.01*(1-0.005)*RawI+0.02*(1-0.02)*RawII-0.5*DrugI-0.6*DrugII >= 0)\n",
        "\n",
        "# Constraints that decision variables are non-negative\n",
        "model.st(DrugI >= 0)                             # DrugI is non-negative\n",
        "model.st(DrugII >= 0)                            # DrugII is non-negative\n",
        "\n",
        "# solve the model\n",
        "model.solve(my_solver)\n",
        "\n",
        "wc_det = model.get()\n",
        "det_sol_wcDrugI   = DrugI.get()\n",
        "det_sol_wcDrugII   = DrugII.get()\n",
        "\n",
        "print('Deterministic solution: Worst-case profit is',np.round(wc_det,2), '[CHF] vs ', np.round(optobj_det,2), '[CHF] of deterministic solution')\n",
        "print('Deterministic solution: The unrealized profit  is',np.round(wc_det-optobj_det,2), '[CHF]')\n",
        "\n",
        "print('Deterministic solution: Due to loss in production of', int(1000*np.round(det_n1- det_sol_wcDrugI,3)), ' packs of DrugI')\n",
        "print('Deterministic solution: Due to loss in production of', int(1000*np.round(det_n2 - det_sol_wcDrugII,3)), ' packs of DrugII')"
      ]
    },
    {
      "cell_type": "markdown",
      "metadata": {
        "id": "fVmF6l1cyqfs"
      },
      "source": [
        "## **Solving a robust model with a box uncertainty set**\n",
        "\n",
        "Consider the following robust optimization model:\n",
        "\\begin{align}\n",
        "\\max\\limits_{\\theta}\\;& 6200n_1+6900n_2-(100m_1+199.90m_2+700n_1+800n_2) \\\\\n",
        "\\text{subject to}\\;&  m_1 + m_2 \\leq 1000  && \\text{(Storage)} \\\\\n",
        "                 & 90n_1 + 100n_2 \\leq 2000  && \\text{(Manpower)} \\\\\n",
        "                 & 40n_1 + 50n_2 \\leq 800  && \\text{(Equipment)} \\\\\n",
        "                 & 100m_1+199.9m_2+700n_1+800n_2 \\leq 100000 &&\\text{(Budget)} \\\\\n",
        "                 & 0.01(1-0.005u_1)m_1+0.02(1-0.02u_2)m_2-0.5n_1-0.6n_2 \\geq 0   \\;\\forall\\,(u_1,u_2)\\in\\mathcal{U} && \\text{(Robsut constraint produced Agent A)} \\\\\n",
        "                 &  m_1\\geq0, m_2\\geq0, n_1 \\geq 0, n_2\\geq 0.\n",
        "\\end{align}\n",
        "\n",
        "where $\\mathcal{U}$ is a box-shaped uncertainty set: $$\\mathcal{U}:=\\{(u_1,u_2)\\in\\mathbb{R}^2 : |u_i| \\leq 1, \\forall i=1, 2\\}.$$\n",
        "\n",
        "\n",
        "\n",
        "\n",
        "**In a compact form:**\n",
        "\n",
        "\\begin{align}\n",
        "\\max\\limits_{\\theta\\in\\mathbb{R}^{+,n_\\theta}}\\;& c^T \\theta \\\\\n",
        "\\text{subject to}\\;&  A(u)\\theta  \\leq b,  &&   \\;\\forall\\, u\\in\\mathcal{U} \\\\\n",
        "\\end{align}\n",
        "\n",
        "\n"
      ]
    },
    {
      "cell_type": "code",
      "execution_count": null,
      "metadata": {
        "colab": {
          "base_uri": "https://localhost:8080/"
        },
        "id": "Tn_Kg-VsxDwX",
        "outputId": "c039d706-9035-495e-9fce-8f21e539b776"
      },
      "outputs": [
        {
          "output_type": "stream",
          "name": "stdout",
          "text": [
            "Being solved by Mosek...\n",
            "Solution status: Optimal\n",
            "Running time: 0.0020s\n",
            "Robust solution: Expected profit is 8294.57 CHF\n",
            "Robust solution: Robust Solution Raw Material I =  877.73\n",
            "Robust solution: Robust Solution Raw Material II =  0.0\n",
            "Robust solution: Robust Solution Drug I =  17.47\n",
            "Robust solution:  Robust Solution Drug II =  0.0\n"
          ]
        }
      ],
      "source": [
        "#Create model\n",
        "model = ro.Model('robustproduction_box')\n",
        "\n",
        "# Define decision variables\n",
        "n1 =model.dvar()              # Define a decision variable for n boxes of Drug I\n",
        "n2 =model.dvar()              # Define a decision variable for n boxes of Drug II\n",
        "m1 =model.dvar()              # Define a decision variable mass Raw I\n",
        "m2 =model.dvar()              # Define a decision variable mass Raw II\n",
        "\n",
        "# Declare uncertain parameters and the box uncertainty set\n",
        "u = model.rvar(2)           # define 2 random variables\n",
        "boxSet = (abs(u) <= 1);     # each laing within a box [-1, 1]\n",
        "\n",
        "# Objective to maximize the profit\n",
        "model.max(6200*n1+6900*n2 - (100*m1+199.90*m2+700*n1+800*n2))\n",
        "\n",
        "# Constraints\n",
        "model.st(m1 + m2 <= 1000)                         # Storage constraint\n",
        "model.st(90*n1 + 100*n2 <= 2000)                  # Manpower constraint\n",
        "model.st(40*n1+50*n2 <= 800)                      # Equipment constraint\n",
        "model.st(100*m1+199.9*m2+700*n1+800*n2 <= 100000) # Budget constraint\n",
        "\n",
        "# Constraints that decision variables are non-negative\n",
        "model.st(n1 >= 0)           # DrugI is non-negative\n",
        "model.st(n2 >= 0)           # DrugII is non-negative\n",
        "model.st(m1 >= 0)           # RawI is non-negative\n",
        "model.st(m2 >= 0)           # RawII is non-negative\n",
        "\n",
        "# Constraint to have enough active agent A\n",
        "model.st((0.01*(1+0.005*u[0])*m1+0.02*(1+0.02*u[1])*m2-0.5*n1-0.6*n2 >= 0).forall(boxSet))\n",
        "\n",
        "# solve the model\n",
        "model.solve(my_solver)\n",
        "\n",
        "optobj_rob = model.get()      #get optimal objective value\n",
        "rob_sol_DrugI   = n1.get()    #get optimal solution\n",
        "rob_sol_DrugII  = n2.get()    #get optimal solution\n",
        "rob_sol_RawI    = m1.get()    #get optimal solution\n",
        "rob_sol_RawII   = m2.get()    #get optimal solution\n",
        "\n",
        "print('Robust solution: Expected profit is', np.round(optobj_rob,2), 'CHF')\n",
        "print('Robust solution: Robust Solution Raw Material I = ', np.round(rob_sol_RawI,2))\n",
        "print('Robust solution: Robust Solution Raw Material II = ', np.round(rob_sol_RawII,2))\n",
        "print('Robust solution: Robust Solution Drug I = ', np.round(rob_sol_DrugI,2))\n",
        "print('Robust solution:  Robust Solution Drug II = ', np.round(rob_sol_DrugII,2))\n"
      ]
    },
    {
      "cell_type": "code",
      "source": [
        "# What can go wrong?\n",
        "for k in range(10):\n",
        "  u = np.random.uniform(-1,1,2)  # explore different yield errors in [-1,+1]\n",
        "  error_yeld1 = 0.005*u[0]\n",
        "  error_yeld2 = 0.02*u[1]\n",
        "  worst_case_robust = worst_case_production_error(m1=rob_sol_RawI,\n",
        "                                                m2=rob_sol_RawII,\n",
        "                                                n1=rob_sol_DrugI,\n",
        "                                                n2=rob_sol_DrugII,\n",
        "                                                error_yeld1 = error_yeld1,\n",
        "                                                error_yeld2 = error_yeld2)\n",
        "\n",
        "  print(f'Missing agent A for u={u} is {worst_case_robust:.2f} [g] of missing');\n",
        "\n",
        "\n",
        "print('When drift is as small as',  \"{0:.0f}\".format(0.02*100), '% it is possible to avoid a potential loss of', \"{0:.0f}\".format((optobj_det-wc_det)/optobj_det*100),'% by giving away', \"{0:.0f}\".format((optobj_det-optobj_rob)/optobj_det*100),'% of profit.')\n",
        "\n"
      ],
      "metadata": {
        "colab": {
          "base_uri": "https://localhost:8080/"
        },
        "id": "L1kUXcKhCmxp",
        "outputId": "2c40279b-a549-4702-d2b2-a1cd0456ffb0"
      },
      "execution_count": null,
      "outputs": [
        {
          "output_type": "stream",
          "name": "stdout",
          "text": [
            "Missing agent A for u=[ 0.37360606 -0.41098139] is 0.00 [g] of missing\n",
            "Missing agent A for u=[ 0.0721474  -0.92612463] is 0.00 [g] of missing\n",
            "Missing agent A for u=[ 0.79078776 -0.51648993] is 0.00 [g] of missing\n",
            "Missing agent A for u=[0.05776355 0.93791635] is 0.00 [g] of missing\n",
            "Missing agent A for u=[-0.43093614 -0.02555346] is 0.00 [g] of missing\n",
            "Missing agent A for u=[ 0.32474633 -0.28598326] is 0.00 [g] of missing\n",
            "Missing agent A for u=[0.37853077 0.06189003] is 0.00 [g] of missing\n",
            "Missing agent A for u=[0.6550563  0.66791155] is 0.00 [g] of missing\n",
            "Missing agent A for u=[-0.23258581  0.14031184] is 0.00 [g] of missing\n",
            "Missing agent A for u=[ 0.5268943  -0.07446566] is 0.00 [g] of missing\n",
            "When drift is as small as 2 % it is possible to avoid a potential loss of 22 % by giving away 6 % of profit.\n"
          ]
        }
      ]
    },
    {
      "cell_type": "code",
      "source": [
        "for k in range(20):\n",
        "\n",
        "  u = np.random.uniform(-2,2,2) # clearly, a wrong characterization of the error can lead to some issues\n",
        "  error_yeld1 = 0.005*u[0]\n",
        "  error_yeld2 = 0.02*u[1]\n",
        "  worst_case_robust = worst_case_production_error(m1=rob_sol_RawI,\n",
        "                                                m2=rob_sol_RawII,\n",
        "                                                n1=rob_sol_DrugI,\n",
        "                                                n2=rob_sol_DrugII,\n",
        "                                                error_yeld1 = error_yeld1,\n",
        "                                                error_yeld2 = error_yeld2)\n",
        "\n",
        "  print(f'Missing agent A for u={u} is {worst_case_robust:.2f} [g] of missing');"
      ],
      "metadata": {
        "id": "0HF-7MKyI2dP",
        "colab": {
          "base_uri": "https://localhost:8080/"
        },
        "outputId": "3cdd4001-ce70-40f7-cb84-65352b5c5655"
      },
      "execution_count": null,
      "outputs": [
        {
          "output_type": "stream",
          "name": "stdout",
          "text": [
            "Missing agent A for u=[-1.52815158 -1.92699575] is 0.00 [g] of missing\n",
            "Missing agent A for u=[-0.90546263  0.35377871] is 0.00 [g] of missing\n",
            "Missing agent A for u=[1.03347072 1.27221434] is 0.00 [g] of missing\n",
            "Missing agent A for u=[ 0.97313205 -0.37777763] is 0.00 [g] of missing\n",
            "Missing agent A for u=[-1.35925396 -1.18268939] is 0.00 [g] of missing\n",
            "Missing agent A for u=[0.18360611 0.06629275] is 0.00 [g] of missing\n",
            "Missing agent A for u=[-1.7126765   0.40005432] is 0.00 [g] of missing\n",
            "Missing agent A for u=[-0.13318471  1.68171956] is 0.00 [g] of missing\n",
            "Missing agent A for u=[0.4114788 1.6487505] is 0.00 [g] of missing\n",
            "Missing agent A for u=[-0.32548641  1.08539759] is 0.00 [g] of missing\n",
            "Missing agent A for u=[-1.18250117 -0.27030287] is 0.00 [g] of missing\n",
            "Missing agent A for u=[-0.45227043 -1.24573823] is 0.00 [g] of missing\n",
            "Missing agent A for u=[1.40105154 1.42086008] is 0.02 [g] of missing\n",
            "Missing agent A for u=[ 1.71883526 -0.94153305] is 0.03 [g] of missing\n",
            "Missing agent A for u=[-0.71082509  0.75091729] is 0.00 [g] of missing\n",
            "Missing agent A for u=[-1.72235599 -0.69157667] is 0.00 [g] of missing\n",
            "Missing agent A for u=[-0.779805   -1.96056794] is 0.00 [g] of missing\n",
            "Missing agent A for u=[1.20603558 1.6330437 ] is 0.01 [g] of missing\n",
            "Missing agent A for u=[1.32913149 1.46742248] is 0.01 [g] of missing\n",
            "Missing agent A for u=[ 0.02845714 -1.92622158] is 0.00 [g] of missing\n"
          ]
        }
      ]
    },
    {
      "cell_type": "markdown",
      "source": [
        "## **Solving a robust model with an ellipsoidal uncertainty set**\n",
        "\n",
        "Consider the following robust optimization model with an ellipsoidal uncertainty set:\n",
        "\n",
        "\\begin{align}\n",
        "\\max\\limits_{\\theta\\in\\mathbb{R}^{+,n_\\theta}}\\;& c^T \\theta \\\\\n",
        "\\text{subject to}\\;&  A(u)\\theta  \\leq b,  &&   \\;\\forall\\, u\\in\\mathcal{U} \\\\\n",
        "\\end{align}\n",
        "\n",
        "where $\\mathcal{U}:=\\left\\{u\\in\\mathbb{R}^2\\;\\middle|\\;  \\sqrt{u_1^2+u_2^2} \\leq 1\\right\\}.$"
      ],
      "metadata": {
        "id": "bBLOpkPzRCS1"
      }
    },
    {
      "cell_type": "code",
      "source": [
        "#Create model\n",
        "model = ro.Model('robustproduction_elipsoidal')\n",
        "\n",
        "# Define decision variables\n",
        "n1 =model.dvar()              # Define a decision variable for n boxes of Drug I\n",
        "n2 =model.dvar()              # Define a decision variable for n boxes of Drug II\n",
        "m1 =model.dvar()              # Define a decision variable mass Raw I\n",
        "m2 =model.dvar()              # Define a decision variable mass Raw II\n",
        "\n",
        "# Declare uncertain parameters and the box uncertainty set\n",
        "u = model.rvar(2)                   # define 2 random variables\n",
        "BallSet= (rso.norm(u,2)<=1)  # the perturbations are within a ball of radius 1\n",
        "\n",
        "\n",
        "# Objective to maximize the profit\n",
        "model.max(6200*n1+6900*n2 - (100*m1+199.90*m2+700*n1+800*n2))\n",
        "\n",
        "# Constraints\n",
        "model.st(m1 + m2 <= 1000)                         # Storage constraint\n",
        "model.st(90*n1 + 100*n2 <= 2000)                  # Manpower constraint\n",
        "model.st(40*n1+50*n2 <= 800)                      # Equipment constraint\n",
        "model.st(100*m1+199.9*m2+700*n1+800*n2 <= 100000) # Budget constraint\n",
        "\n",
        "# Constraints that decision variables are non-negative\n",
        "model.st(n1 >= 0)           # DrugI is non-negative\n",
        "model.st(n2 >= 0)           # DrugII is non-negative\n",
        "model.st(m1 >= 0)           # RawI is non-negative\n",
        "model.st(m2 >= 0)           # RawII is non-negative\n",
        "\n",
        "# Constraint to have enough active agent A\n",
        "model.st((0.01*(1+0.005*u[0])*m1+0.02*(1+0.02*u[1])*m2-0.5*n1-0.6*n2 >= 0).forall(BallSet))\n",
        "\n",
        "# solve the model\n",
        "model.solve(my_solver)\n",
        "\n",
        "optobj_rob = model.get()      #get optimal objective value\n",
        "rob_sol_DrugI   = n1.get()    #get optimal solution\n",
        "rob_sol_DrugII  = n2.get()    #get optimal solution\n",
        "rob_sol_RawI    = m1.get()    #get optimal solution\n",
        "rob_sol_RawII   = m2.get()    #get optimal solution\n",
        "\n",
        "print('Robust solution: Expected profit is', np.round(optobj_rob,2), 'CHF')\n",
        "print('Robust solution: Robust Solution Raw Material I = ', np.round(rob_sol_RawI,2))\n",
        "print('Robust solution: Robust Solution Raw Material II = ', np.round(rob_sol_RawII,2))\n",
        "print('Robust solution: Robust Solution Drug I = ', np.round(rob_sol_DrugI,2))\n",
        "print('Robust solution:  Robust Solution Drug II = ', np.round(rob_sol_DrugII,2))\n"
      ],
      "metadata": {
        "colab": {
          "base_uri": "https://localhost:8080/"
        },
        "id": "bIRDqUKhQ8L1",
        "outputId": "e2cf9791-fc5f-40c1-b084-48ac630eb6e3"
      },
      "execution_count": null,
      "outputs": [
        {
          "output_type": "stream",
          "name": "stdout",
          "text": [
            "Being solved by Mosek...\n",
            "Solution status: Optimal\n",
            "Running time: 0.0017s\n",
            "Robust solution: Expected profit is 2240.54 CHF\n",
            "Robust solution: Robust Solution Raw Material I =  832.22\n",
            "Robust solution: Robust Solution Raw Material II =  26.19\n",
            "Robust solution: Robust Solution Drug I =  16.49\n",
            "Robust solution:  Robust Solution Drug II =  0.0\n"
          ]
        }
      ]
    },
    {
      "cell_type": "markdown",
      "source": [
        "## **Solving a robust model with a budgeted uncertainty set**\n",
        "\n",
        "\n",
        "Consider the following robust optimization model:\n",
        "\\begin{align}\n",
        "\\max\\limits_{\\theta}\\;& 6200n_1+6900n_2-(100m_1+199.90m_2+700n_1+800n_2) \\\\\n",
        "\\text{subject to}\\;&  m_1 + m_2 \\leq 1000  && \\text{(Storage)} \\\\\n",
        "                 & 90n_1 + 100n_2 \\leq 2000  && \\text{(Manpower)} \\\\\n",
        "                 & 40n_1 + 50n_2 \\leq 800  && \\text{(Equipment)} \\\\\n",
        "                 & 100m_1+199.9m_2+700n_1+800n_2 \\leq 100000 &&\\text{(Budget)} \\\\\n",
        "                 & 0.01(1-0.005u_1)m_1+0.02(1-0.02u_2)m_2-0.5n_1-0.6n_2 \\geq 0   \\;\\forall\\,(u_1,u_2)\\in\\mathcal{U} && \\text{(Robsut constraint produced Agent A)} \\\\\n",
        "                 &  m_1\\geq0, m_2\\geq0, n_1 \\geq 0, n_2\\geq 0.\n",
        "\\end{align}\n",
        "\n",
        "where $\\mathcal{U}$ is a box-shaped uncertainty set: $$\\mathcal{U}:=\\{(u\\in\\mathbb{R}^2\\;|\\; \\sum\\limits_{i=1}^2|z_i| \\leq \\Gamma, |z_i| \\leq 1, \\forall i =1,2\\}.$$\n",
        "\n",
        "\n"
      ],
      "metadata": {
        "id": "aq_gYMPRWEGv"
      }
    },
    {
      "cell_type": "code",
      "source": [
        "#Create model\n",
        "model = ro.Model('robustproduction_budgeted')\n",
        "\n",
        "# Define decision variables\n",
        "n1 =model.dvar()              # Define a decision variable for n boxes of Drug I\n",
        "n2 =model.dvar()              # Define a decision variable for n boxes of Drug II\n",
        "m1 =model.dvar()              # Define a decision variable mass Raw I\n",
        "m2 =model.dvar()              # Define a decision variable mass Raw II\n",
        "\n",
        "# Declare uncertain parameters\n",
        "Gamma = 1\n",
        "u = model.rvar(2)\n",
        "budgetedSet=(abs(u) <= 1, rso.norm(u, 1) <=Gamma)  # define the budgeted uncertainty set\n",
        "\n",
        "# Objective to maximize the profit\n",
        "model.max(6200*n1+6900*n2 - (100*m1+199.90*m2+700*n1+800*n2))\n",
        "\n",
        "# Constraints\n",
        "model.st(m1 + m2 <= 1000)                         # Storage constraint\n",
        "model.st(90*n1 + 100*n2 <= 2000)                  # Manpower constraint\n",
        "model.st(40*n1+50*n2 <= 800)                      # Equipment constraint\n",
        "model.st(100*m1+199.9*m2+700*n1+800*n2 <= 100000) # Budget constraint\n",
        "\n",
        "# Constraints that decision variables are non-negative\n",
        "model.st(n1 >= 0)           # DrugI is non-negative\n",
        "model.st(n2 >= 0)           # DrugII is non-negative\n",
        "model.st(m1 >= 0)           # RawI is non-negative\n",
        "model.st(m2 >= 0)           # RawII is non-negative\n",
        "\n",
        "# Constraint to have enough active agent A\n",
        "model.st((0.01*(1+0.005*u[0])*m1+0.02*(1+0.02*u[1])*m2-0.5*n1-0.6*n2 >= 0).forall(budgetedSet))\n",
        "\n",
        "# solve the model\n",
        "model.solve(my_solver)\n",
        "\n",
        "optobj_rob = model.get()      #get optimal objective value\n",
        "rob_sol_DrugI   = n1.get()    #get optimal solution\n",
        "rob_sol_DrugII  = n2.get()    #get optimal solution\n",
        "rob_sol_RawI    = m1.get()    #get optimal solution\n",
        "rob_sol_RawII   = m2.get()    #get optimal solution\n",
        "\n",
        "print('Robust solution: Expected profit is', np.round(optobj_rob,2), 'CHF')\n",
        "print('Robust solution: Robust Solution Raw Material I = ', np.round(rob_sol_RawI,2))\n",
        "print('Robust solution: Robust Solution Raw Material II = ', np.round(rob_sol_RawII,2))\n",
        "print('Robust solution: Robust Solution Drug I = ', np.round(rob_sol_DrugI,2))\n",
        "print('Robust solution:  Robust Solution Drug II = ', np.round(rob_sol_DrugII,2))\n"
      ],
      "metadata": {
        "colab": {
          "base_uri": "https://localhost:8080/"
        },
        "id": "w2DkDt1oTIVT",
        "outputId": "d50ba23c-4aaf-4d37-ed16-8fc58b5c9604"
      },
      "execution_count": null,
      "outputs": [
        {
          "output_type": "stream",
          "name": "stdout",
          "text": [
            "Being solved by Mosek...\n",
            "Solution status: Optimal\n",
            "Running time: 0.0046s\n",
            "Robust solution: Expected profit is 8294.57 CHF\n",
            "Robust solution: Robust Solution Raw Material I =  877.73\n",
            "Robust solution: Robust Solution Raw Material II =  0.0\n",
            "Robust solution: Robust Solution Drug I =  17.47\n",
            "Robust solution:  Robust Solution Drug II =  0.0\n"
          ]
        }
      ]
    }
  ],
  "metadata": {
    "colab": {
      "provenance": [],
      "authorship_tag": "ABX9TyPLNPcN/+ERRm+ucEpsQJSh",
      "include_colab_link": true
    },
    "kernelspec": {
      "display_name": "Python 3",
      "name": "python3"
    },
    "language_info": {
      "name": "python"
    }
  },
  "nbformat": 4,
  "nbformat_minor": 0
}