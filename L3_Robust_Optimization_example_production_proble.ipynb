{
  "cells": [
    {
      "cell_type": "markdown",
      "metadata": {
        "id": "view-in-github",
        "colab_type": "text"
      },
      "source": [
        "<a href=\"https://colab.research.google.com/github/supsi-dacd-isaac/TeachDecisionMakingUncertainty/blob/main/L3_Robust_Optimization_example_production_proble.ipynb\" target=\"_parent\"><img src=\"https://colab.research.google.com/assets/colab-badge.svg\" alt=\"Open In Colab\"/></a>"
      ]
    },
    {
      "cell_type": "markdown",
      "metadata": {
        "id": "HDGFkKYTEDOM"
      },
      "source": [
        "AN EXAMPLE OF ROBUSTIFIED LINEAR PROGRAM\n",
        "Modified by:\n",
        " 1. Erick Delage (Created for ROME 14 April 2015)\n",
        " 2. Erick Delage (Adapted to RSOME in November 2020)\n",
        " 3. Roberto Rocchetta (January 2025)\n",
        "\n",
        "As discussed in example 2.5 of the  [lecture notes](http://tintin.hec.ca/pages/erick.delage/MATH80624_LectureNotes.pdf) of MATH80624 at HEC Montréal.\n"
      ]
    },
    {
      "cell_type": "code",
      "execution_count": 2,
      "metadata": {
        "colab": {
          "base_uri": "https://localhost:8080/"
        },
        "id": "q5oa7jOASlVP",
        "outputId": "48b6d814-8396-4d51-fc69-b3cfe258b07d"
      },
      "outputs": [
        {
          "output_type": "stream",
          "name": "stdout",
          "text": [
            "Collecting rsome\n",
            "  Downloading rsome-1.3.1-py3-none-any.whl.metadata (7.0 kB)\n",
            "Requirement already satisfied: numpy>=1.20.0 in /usr/local/lib/python3.11/dist-packages (from rsome) (1.26.4)\n",
            "Requirement already satisfied: scipy>=1.9.0 in /usr/local/lib/python3.11/dist-packages (from rsome) (1.13.1)\n",
            "Requirement already satisfied: pandas>=0.25.0 in /usr/local/lib/python3.11/dist-packages (from rsome) (2.2.2)\n",
            "Requirement already satisfied: python-dateutil>=2.8.2 in /usr/local/lib/python3.11/dist-packages (from pandas>=0.25.0->rsome) (2.8.2)\n",
            "Requirement already satisfied: pytz>=2020.1 in /usr/local/lib/python3.11/dist-packages (from pandas>=0.25.0->rsome) (2025.1)\n",
            "Requirement already satisfied: tzdata>=2022.7 in /usr/local/lib/python3.11/dist-packages (from pandas>=0.25.0->rsome) (2025.1)\n",
            "Requirement already satisfied: six>=1.5 in /usr/local/lib/python3.11/dist-packages (from python-dateutil>=2.8.2->pandas>=0.25.0->rsome) (1.17.0)\n",
            "Downloading rsome-1.3.1-py3-none-any.whl (87 kB)\n",
            "\u001b[2K   \u001b[90m━━━━━━━━━━━━━━━━━━━━━━━━━━━━━━━━━━━━━━━━\u001b[0m \u001b[32m87.8/87.8 kB\u001b[0m \u001b[31m1.8 MB/s\u001b[0m eta \u001b[36m0:00:00\u001b[0m\n",
            "\u001b[?25hInstalling collected packages: rsome\n",
            "Successfully installed rsome-1.3.1\n",
            "Collecting mosek\n",
            "  Downloading Mosek-11.0.8-cp39-abi3-manylinux2014_x86_64.whl.metadata (697 bytes)\n",
            "Requirement already satisfied: numpy in /usr/local/lib/python3.11/dist-packages (from mosek) (1.26.4)\n",
            "Downloading Mosek-11.0.8-cp39-abi3-manylinux2014_x86_64.whl (14.7 MB)\n",
            "\u001b[2K   \u001b[90m━━━━━━━━━━━━━━━━━━━━━━━━━━━━━━━━━━━━━━━━\u001b[0m \u001b[32m14.7/14.7 MB\u001b[0m \u001b[31m53.0 MB/s\u001b[0m eta \u001b[36m0:00:00\u001b[0m\n",
            "\u001b[?25hInstalling collected packages: mosek\n",
            "Successfully installed mosek-11.0.8\n",
            "rm: cannot remove 'mosek.lic': No such file or directory\n",
            "Cloning into 'mosek_lic'...\n",
            "remote: Enumerating objects: 3, done.\u001b[K\n",
            "remote: Counting objects: 100% (3/3), done.\u001b[K\n",
            "remote: Compressing objects: 100% (2/2), done.\u001b[K\n",
            "remote: Total 3 (delta 0), reused 0 (delta 0), pack-reused 0 (from 0)\u001b[K\n",
            "Receiving objects: 100% (3/3), done.\n"
          ]
        }
      ],
      "source": [
        "!pip install rsome\n",
        "!pip install mosek\n",
        "!rm mosek.lic\n",
        "!git clone https://github.com/roberock/mosek_lic\n",
        "!cp ./mosek_lic/mosek.lic .\n",
        "!rm -r ./mosek_lic\n",
        "!mkdir -p /root/mosek\n",
        "!cp ./mosek.lic /root/mosek\n",
        "#!pip install -i https://pypi.gurobi.com gurobipy\n"
      ]
    },
    {
      "cell_type": "markdown",
      "metadata": {
        "id": "49mOeNalTaRu"
      },
      "source": [
        "WARNING!!!\n",
        "\n",
        "The following code uses a Personal Academic License file valid until **2026-jan-23**.\n",
        "\n",
        "If you have error messages informing you about licencing issues, you may try uncommenting the installation lines for Gurobi.\n",
        "\n",
        "Otherwise, we recommend that you obtain your own free accademic licence of either Mosek ([url](https://www.mosek.com/)) or Gurobi ([url](https://www.gurobi.com/))."
      ]
    },
    {
      "cell_type": "code",
      "execution_count": 3,
      "metadata": {
        "id": "QhATmoYKEBgk"
      },
      "outputs": [],
      "source": [
        "import rsome as rso\n",
        "import numpy as np\n",
        "from rsome import ro\n",
        "from rsome import msk_solver as my_solver  #Import Mosek solver interface\n",
        "#from rsome import grb_solver as my_solver  #Import Gurobi solver interface"
      ]
    },
    {
      "cell_type": "markdown",
      "source": [
        "For further details, see also the example 1.1.1 in the reference:\n",
        "\n",
        "A. Ben-Tal, L. El Ghaoui, and A. Nemirovski. *Robust Optimization*. Princeton Series in Applied Mathematics, 2009."
      ],
      "metadata": {
        "id": "8WZ12lUYK98_"
      }
    },
    {
      "cell_type": "markdown",
      "metadata": {
        "id": "I0-egwxNIWH9"
      },
      "source": [
        "## **Define a deterministic optimization problem**\n",
        "\n",
        "Define a simple production problem for a company. A **deterministic optimal production model** is defined as follows:\n",
        "\n",
        "\\begin{align}\n",
        "\\max\\limits_{\\theta}\\;& 6200n_1+6900n_2-(100m_1+199.90m_2+700n_1+800n_2)\\\\\n",
        "\\text{subject to}\\;&  m_1 + m_2 \\leq 1000  && \\text{(Storage)} \\\\\n",
        "                 & 90n_1 + 100n_2 \\leq 2000  && \\text{(Manpower)} \\\\\n",
        "                 & 40n_1 + 50n_2 \\leq 800  && \\text{(Equipment)} \\\\\n",
        "                 & 100m_1+199.9m_2+700n_1+800n_2 \\leq 100000 &&\\text{(Budget)} \\\\\n",
        "                 & 0.01m_1+0.02m_2-0.5n_1-0.6n_2 \\geq 0 &&\\text{(Catalyst/Agent A)} \\\\\n",
        "                 &  m_1\\geq0, m_2\\geq0, n_1 \\geq 0, n_2\\geq 0.\n",
        "\\end{align}\n",
        "\n",
        "\n",
        "**Descision variables:**\n",
        "- $(n_1,n_2)$: number of boxes (1000 packs/box) produced for drug type 1 and type 2\n",
        "- $(m_1, m_2)$: masses of raw material type 1 and Type 2\n",
        "\n",
        "**Model coefficients:**\n",
        "\n",
        "- $(c_1,c_2) = (6200, 6900)~~ [\\frac{CHF}{Box}]$ expected revenue per box and drug type\n",
        "- $(c_3,c_4) = (100, 199.9)~~ [\\frac{CHF}{kg}]$: costs of raw materials type 1 and 2\n",
        "- $(c_5,c_6) = (700, 800)~~ [\\frac{CHF}{Box}]$: production cost per box and drug type\n",
        "\n"
      ]
    },
    {
      "cell_type": "markdown",
      "source": [
        "## **Solve a deterministic optimization problem**\n",
        "\n",
        "In a compact form:\n",
        "\n",
        "\\begin{align}\n",
        "\\max\\limits_{\\theta\\in\\mathbb{R}^{+,n_\\theta}}\\;& c^T \\theta \\\\\n",
        "\\text{subject to}\\;&  A\\theta  \\leq b  &&  \\\\\n",
        "\\end{align}\n",
        "\n",
        "**Objective function:**\n",
        "\n",
        "- $6200n_1+6900n_2-(100m_1+199.90m_2+700n_1+800n_2)=\\\\ \\text{Reward}(\\theta, c) - \\text{Cost}(\\theta, c)  = c^T \\theta $\n",
        "\n",
        "**Objective coefficients:**\n",
        "- $c = [-(c_1-c_5),-(c_2-c_6), c_3, c_4]$\n",
        "\n",
        "**decision variables:**\n",
        "- $\\theta = [n_1, n_2, m_1, m_2]$\n",
        "   "
      ],
      "metadata": {
        "id": "FfxKrL8cZoad"
      }
    },
    {
      "cell_type": "markdown",
      "metadata": {
        "id": "CNkwSi4rN2sw"
      },
      "source": []
    },
    {
      "cell_type": "code",
      "execution_count": 4,
      "metadata": {
        "colab": {
          "base_uri": "https://localhost:8080/"
        },
        "id": "MQODUPdPOHVn",
        "outputId": "3bd35724-d103-4d7e-a133-76059e9871e4"
      },
      "outputs": [
        {
          "output_type": "stream",
          "name": "stdout",
          "text": [
            " ---------------- \n",
            "Optimal Solution Deterministic Problem\n",
            "Deterministic objective value\n",
            "n1 =  17.55 boxes drug 1\n",
            "n1 =  0.00 boxes drug 2\n",
            "m1 =  0.00 [kg] Raw material 1\n",
            "m2 =  438.79 [kg] Raw material 2\n",
            "Objective Function Value = 8819.66  CHF\n"
          ]
        }
      ],
      "source": [
        "from scipy.optimize import linprog\n",
        "\n",
        "# Objective function coefficients (to be maximized)\n",
        "c = [-(6200-700), -(6900-800), +100, +199.90]  # max J() --> min -J() Negated for maximization\n",
        "\n",
        "# Inequality constraint matrix\n",
        "A = [\n",
        "    [0, 0, 1, 1],\n",
        "    [90, 100, 0, 0],  # ManPower\n",
        "    [40, 50, 0, 0],  # Equipment\n",
        "    [700, 800, 100, 199.9],   # Budget\n",
        "    [0.5, 0.6, -0.01, -0.02],  # Catalyst\n",
        "]\n",
        "\n",
        "# Inequality constraint vector\n",
        "b = [1000,\n",
        "     2000,\n",
        "     800,\n",
        "     100000,\n",
        "     0]\n",
        "\n",
        "def production_problem_det(c,A,b):\n",
        "  # decision variables are non-negative\n",
        "  bounds = [(0, None), (0, None), (0, None), (0, None)]\n",
        "\n",
        "  # Solve the linear program\n",
        "  return linprog(c, A_ub=A, b_ub=b, bounds=bounds)\n",
        "\n",
        "#Run\n",
        "result = production_problem_det(c,A,b)\n",
        "\n",
        "# Determinisitc revenue\n",
        "optobj_det = -result.fun\n",
        "\n",
        "# Print the results\n",
        "# print(result)\n",
        "\n",
        "if result.success:\n",
        "  print(\" ---------------- \")\n",
        "  print(\"Optimal Solution Deterministic Problem\")\n",
        "  print('Deterministic objective value')\n",
        "\n",
        "  print(f\"n1 =  {result.x[0]:.2f} boxes drug 1\")\n",
        "  print(f\"n1 =  {result.x[1]:.2f} boxes drug 2\")\n",
        "  print(f\"m1 =  {result.x[2]:.2f} [kg] Raw material 1\")\n",
        "  print(f\"m2 =  {result.x[3]:.2f} [kg] Raw material 2\")\n",
        "  print(f\"Objective Function Value = {optobj_det:.2f}  CHF\") #negate to get the maximized value\n",
        "else:\n",
        "    print(\"Optimization failed: \", result.message)"
      ]
    },
    {
      "cell_type": "markdown",
      "metadata": {
        "id": "jqIxHw52Ts9i"
      },
      "source": [
        "## **What could go wrong? Evaluate a production damage.**\n",
        "\n",
        "We designed the production. We bought material $(m_1,m_2)$, a customer is going to buy $(n_1,n_2)$\n",
        "\n",
        "\n",
        "\n",
        "**Unfortunately we realize that:**\n",
        "\n",
        "- Error 1: there is a 2 % error on the estimation of the conversion rate 0.02 of this raw material 2.\n",
        "- Error 2: there is a 0.5 % on the raw material 1.  \n",
        "\n",
        "Hence, in the worst-case we will only get:\n",
        "* 0.0196 kg of agent A per kg of raw material 2\n",
        "* 0.0095 kg of agent A per kg of raw material 1.\n",
        "\n",
        "**Try to:**\n",
        "\n",
        "* Define the uncertainty set\n",
        "  *  $\\mathcal{U} = \\{u\\in\\mathbb{R}^2: ....\\}$\n",
        "* Determine how much missing agent A in the worst case?\n",
        "  * $w_{\\Delta_A} = \\min\\limits_{u\\in \\mathcal{U}}[\\text{Produced}(u,m_1,m_2)]-\\text{Consumed}(n_1,n_2)$\n",
        "\n",
        "* Define the problem with uncertain coefficients\n",
        "  * $A(u)= ...$\n",
        "* Evaluate the worst-case profit\n",
        "  * $...$"
      ]
    },
    {
      "cell_type": "code",
      "execution_count": 8,
      "metadata": {
        "colab": {
          "base_uri": "https://localhost:8080/"
        },
        "id": "1xFx0CyTTtdN",
        "outputId": "b148361e-363b-4808-8632-dace9ce121a8"
      },
      "outputs": [
        {
          "output_type": "stream",
          "name": "stdout",
          "text": [
            "Deterministic solution: there could be up to 0.176 [g] of missing agent A\n"
          ]
        }
      ],
      "source": [
        "def worst_case_production_error(m1, m2, n1, n2, error_yeld1 = 0.005, error_yeld2=0.02 ):\n",
        "  \"\"\"get the worst case missing Agent A (due to production errors u1, u2)\"\"\"\n",
        "\n",
        "  # how much Agent A from the raw materials 1 and 2 ?\n",
        "  produced_with_raw1 = (1-error_yeld1)*0.01*m1\n",
        "  produced_with_raw2 = (1-error_yeld2)*0.02*m2\n",
        "\n",
        "  # how much Agent A do we need to produce durgs 1 and 2 ?\n",
        "  consumed_with_durg_1 = 0.5*n1\n",
        "  consumed_with_durg_2 = 0.6*n2\n",
        "\n",
        "  return -min(0, produced_with_raw1+produced_with_raw2-consumed_with_durg_1-consumed_with_durg_2)   # worst case yield [g] for agent A\n",
        "\n",
        "\n",
        "det_n1, det_n2 = result.x[0],  result.x[1]\n",
        "det_m1, det_m2  = result.x[2], result.x[3]\n",
        "worst_case_deterministic_solution = worst_case_production_error(det_m1, det_m2,\n",
        "                                                                det_n1, det_n2,\n",
        "                                                                error_yeld1 = 0.005,\n",
        "                                                                error_yeld2 = 0.02)\n",
        "\n",
        "\n",
        "print(f'Deterministic solution: there could be up to {worst_case_deterministic_solution:.3f} [g] of missing agent A');\n"
      ]
    },
    {
      "cell_type": "markdown",
      "metadata": {
        "id": "ewdSCfEqxGW8"
      },
      "source": [
        "## **Evaluating the worst-case profit**\n"
      ]
    },
    {
      "cell_type": "code",
      "source": [
        "# Objective function coefficients (to be maximized)\n",
        "c = [-(6200-700), -(6900-800), +100, +199.90]  # max J() --> min -J() Negated for maximization\n",
        "\n",
        "# Inequality constraint matrix\n",
        "A = [\n",
        "    [0, 0, 1, 1],\n",
        "    [90, 100, 0, 0],  # ManPower\n",
        "    [40, 50, 0, 0],  # Equipment\n",
        "    [700, 800, 100, 199.9],   # Budget\n",
        "    [0.5, 0.6, -0.01*(1-0.005), -0.02*(1-0.02)],  # Catalyst\n",
        "]\n",
        "\n",
        "# Inequality constraint vector\n",
        "b = [1000,\n",
        "     2000,\n",
        "     800,\n",
        "     100000,\n",
        "     0]\n",
        "\n",
        "def production_problem_det(c,A,b):\n",
        "  # decision variables are non-negative\n",
        "  bounds = [(0, None), (0, None), (det_m1, det_m1), (det_m2, det_m2)] # we already ordered the raw material....fix it to known solution det_m1, det_m2\n",
        "  # Solve the linear program\n",
        "  return linprog(c, A_ub=A, b_ub=b, bounds=bounds)\n",
        "\n",
        "#Run\n",
        "result_wc = production_problem_det(c,A,b)\n",
        "\n",
        "# Determinisitc revenue\n",
        "optobj_det_wc = -result_wc.fun\n",
        "\n",
        "# Print the results\n",
        "# print(result_wc)\n",
        "\n",
        "if result_wc.success:\n",
        "  print(\" ---------------- \")\n",
        "  print(\"Solution Deterministic Problem with Uncertain Yield\")\n",
        "  print(f\"n1 =  {result_wc.x[0]:.2f} boxes drug 1\")\n",
        "  print(f\"n1 =  {result_wc.x[1]:.2f} boxes drug 2\")\n",
        "  print(f\"m1 =  {result_wc.x[2]:.2f} [kg] Raw material 1\")\n",
        "  print(f\"m2 =  {result_wc.x[3]:.2f} [kg] Raw material 2\")\n",
        "  print(f\"Objective Function Value = {optobj_det_wc:.2f}  CHF\")\n",
        "else:\n",
        "    print(\"Optimization failed: \", result_wc.message)"
      ],
      "metadata": {
        "colab": {
          "base_uri": "https://localhost:8080/"
        },
        "id": "whVcWa2FaZdK",
        "outputId": "5624aa68-2a2c-4c07-d458-0ff9ec91f4de"
      },
      "execution_count": 24,
      "outputs": [
        {
          "output_type": "stream",
          "name": "stdout",
          "text": [
            " ---------------- \n",
            "Solution Deterministic Problem with Uncertain Yield\n",
            "n1 =  17.20 boxes drug 1\n",
            "n1 =  0.00 boxes drug 2\n",
            "m1 =  0.00 [kg] Raw material 1\n",
            "m2 =  438.79 [kg] Raw material 2\n",
            "Objective Function Value = 6888.99  CHF\n"
          ]
        }
      ]
    },
    {
      "cell_type": "code",
      "execution_count": 27,
      "metadata": {
        "id": "Fpg8uCXDyJ94",
        "colab": {
          "base_uri": "https://localhost:8080/"
        },
        "outputId": "d40f6bf9-3d68-4f5e-8891-3e212b074610"
      },
      "outputs": [
        {
          "output_type": "stream",
          "name": "stdout",
          "text": [
            "Being solved by Mosek...\n",
            "Solution status: Optimal\n",
            "Running time: 0.0013s\n",
            "Same resut is obtained using the RSOME package with the Mosek solver\n",
            "Deterministic solution: Worst-case profit is 6888.99 [CHF] vs  8819.66 [CHF] of deterministic solution\n",
            "Deterministic solution: The unrealized profit is -1930.67 [CHF] 😭\n",
            "Deterministic solution: Due to loss in production of 351  packs of Drug I\n",
            "Deterministic solution: Due to loss in production of 0  packs of Drug II\n"
          ]
        }
      ],
      "source": [
        "# define the paramers (this is how much material we bought....mass RawI and mass RawII)\n",
        "RawI = det_m1;\n",
        "RawII = det_m2;\n",
        "\n",
        "#Create model\n",
        "model = ro.Model('production_raw_fixed_worst-case_scenario')\n",
        "\n",
        "# Define decision variables\n",
        "DrugI =model.dvar()             # Define a decision variable DrugI\n",
        "DrugII =model.dvar()            # Define a decision variable DrugII\n",
        "\n",
        "#Objective to maximize the profit\n",
        "model.max(6200*DrugI+6900*DrugII - (100*RawI+199.90*RawII+700*DrugI+800*DrugII))\n",
        "\n",
        "# Manpower constraint\n",
        "model.st(90*DrugI + 100*DrugII <= 2000)\n",
        "\n",
        "# Equipment constraint\n",
        "model.st(40*DrugI+50*DrugII <= 800)\n",
        "\n",
        "# Budget constraint\n",
        "model.st(100*RawI+199.9*RawII+700*DrugI+800*DrugII <= 100000)\n",
        "\n",
        "# Constraint to have enough active agent A under worst-case scenario\n",
        "model.st(0.01*(1-0.005)*RawI+0.02*(1-0.02)*RawII-0.5*DrugI-0.6*DrugII >= 0)\n",
        "\n",
        "# Constraints that decision variables are non-negative\n",
        "model.st(DrugI >= 0)                             # DrugI is non-negative\n",
        "model.st(DrugII >= 0)                            # DrugII is non-negative\n",
        "\n",
        "# solve the model\n",
        "model.solve(my_solver)\n",
        "\n",
        "wc_det = model.get()\n",
        "det_sol_wcDrugI   = DrugI.get()\n",
        "det_sol_wcDrugII   = DrugII.get()\n",
        "\n",
        "print('Same resut is obtained using the RSOME package with the Mosek solver')\n",
        "print('Deterministic solution: Worst-case profit is',np.round(wc_det,2), '[CHF] vs ', np.round(optobj_det,2), '[CHF] of deterministic solution')\n",
        "print('Deterministic solution: The unrealized profit is',np.round(wc_det-optobj_det,2), '[CHF] 😭')\n",
        "\n",
        "print('Deterministic solution: Due to loss in production of', int(1000*np.round(det_n1- det_sol_wcDrugI,3)), ' packs of Drug I')\n",
        "print('Deterministic solution: Due to loss in production of', int(1000*np.round(det_n2 - det_sol_wcDrugII,3)), ' packs of Drug II')"
      ]
    },
    {
      "cell_type": "code",
      "source": [
        "# Can we do better?\n",
        "\n",
        "\n",
        "# try your best, remeber that we now know what the yeld error is.....\n",
        "\n",
        "\n"
      ],
      "metadata": {
        "id": "DTMC1CDLH3hY"
      },
      "execution_count": null,
      "outputs": []
    },
    {
      "cell_type": "markdown",
      "metadata": {
        "id": "fVmF6l1cyqfs"
      },
      "source": [
        "## **Solving a robust model with a box uncertainty set**\n",
        "\n",
        "Consider the following robust optimization model:\n",
        "\\begin{align}\n",
        "\\max\\limits_{\\theta}\\;& 6200n_1+6900n_2-(100m_1+199.90m_2+700n_1+800n_2) \\\\\n",
        "\\text{subject to}\\;&  m_1 + m_2 \\leq 1000  && \\text{(Storage)} \\\\\n",
        "                 & 90n_1 + 100n_2 \\leq 2000  && \\text{(Manpower)} \\\\\n",
        "                 & 40n_1 + 50n_2 \\leq 800  && \\text{(Equipment)} \\\\\n",
        "                 & 100m_1+199.9m_2+700n_1+800n_2 \\leq 100000 &&\\text{(Budget)} \\\\\n",
        "                 & 0.01(1-0.005u_1)m_1+0.02(1-0.02u_2)m_2-0.5n_1-0.6n_2 \\geq 0   \\;\\forall\\,(u_1,u_2)\\in\\mathcal{U} && \\text{(Robsut constraint produced Agent A)} \\\\\n",
        "                 &  m_1\\geq0, m_2\\geq0, n_1 \\geq 0, n_2\\geq 0.\n",
        "\\end{align}\n",
        "\n",
        "where $\\mathcal{U}$ is a box-shaped uncertainty set: $$\\mathcal{U}:=\\{u\\in\\mathbb{R}^2 : |u_i| \\leq 1, \\forall i=1, 2\\}.$$\n",
        "\n",
        "\n",
        "\n",
        "\n",
        "**In a compact form:**\n",
        "\n",
        "\\begin{align}\n",
        "\\max\\limits_{\\theta\\in\\mathbb{R}^{+,n_\\theta}}\\;& c^T \\theta \\\\\n",
        "\\text{subject to}\\;&  A(u)\\theta  \\leq b,  &&   \\;\\forall\\, u\\in\\mathcal{U} \\\\\n",
        "\\end{align}\n",
        "\n",
        "\n"
      ]
    },
    {
      "cell_type": "code",
      "execution_count": 11,
      "metadata": {
        "colab": {
          "base_uri": "https://localhost:8080/"
        },
        "id": "Tn_Kg-VsxDwX",
        "outputId": "ccecc8f8-d462-47e4-819b-ea517aa8a175"
      },
      "outputs": [
        {
          "output_type": "stream",
          "name": "stdout",
          "text": [
            "Being solved by Mosek...\n",
            "Solution status: Optimal\n",
            "Running time: 0.0023s\n",
            "Robust solution: Expected profit is 8294.57 CHF\n",
            "Robust solution: Robust Solution Raw Material I =  877.73\n",
            "Robust solution: Robust Solution Raw Material II =  0.0\n",
            "Robust solution: Robust Solution Drug I =  17.47\n",
            "Robust solution:  Robust Solution Drug II =  0.0\n",
            "When drifts are as small in a BOX set it is possible to avoid a potential loss of 22 % by giving away 6.0 % of profit.⚖️\n"
          ]
        }
      ],
      "source": [
        "#Create model\n",
        "model = ro.Model('robustproduction_box')\n",
        "\n",
        "max_error_1 = 0.005\n",
        "max_error_2 = 0.02\n",
        "\n",
        "# Define decision variables\n",
        "n1 =model.dvar()              # Define a decision variable for n boxes of Drug I\n",
        "n2 =model.dvar()              # Define a decision variable for n boxes of Drug II\n",
        "m1 =model.dvar()              # Define a decision variable mass Raw I\n",
        "m2 =model.dvar()              # Define a decision variable mass Raw II\n",
        "\n",
        "# Declare uncertain parameters and the box uncertainty set\n",
        "u = model.rvar(2)           # define 2 random variables\n",
        "boxSet = (abs(u) <= 1);     # each laing within a box [-1, 1]\n",
        "\n",
        "# Objective to maximize the profit\n",
        "model.max(6200*n1+6900*n2 - (100*m1+199.90*m2+700*n1+800*n2))\n",
        "\n",
        "# Constraints\n",
        "model.st(m1 + m2 <= 1000)                         # Storage constraint\n",
        "model.st(90*n1 + 100*n2 <= 2000)                  # Manpower constraint\n",
        "model.st(40*n1+50*n2 <= 800)                      # Equipment constraint\n",
        "model.st(100*m1+199.9*m2+700*n1+800*n2 <= 100000) # Budget constraint\n",
        "\n",
        "# Constraints that decision variables are non-negative\n",
        "model.st(n1 >= 0)           # DrugI is non-negative\n",
        "model.st(n2 >= 0)           # DrugII is non-negative\n",
        "model.st(m1 >= 0)           # RawI is non-negative\n",
        "model.st(m2 >= 0)           # RawII is non-negative\n",
        "\n",
        "# Constraint to have enough active agent A\n",
        "model.st((0.01*(1-max_error_1*u[0])*m1+0.02*(1-max_error_2*u[1])*m2-0.5*n1-0.6*n2 >= 0).forall(boxSet))\n",
        "\n",
        "# solve the model\n",
        "model.solve(my_solver)\n",
        "\n",
        "optobj_rob = model.get()      #get optimal objective value\n",
        "rob_sol_DrugI   = n1.get()    #get optimal solution\n",
        "rob_sol_DrugII  = n2.get()    #get optimal solution\n",
        "rob_sol_RawI    = m1.get()    #get optimal solution\n",
        "rob_sol_RawII   = m2.get()    #get optimal solution\n",
        "\n",
        "print('Robust solution: Expected profit is', np.round(optobj_rob,2), 'CHF')\n",
        "print('Robust solution: Robust Solution Raw Material I = ', np.round(rob_sol_RawI,2))\n",
        "print('Robust solution: Robust Solution Raw Material II = ', np.round(rob_sol_RawII,2))\n",
        "print('Robust solution: Robust Solution Drug I = ', np.round(rob_sol_DrugI,2))\n",
        "print('Robust solution:  Robust Solution Drug II = ', np.round(rob_sol_DrugII,2))\n",
        "\n",
        "print('When drifts are as small in a BOX set it is possible to avoid a potential loss of', \"{0:.0f}\".format((optobj_det-wc_det)/optobj_det*100),'% by giving away', \"{0:.1f}\".format((optobj_det-optobj_rob)/optobj_det*100),'% of profit.⚖️' )"
      ]
    },
    {
      "cell_type": "code",
      "source": [
        "# show that we are never missing [g] of Agent A\n",
        "for k in range(5):\n",
        "  u = np.random.uniform(-1,1,2)  # explore different yield errors in [-1,+1]\n",
        "  error_yeld1 = max_error_1*u[0]\n",
        "  error_yeld2 = max_error_2*u[1]\n",
        "  worst_case_robust = worst_case_production_error(m1=rob_sol_RawI,\n",
        "                                                m2=rob_sol_RawII,\n",
        "                                                n1=rob_sol_DrugI,\n",
        "                                                n2=rob_sol_DrugII,\n",
        "                                                error_yeld1 = error_yeld1,\n",
        "                                                error_yeld2 = error_yeld2)\n",
        "\n",
        "  print(f'Missing agent A for u={u} is {worst_case_robust:.3f} [g] of missing agent A');\n",
        "\n",
        "\n",
        "\n"
      ],
      "metadata": {
        "colab": {
          "base_uri": "https://localhost:8080/"
        },
        "id": "L1kUXcKhCmxp",
        "outputId": "8ea4c320-1d63-4b99-c017-c5e3f9877993"
      },
      "execution_count": 18,
      "outputs": [
        {
          "output_type": "stream",
          "name": "stdout",
          "text": [
            "Missing agent A for u=[ 0.7052201  -0.48584805] is 0.000 [g] of missing agent A\n",
            "Missing agent A for u=[ 0.52809134 -0.42036403] is 0.000 [g] of missing agent A\n",
            "Missing agent A for u=[0.01554329 0.79696614] is 0.000 [g] of missing agent A\n",
            "Missing agent A for u=[0.69958603 0.71891386] is 0.000 [g] of missing agent A\n",
            "Missing agent A for u=[-0.11477528  0.23034576] is 0.000 [g] of missing agent A\n"
          ]
        }
      ]
    },
    {
      "cell_type": "code",
      "source": [
        "# WE ARE NOT GUARANTEED OUTSIDE FROM THE UNCERTAINTY SET (missing agent A)\n",
        "for k in range(5):\n",
        "\n",
        "  u = np.random.uniform(-2,2,2) # clearly, a wrong characterization of the error can lead to some issues\n",
        "  error_yeld1 = max_error_1*u[0]\n",
        "  error_yeld2 = max_error_2*u[1]\n",
        "  worst_case_robust = worst_case_production_error(m1=rob_sol_RawI,\n",
        "                                                m2=rob_sol_RawII,\n",
        "                                                n1=rob_sol_DrugI,\n",
        "                                                n2=rob_sol_DrugII,\n",
        "                                                error_yeld1 = error_yeld1,\n",
        "                                                error_yeld2 = error_yeld2)\n",
        "\n",
        "  print(f'Missing agent A for u={u} is {worst_case_robust:.4f} [g] of missing agent A');"
      ],
      "metadata": {
        "id": "0HF-7MKyI2dP",
        "colab": {
          "base_uri": "https://localhost:8080/"
        },
        "outputId": "23aa216a-fc86-405f-fff9-fe86e051e388"
      },
      "execution_count": 19,
      "outputs": [
        {
          "output_type": "stream",
          "name": "stdout",
          "text": [
            "Missing agent A for u=[-1.98459261  0.59559218] is 0.0000 [g] of missing agent A\n",
            "Missing agent A for u=[1.26657055 0.59364459] is 0.0117 [g] of missing agent A\n",
            "Missing agent A for u=[-1.39365723  1.74940238] is 0.0000 [g] of missing agent A\n",
            "Missing agent A for u=[-0.0922356  -1.01402272] is 0.0000 [g] of missing agent A\n",
            "Missing agent A for u=[1.82155234 1.74347073] is 0.0361 [g] of missing agent A\n"
          ]
        }
      ]
    },
    {
      "cell_type": "markdown",
      "source": [
        "## **Solving a robust model with an ellipsoidal uncertainty set**\n",
        "\n",
        "Consider the following robust optimization model with an ellipsoidal uncertainty set:\n",
        "\n",
        "\\begin{align}\n",
        "\\max\\limits_{\\theta\\in\\mathbb{R}^{+,n_\\theta}}\\;& c^T \\theta \\\\\n",
        "\\text{subject to}\\;&  A(u)\\theta  \\leq b,  &&   \\;\\forall\\, u\\in\\mathcal{U} \\\\\n",
        "\\end{align}\n",
        "\n",
        "where $\\mathcal{U}:=\\left\\{u\\in\\mathbb{R}^2\\;\\middle|\\;  ||u||_2 = \\sqrt{u_1^2+u_2^2} \\leq 1\\right\\}.$"
      ],
      "metadata": {
        "id": "bBLOpkPzRCS1"
      }
    },
    {
      "cell_type": "code",
      "source": [
        "#Create model\n",
        "model = ro.Model('robustproduction_elipsoidal')\n",
        "\n",
        "max_error_1 = 0.005\n",
        "max_error_2 = 0.02\n",
        "\n",
        "# Define decision variables\n",
        "n1 =model.dvar()              # Define a decision variable for n boxes of Drug I\n",
        "n2 =model.dvar()              # Define a decision variable for n boxes of Drug II\n",
        "m1 =model.dvar()              # Define a decision variable mass Raw I\n",
        "m2 =model.dvar()              # Define a decision variable mass Raw II\n",
        "\n",
        "# Declare uncertain parameters and the box uncertainty set\n",
        "u = model.rvar(2)            # define 2 random variables\n",
        "BallSet= (rso.norm(u,2)<=1)  # the perturbations are within a ball of radius 1\n",
        "\n",
        "\n",
        "# Objective to maximize the profit\n",
        "model.max(6200*n1+6900*n2 - (100*m1+199.90*m2+700*n1+800*n2))\n",
        "\n",
        "# Constraints\n",
        "model.st(m1 + m2 <= 1000)                         # Storage constraint\n",
        "model.st(90*n1 + 100*n2 <= 2000)                  # Manpower constraint\n",
        "model.st(40*n1+50*n2 <= 800)                      # Equipment constraint\n",
        "model.st(100*m1+199.9*m2+700*n1+800*n2 <= 100000) # Budget constraint\n",
        "\n",
        "# Constraints that decision variables are non-negative\n",
        "model.st(n1 >= 0)           # DrugI is non-negative\n",
        "model.st(n2 >= 0)           # DrugII is non-negative\n",
        "model.st(m1 >= 0)           # RawI is non-negative\n",
        "model.st(m2 >= 0)           # RawII is non-negative\n",
        "\n",
        "# Constraint to have enough active agent A\n",
        "model.st((0.01*(1+max_error_1*u[0])*m1+0.02*(1+max_error_2*u[1])*m2-0.5*n1-0.6*n2 >= 0).forall(BallSet))\n",
        "\n",
        "# solve the model with my_solver\n",
        "model.solve(my_solver)\n",
        "\n",
        "optobj_rob = model.get()      #get optimal objective value\n",
        "rob_sol_DrugI   = n1.get()    #get optimal solution\n",
        "rob_sol_DrugII  = n2.get()    #get optimal solution\n",
        "rob_sol_RawI    = m1.get()    #get optimal solution\n",
        "rob_sol_RawII   = m2.get()    #get optimal solution\n",
        "\n",
        "print('Robust solution: Expected profit is', np.round(optobj_rob,2), 'CHF')\n",
        "print('Robust solution: Robust Solution Raw Material I = ', np.round(rob_sol_RawI,2))\n",
        "print('Robust solution: Robust Solution Raw Material II = ', np.round(rob_sol_RawII,2))\n",
        "print('Robust solution: Robust Solution Drug I = ', np.round(rob_sol_DrugI,2))\n",
        "print('Robust solution:  Robust Solution Drug II = ', np.round(rob_sol_DrugII,2))\n",
        "print('When drifts are as small in a BALL set it is possible to avoid a potential loss of', \"{0:.0f}\".format((optobj_det-wc_det)/optobj_det*100),'% by giving away', \"{0:.1f}\".format((optobj_det-optobj_rob)/optobj_det*100),'% of profit.⚖️' )\n"
      ],
      "metadata": {
        "colab": {
          "base_uri": "https://localhost:8080/"
        },
        "id": "bIRDqUKhQ8L1",
        "outputId": "9641ccdd-9c6a-4d49-983f-602630a8856a"
      },
      "execution_count": 28,
      "outputs": [
        {
          "output_type": "stream",
          "name": "stdout",
          "text": [
            "Being solved by Mosek...\n",
            "Solution status: Optimal\n",
            "Running time: 0.0026s\n",
            "Robust solution: Expected profit is 8311.76 CHF\n",
            "Robust solution: Robust Solution Raw Material I =  821.12\n",
            "Robust solution: Robust Solution Raw Material II =  28.31\n",
            "Robust solution: Robust Solution Drug I =  17.47\n",
            "Robust solution:  Robust Solution Drug II =  0.0\n",
            "When drifts are as small in a BALL set it is possible to avoid a potential loss of 22 % by giving away 5.8 % of profit.⚖️\n"
          ]
        }
      ]
    },
    {
      "cell_type": "markdown",
      "source": [
        "## **Solving a robust model with a budgeted uncertainty set**\n",
        "\n",
        "\n",
        "Consider the following robust optimization model:\n",
        "\\begin{align}\n",
        "\\max\\limits_{\\theta}\\;& 6200n_1+6900n_2-(100m_1+199.90m_2+700n_1+800n_2) \\\\\n",
        "\\text{subject to}\\;&  m_1 + m_2 \\leq 1000  && \\text{(Storage)} \\\\\n",
        "                 & 90n_1 + 100n_2 \\leq 2000  && \\text{(Manpower)} \\\\\n",
        "                 & 40n_1 + 50n_2 \\leq 800  && \\text{(Equipment)} \\\\\n",
        "                 & 100m_1+199.9m_2+700n_1+800n_2 \\leq 100000 &&\\text{(Budget)} \\\\\n",
        "                 & 0.01(1-0.005u_1)m_1+0.02(1-0.02u_2)m_2-0.5n_1-0.6n_2 \\geq 0   \\;\\forall\\,(u_1,u_2)\\in\\mathcal{U} && \\text{(Robsut constraint produced Agent A)} \\\\\n",
        "                 &  m_1\\geq0, m_2\\geq0, n_1 \\geq 0, n_2\\geq 0.\n",
        "\\end{align}\n",
        "\n",
        "where $\\mathcal{U}$ is a box-shaped uncertainty set: $$\\mathcal{U}:=\\{(u_1,u_2) \\in\\mathbb{R}^2\\;:\\; \\sum\\limits_{i=1}^2|z_i| \\leq \\Gamma, |z_i| \\leq 1, \\forall i =1,2\\}.$$\n",
        "\n",
        "Or in a compact form:\n",
        " $$\\mathcal{U}:=\\{u\\in\\mathbb{R}^2\\;:\\; ||z||_{1} \\leq \\Gamma, ||z||_{\\infty}  \\leq 1\\}.$$\n"
      ],
      "metadata": {
        "id": "aq_gYMPRWEGv"
      }
    },
    {
      "cell_type": "code",
      "source": [
        "#Create model\n",
        "model = ro.Model('robustproduction_budgeted')\n",
        "\n",
        "# Define decision variables\n",
        "n1 =model.dvar()              # Define a decision variable for n boxes of Drug I\n",
        "n2 =model.dvar()              # Define a decision variable for n boxes of Drug II\n",
        "m1 =model.dvar()              # Define a decision variable mass Raw I\n",
        "m2 =model.dvar()              # Define a decision variable mass Raw II\n",
        "\n",
        "\n",
        "# Declare uncertain parameters\n",
        "Gamma = 1\n",
        "u = model.rvar(2)\n",
        "budgetedSet=(abs(u) <= 1, rso.norm(u, 1) <=Gamma)  # define the budgeted uncertainty set\n",
        "\n",
        "# Objective to maximize the profit\n",
        "model.max(6200*n1+6900*n2 - (100*m1+199.90*m2+700*n1+800*n2))\n",
        "\n",
        "# Constraints\n",
        "model.st(m1 + m2 <= 1000)                         # Storage constraint\n",
        "model.st(90*n1 + 100*n2 <= 2000)                  # Manpower constraint\n",
        "model.st(40*n1+50*n2 <= 800)                      # Equipment constraint\n",
        "model.st(100*m1+199.9*m2+700*n1+800*n2 <= 100000) # Budget constraint\n",
        "\n",
        "# Constraints that decision variables are non-negative\n",
        "model.st(n1 >= 0)           # DrugI is non-negative\n",
        "model.st(n2 >= 0)           # DrugII is non-negative\n",
        "model.st(m1 >= 0)           # RawI is non-negative\n",
        "model.st(m2 >= 0)           # RawII is non-negative\n",
        "\n",
        "\n",
        "# Constraint to have enough active agent A\n",
        "model.st((0.01*(1+0.005*u[0])*m1+0.02*(1+0.02*u[1])*m2-0.5*n1-0.6*n2 >= 0).forall(budgetedSet))\n",
        "\n",
        "# solve the model\n",
        "model.solve(my_solver)\n",
        "\n",
        "optobj_rob = model.get()      #get optimal objective value\n",
        "rob_sol_DrugI   = n1.get()    #get optimal solution\n",
        "rob_sol_DrugII  = n2.get()    #get optimal solution\n",
        "rob_sol_RawI    = m1.get()    #get optimal solution\n",
        "rob_sol_RawII   = m2.get()    #get optimal solution\n",
        "\n",
        "print('Robust solution: Expected profit is', np.round(optobj_rob,2), 'CHF')\n",
        "print('Robust solution: Robust Solution Raw Material I = ', np.round(rob_sol_RawI,2))\n",
        "print('Robust solution: Robust Solution Raw Material II = ', np.round(rob_sol_RawII,2))\n",
        "print('Robust solution: Robust Solution Drug I = ', np.round(rob_sol_DrugI,2))\n",
        "print('Robust solution:  Robust Solution Drug II = ', np.round(rob_sol_DrugII,2))\n",
        "print('When drifts are as small in a budgeted set it is possible to avoid a potential loss of', \"{0:.0f}\".format((optobj_det-wc_det)/optobj_det*100),'% by giving away', \"{0:.1f}\".format((optobj_det-optobj_rob)/optobj_det*100),'% of profit.⚖️' )\n"
      ],
      "metadata": {
        "colab": {
          "base_uri": "https://localhost:8080/"
        },
        "id": "w2DkDt1oTIVT",
        "outputId": "1cea8a70-b549-4ad9-872c-da781406cf5a"
      },
      "execution_count": 29,
      "outputs": [
        {
          "output_type": "stream",
          "name": "stdout",
          "text": [
            "Being solved by Mosek...\n",
            "Solution status: Optimal\n",
            "Running time: 0.0017s\n",
            "Robust solution: Expected profit is 8399.6 CHF\n",
            "Robust solution: Robust Solution Raw Material I =  702.16\n",
            "Robust solution: Robust Solution Raw Material II =  87.77\n",
            "Robust solution: Robust Solution Drug I =  17.48\n",
            "Robust solution:  Robust Solution Drug II =  0.0\n",
            "When drifts are as small in a budgeted set it is possible to avoid a potential loss of 22 % by giving away 4.8 % of profit.⚖️\n"
          ]
        }
      ]
    }
  ],
  "metadata": {
    "colab": {
      "provenance": [],
      "authorship_tag": "ABX9TyNoCmPr9yIn1icFqdMQrKsv",
      "include_colab_link": true
    },
    "kernelspec": {
      "display_name": "Python 3",
      "name": "python3"
    },
    "language_info": {
      "name": "python"
    }
  },
  "nbformat": 4,
  "nbformat_minor": 0
}