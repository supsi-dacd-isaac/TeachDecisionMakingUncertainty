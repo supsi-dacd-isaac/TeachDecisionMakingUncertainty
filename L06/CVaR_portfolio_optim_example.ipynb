{
  "nbformat": 4,
  "nbformat_minor": 0,
  "metadata": {
    "colab": {
      "provenance": [],
      "authorship_tag": "ABX9TyNeS55dt/1bAUcNYUDGTsh3",
      "include_colab_link": true
    },
    "kernelspec": {
      "name": "python3",
      "display_name": "Python 3"
    },
    "language_info": {
      "name": "python"
    }
  },
  "cells": [
    {
      "cell_type": "markdown",
      "metadata": {
        "id": "view-in-github",
        "colab_type": "text"
      },
      "source": [
        "<a href=\"https://colab.research.google.com/github/supsi-dacd-isaac/TeachDecisionMakingUncertainty/blob/main/L06/CVaR_portfolio_optim_example.ipynb\" target=\"_parent\"><img src=\"https://colab.research.google.com/assets/colab-badge.svg\" alt=\"Open In Colab\"/></a>"
      ]
    },
    {
      "cell_type": "markdown",
      "source": [
        "### Portfolio Return and Loss Calculation  \n",
        "\n",
        "Extended from https://blog.quantinsti.com/cvar-expected-shortfall/\n",
        "\n",
        "Author R.Rocchetta\n",
        "Date: 25/03/2025\n",
        "\n",
        "The first part of this code analyzes the performance of a portfolio containing three assets:\n",
        "\n",
        "* 40% Amazon (AMZN),\n",
        "* 30% Tesla (TSLA),\n",
        "* 30% Apple (AAPL)\n",
        "\n",
        "Initial portfolio value is: 1,000,000\n",
        "\n",
        "## Learning Goals:\n",
        "- Data exploration and visualization\n",
        "- Estimate VaR and CVaR using\n",
        "  - Directly from empirical data\n",
        "  - Gaussian assumption empirical moments\n",
        "\n",
        "- The student will learn how to define a greedy search algorithm\n",
        "- The goal is to find\n",
        "  - Good VaR constrained solution\n",
        "  - Good CVaR constrained solutions (a portfolio)\n",
        "\n",
        "-Discuss advantages and disadvantages of both constraints"
      ],
      "metadata": {
        "id": "bOJGwtUY1KzR"
      }
    },
    {
      "cell_type": "code",
      "source": [
        "import numpy as np\n",
        "import pandas as pd # library for data analysis\n",
        "import yfinance as yf  # we will load the data from here\n",
        "from scipy.stats import norm\n",
        "import matplotlib.pyplot as plt\n",
        "\n",
        "# ANSI escape codes for color formatting\n",
        "RESET = \"\\033[0m\"\n",
        "GREEN = \"\\033[92m\"\n",
        "BLUE = \"\\033[94m\"\n",
        "RED = \"\\033[91m\"\n",
        "CYAN = \"\\033[96m\"\n",
        "YELLOW = \"\\033[93m\""
      ],
      "metadata": {
        "id": "E0g5xqMm5N-P"
      },
      "execution_count": 3,
      "outputs": []
    },
    {
      "cell_type": "markdown",
      "source": [
        "## Portfolio analysis steps.....\n",
        "\n",
        "1. **Data Download**:  Using `yfinance`, the historical daily closing of AMZN, TSLA, and AAPL are downloaded for the specified period\n",
        "\n",
        "2. **Data Preparation**: Combine into a single DataFrame `df`\n",
        "   \n",
        "3. **Return Calculation**: The daily returns for each stock are calculated using the percentage change in closing prices. The returns are then negated (indicated by `-pct_change()`), as the script aims to compute losses (negative returns).\n",
        "   \n",
        "$$\n",
        "\\text{Percentage Change}_t = \\frac{\\text{Value}_t - \\text{Value}_{t-1}}{\\text{Value}_{t-1}} \\times 100\n",
        "$$\n",
        "\n",
        "4. **Portfolio Construction**: a weighted portfolio created using the returns of the individual stocks based on an array of normalized weights (`w`). Returns (`Rp`) are calculated as the weighted sum of individual stock returns.\n",
        "\n",
        "5. **Portfolio Value**: An initial portfolio value of 1,000,000 is set (`W`), and the cumulative returns are used to compute the portfolio value over time. The value is updated daily by multiplying the initial value by the cumulative product of 1 + daily returns. If the portfolio starts with an initial value and experiences daily returns $R_t$, the portfolio value at time $t$ is calculated as $\n",
        "\\text{Portfolio}_t = W \\times \\prod_{i=1}^{t} (1 + R_i)\n",
        "$  where $R_t$ represents the portfolio return on day $t$. The meaning is that the daily gains and losses affect the base for future returns. The cumulative product ensures that each day's return builds upon the previous days.\n",
        "  \n",
        "6. **Loss Calculation**: The losses are computed as the difference between the initial portfolio value and the current portfolio value for each day, stored in the `L` column.\n",
        "\n",
        "#### The output of this procedure yields:\n",
        "- A final DataFrame `df` containing:\n",
        "  - Your prtfolio values over time (`Portfolio`)\n",
        "  - Your daily losses accordingly to the percentage of change in the closing values of the stocks (`L`)\n",
        "  - The weighted portfolio return on each day (`Rp`)\n",
        "\n",
        "This analysis allows tracking how a portfolio of these three assets performs over time and calculates the losses incurred compared to the initial portfolio value.\n"
      ],
      "metadata": {
        "id": "ctQtvTXbdse1"
      }
    },
    {
      "cell_type": "code",
      "source": [
        "# 1 Download the data\n",
        "Stock_names= ['AMZN', 'TSLA', 'AAPL']\n",
        "\n",
        "amzn = yf.download('AMZN', '2023-11-30', '2024-11-30')\n",
        "tsla = yf.download('TSLA', '2023-11-30', '2024-11-30')\n",
        "aapl = yf.download('AAPL', '2023-11-30', '2024-11-30')\n",
        "\n",
        "# 2 Extract only closing prices\n",
        "amzn_close = amzn['Close']\n",
        "tsla_close = tsla['Close']\n",
        "aapl_close = aapl['Close']\n",
        "\n",
        "# Put all three closing prices together\n",
        "df = pd.concat([amzn_close, tsla_close, aapl_close], axis=1)\n",
        "df.columns = ['AMZN', 'TSLA', 'AAPL']\n",
        "\n",
        "# 3. Compute the returns as percentage of change\n",
        "df['R1'] = -df['AMZN'].pct_change(fill_method=None)\n",
        "df['R2'] = -df['TSLA'].pct_change(fill_method=None)\n",
        "df['R3'] = -df['AAPL'].pct_change(fill_method=None)\n",
        "\n",
        "df_copy_raw = df.copy()\n",
        "# df.head(1000)"
      ],
      "metadata": {
        "id": "oObZpVu-0G3h"
      },
      "execution_count": null,
      "outputs": []
    },
    {
      "cell_type": "code",
      "source": [
        "df = df_copy_raw.copy() # copy the initial raw data\n",
        "\n",
        "# 4. Construct the portfolio returns column as a weighted sum of individual asset returns and weights\n",
        "w = np.array([0.4, 0.3, 0.3])\n",
        "df['Rp'] = (df[['R1', 'R2', 'R3']] * w).sum(axis=1)\n",
        "df = df.drop(df.index[0]) # remove first NaNs\n",
        "\n",
        "# Add the Portfolio column with an initial value of 1,000,000 CHF\n",
        "W = 1000000\n",
        "df['Portfolio'] = W * (1 + df['Rp']).cumprod()\n",
        "\n",
        "# Compute losses and add as a column to df\n",
        "df['L'] = W - df['Portfolio']  # computed as initial investment - portfolio value\n",
        "# df[['Portfolio', 'Rp', 'L']].head(1000)"
      ],
      "metadata": {
        "id": "wkj5Cbmz2T7G"
      },
      "execution_count": 5,
      "outputs": []
    },
    {
      "cell_type": "code",
      "source": [
        "# Compute VaR(zero)\n",
        "alpha = 0.05\n",
        "VaR_level_w0 = df['L'].quantile(1-alpha)\n",
        "\n",
        "print('Value at Risk (Empirical) at confidence/probab level {:.2f} is: {:.2f} kCHF'.format(1-alpha, VaR_level_w0/1000))\n",
        "print(df['L'].quantile(1-alpha) )\n",
        "print(W - df['Portfolio'].quantile(alpha))# equivalent...\n"
      ],
      "metadata": {
        "id": "wnw5tRKrjdbT"
      },
      "execution_count": null,
      "outputs": []
    },
    {
      "cell_type": "code",
      "source": [
        "# Value at Risk (VaR) analytical (assuming gaussian)\n",
        "VaR_analytic_w0 = df['L'].mean() + df['L'].std() * norm.ppf(1-alpha)\n",
        "print('Value at Risk (analytical Gaussian assumption) is: {:.2f}'.format(VaR_analytic_w0))"
      ],
      "metadata": {
        "id": "4XL8UxK9hGnW"
      },
      "execution_count": null,
      "outputs": []
    },
    {
      "cell_type": "code",
      "source": [
        "#@title define 2 useful function\n",
        "\n",
        "# Calculate the VaR, ES, Expected Profit, and Loss profile based on your investment:\n",
        "def get_VaR_and_ES(w_selected, alpha=0.05):\n",
        "  \"\"\" Repeat the analysis for any weight array (w) and alpha in [0,1]\"\"\"\n",
        "\n",
        "  df = df_copy_raw.copy() # copy the initial raw data\n",
        "  df['Rp'] = (df[['R1', 'R2', 'R3']] * w_selected).sum(axis=1)\n",
        "  df['Portfolio'] = W * (1 + df['Rp']).cumprod()\n",
        "  df['L'] = W - df['Portfolio']\n",
        "  VaR_optimal = df['L'].quantile(1-alpha)\n",
        "  ES_optimal = df.loc[df['L'] > VaR_optimal, 'L'].mean()\n",
        "  Expected_Loss = df['L'].mean()\n",
        "\n",
        "  return VaR_optimal, ES_optimal, Expected_Loss, df['L']\n",
        "\n",
        "# estimate empirical CDF of univariate data\n",
        "def ecdf_data(data):\n",
        "  x = np.sort(data)\n",
        "  ecdf = np.arange(1, len(data)+1) / len(data)\n",
        "  return x, ecdf"
      ],
      "metadata": {
        "id": "6jvCCxJBFzVC"
      },
      "execution_count": 10,
      "outputs": []
    },
    {
      "cell_type": "code",
      "source": [
        "#@title Visualize pdf and cdf of the loss function and estiamte Value at Risk\n",
        "\n",
        "df['L'].hist(bins=50, density=True, cumulative=True) # show cdf of daily losses\n",
        "loss, ecdf = ecdf_data(df['L'])\n",
        "plt.plot(loss, ecdf, 'r', label='empirical CDF')\n",
        "plt.vlines(VaR_level_w0, 0, 1, colors='r', linestyles='dashed', label=f'VaR (Empirical) {1-alpha}')\n",
        "plt.vlines(VaR_analytic_w0, 0, 1, colors='c', linestyles='dashed', label=f'VaR (Analytic) {1-alpha}')\n",
        "plt.xlabel('Loss [CHF]')\n",
        "plt.ylabel('ECDF')\n",
        "plt.legend()\n",
        "plt.show()"
      ],
      "metadata": {
        "colab": {
          "base_uri": "https://localhost:8080/",
          "height": 449
        },
        "id": "GN2higKi0S1Z",
        "outputId": "c4026c20-32cf-4410-c475-fdb3d46e1d03"
      },
      "execution_count": 11,
      "outputs": [
        {
          "output_type": "display_data",
          "data": {
            "text/plain": [
              "<Figure size 640x480 with 1 Axes>"
            ],
            "image/png": "[encoded data removed]"
          },
          "metadata": {}
        }
      ]
    },
    {
      "cell_type": "markdown",
      "source": [
        "# Analytical vs empirical CVaR estimation"
      ],
      "metadata": {
        "id": "bdPILaVxzllt"
      }
    },
    {
      "cell_type": "code",
      "source": [
        "# Expected Shortfall analytical (assuming gaussian)\n",
        "ES_analytic_w0 = df['L'].mean() + df['L'].std() * norm.pdf(norm.ppf(1-alpha)) / (alpha)\n",
        "print('Expected Shortfall (analytical Gaussian assumption) is: {:.2f}'.format(ES_analytic_w0))\n",
        "\n",
        "# Expected Shortfall (Conditional Value at Risk)\n",
        "ES_empirical_w0 = df.loc[df['L'] > VaR_level_w0, 'L'].mean()\n",
        "print('Expected Shortfall (empirical) is: {:.2f}'.format(ES_empirical_w0))"
      ],
      "metadata": {
        "colab": {
          "base_uri": "https://localhost:8080/"
        },
        "id": "nHFbpfoQ5ORx",
        "outputId": "a9e6e0e9-f2bd-48a1-a1e2-caea85316d6d"
      },
      "execution_count": 12,
      "outputs": [
        {
          "output_type": "stream",
          "name": "stdout",
          "text": [
            "Expected Shortfall (analytical Gaussian assumption) is: 327669.07\n",
            "Expected Shortfall (empirical) is: 336512.57\n"
          ]
        }
      ]
    },
    {
      "cell_type": "code",
      "source": [
        "#@title visualize cdf of the loss function, VaR and ES for the base case\n",
        "import matplotlib.pyplot as plt\n",
        "\n",
        "Loss_base = df['L'].copy()\n",
        "loss, ecdf = ecdf_data(Loss_base)\n",
        "\n",
        "# add vertical lines for the VaR, Expected Shortfall (parametric and empirical)\n",
        "plt.figure(figsize=(10, 6))\n",
        "Loss_base.hist(bins=50, density=True, cumulative=True, alpha=0.2) # show cdf of daily losses\n",
        "plt.plot(loss, ecdf, 'r', label='empirical CDF')\n",
        "plt.vlines(VaR_level_w0, 0, 1, colors='r', linestyles='dashed', label=f'VaR {1-alpha}')\n",
        "plt.vlines(ES_analytic_w0, 0, 1, colors='c', linestyles='--', label=f'ES_gaussian {1-alpha}')\n",
        "plt.vlines(ES_empirical_w0, 0, 1, colors='g', linestyles='dashed', label=f'ES_empirical {1-alpha}')\n",
        "\n",
        "plt.xlabel('Loss [CHF]')\n",
        "plt.ylabel('ECDF')\n",
        "plt.legend()\n",
        "plt.show()"
      ],
      "metadata": {
        "colab": {
          "base_uri": "https://localhost:8080/",
          "height": 542
        },
        "id": "OSqbnveSmYYg",
        "outputId": "43d66424-370b-4779-b24a-73e64ddcfa4e"
      },
      "execution_count": 13,
      "outputs": [
        {
          "output_type": "display_data",
          "data": {
            "text/plain": [
              "<Figure size 1000x600 with 1 Axes>"
            ],
            "image/png": "[encoded data removed]"
          },
          "metadata": {}
        }
      ]
    },
    {
      "cell_type": "markdown",
      "source": [
        "# Greedy Search Portfolio Optimization with VaR Constraint\n",
        "\n",
        "This cell implements a greedy search algorithm that uses random portfolio generation to find the optimal portfolio weights. The goal is to minimize the expected loss while ensuring that the portfolio's Value at Risk (VaR) does not exceed a predefined threshold.\n",
        "\n",
        "## Objective\n",
        "We want to solve:\n",
        "$$\n",
        "\\min_{w} \\, \\mathbb{E}[\\text{Loss}(w)] \\quad \\text{subject to} \\quad \\text{VaR}_{1-\\alpha}(\\text{Loss}(w)) \\leq \\text{VaR}_{\\text{max}}\n",
        "$$\n",
        "where:\n",
        "- $w$ represents the portfolio weights.\n",
        "- $\\text{Loss}(w)$ is the portfolio loss function.\n",
        "- $\\text{VaR}_{\\text{max}}$ is the maximum allowable loss at the probability level $\\alpha=0.05$.\n",
        "\n",
        "## Code Procedure\n",
        "- **1. Objective Function (`obj_fun_VaR`)**:  \n",
        "  Computes the expected loss for a given set of weights $w$ while calculating the portfolio returns, cumulative portfolio value, and corresponding loss. If the computed VaR exceeds the threshold, it penalizes the solution by returning an infinite loss.\n",
        "\n",
        "\n",
        "- **2. Greedy Search (`for _ in range(num_samples)`)**:  \n",
        "  a. Randomly generates candidate portfolios (ensuring weights sum to 1) over 1,000 iterations.\n",
        "\n",
        "  b. Selects the portfolio that minimizes the expected loss while satisfying the VaR constraint.\n",
        "\n",
        "\n",
        "- **3. Result Post-Processing and Reporting**:  \n",
        "  The optimal weights, minimized expected loss, and VaR for the optimal portfolio are printed. Additionally, the Expected Shortfall is computed using both analytical and empirical methods for further comparison with a base case."
      ],
      "metadata": {
        "id": "-pwpO-ZdeDvM"
      }
    },
    {
      "cell_type": "code",
      "source": [
        "# 1. Define optimization objective (minimize expected loss while constraining VaR)\n",
        "def obj_fun_VaR(w, VaR_threshold, alpha=0.05):\n",
        "    \"\"\"Compute expected loss for given weights `w` and ensure VaR is below threshold.\n",
        "\n",
        "    w: the proposed design\n",
        "    VaR_threshold: the maximum allowed loss level (constraint)\n",
        "    alpha: selected probability level\n",
        "\n",
        "    \"\"\"\n",
        "     # COMPLETE CODE\n",
        "     # objective function\n",
        "     # retur the VaR is acceptable\n",
        "     # return inf if the VaR level is too high.\n",
        "\n",
        "\n",
        "# Define model parameters....let see if we can do better than the base case w0.\n",
        "w0 = np.array([0.4, 0.3, 0.3])  # Initial guess for weights\n",
        "alpha = 0.1  # probability level\n",
        "\n",
        "VaR_threshold = VaR_level_w0  # This means we do not accept loss higher than reference for the base case\n",
        "min_expected_loss = float('inf')  # initialize a high objective function\n",
        "best_w_VaR_EL = w0  # initialize best portfolio\n",
        "\n",
        "### 2. START GREEDY SEARCH\n",
        "\n",
        "num_samples = 100 # Number of samples for greedy search\n",
        "for _ in range(num_samples):\n",
        "\n",
        "    # a Sample a new set of weights\n",
        "    # COMPLETE CODE\n",
        "\n",
        "\n",
        "    # b Compute expected loss ..... check if VaR constraint are sattisfied\n",
        "    # COMPLETE CODE\n",
        "\n",
        "    # Update best weights if the current candidate has a lower expected loss and\n",
        "    # satisfies the VaR constraint\n",
        "\n",
        "# Calculate the Value at Riks (VaR), Conditional VAR (ES) for the optimized portfolio investment (w)\n"
      ],
      "metadata": {
        "id": "YosZbRzOlFU5"
      },
      "execution_count": null,
      "outputs": []
    },
    {
      "cell_type": "code",
      "source": [
        "\n",
        "# Define optimization objective (minimize expected loss while constraining VaR)\n",
        "def obj_fun_VaR(w, VaR_threshold, alpha=0.05):\n",
        "    \"\"\"Compute expected loss for given weights `w` and ensure VaR is below threshold.\n",
        "    w: the proposed design\n",
        "    VaR_threshold: the maximum allowed loss level (constraint)\n",
        "    alpha: selected probability level\n",
        "    \"\"\"\n",
        "\n",
        "    VaR, ES, Expected_Loss, _ = get_VaR_and_ES(w, alpha=alpha)\n",
        "\n",
        "    if VaR <= VaR_threshold:\n",
        "        return Expected_Loss # objective function (minimize loss -> max profit)\n",
        "\n",
        "    else:\n",
        "        return float('inf')  # Penalize solutions with VaR above the threshold\n",
        "\n",
        "\n",
        "# Define model parameters....let see if we can do better than the base case w0.\n",
        "w0 = np.array([0.4, 0.3, 0.3])  # Initial guess for weights\n",
        "best_w_VaR_EL = w0  # initialize best portfolio\n",
        "alpha = 0.1  # probability level\n",
        "VaR_level_w0, ES_empirical_w0, expected_base_w0, Loss_base = get_VaR_and_ES(w0, alpha=alpha)\n",
        "VaR_threshold = VaR_level_w0  # This means we do not accept loss higher than reference for the base case\n",
        "min_expected_loss = float('inf')  # initialize a high objective function\n",
        "\n",
        "\n",
        "\"\"\"VaR_level_w0 = Loss_base.quantile(1-alpha)  #  value at risk for the selected alpha\n",
        "ES_empirical_w0 = Loss_base.loc[Loss_base > VaR_level_w0].mean()  #  right tail risk for the selected alpha\n",
        "expected_base = Loss_base.mean()\n",
        "ES_analytic_w0 =expected_base + Loss_base.std() * norm.pdf(norm.ppf(1-alpha)) / (alpha)\"\"\"\n",
        "\n",
        "\n",
        "\n",
        "###START GREEDY SEARCH\n",
        "\n",
        "num_samples = 1_000 # Number of samples for greedy search\n",
        "for _ in range(num_samples):\n",
        "\n",
        "    # a Sample a new set of weights\n",
        "    w_candidate = np.random.rand(3)\n",
        "    w_candidate /= np.sum(w_candidate)  # Normalize to sum to 1\n",
        "\n",
        "    # b Compute expected loss and check VaR constraint\n",
        "    expected_loss_candidate = obj_fun_VaR(w_candidate, VaR_threshold, alpha=alpha)\n",
        "\n",
        "    # Update best weights if the current candidate has a lower expected loss and\n",
        "    # satisfies the VaR constraint\n",
        "    if expected_loss_candidate < min_expected_loss:\n",
        "        min_expected_loss = expected_loss_candidate\n",
        "        best_w_VaR_EL = w_candidate\n",
        "\n",
        "VaR_optimal, ES_optimal, _, Loss_optim_VAR  = get_VaR_and_ES(best_w_VaR_EL, alpha)"
      ],
      "metadata": {
        "id": "LKHYmg1jHpPM"
      },
      "execution_count": 17,
      "outputs": []
    },
    {
      "cell_type": "code",
      "source": [
        "VaR_optimal, ES_optimal, _, Loss_optim_VAR  = get_VaR_and_ES(best_w_VaR_EL, alpha)\n",
        "\n",
        "# Results with color formatting\n",
        "print(f\"\\n Expected Loss Optimization with CVaR Constraint (Greedy Search):\")\n",
        "print(f\"\\n Optimal weights:{BLUE}{best_w_VaR_EL.round(3)}{RESET} \")\n",
        "print(f\"\\n Minimized Expected Loss: {GREEN}{min_expected_loss:.2f}{RESET} vs {RED}{expected_base_w0:.2f}{RESET} CHF of the base case\")\n",
        "print(f'\\n VaR for optimal weights: {GREEN}{VaR_optimal:.2f} vs {VaR_level_w0:.2f}{RESET} CHF of the base case')\n",
        "print(f'\\n Expected Shortfall (empirical) is {RED}{ES_optimal:.2f}{RESET} vs {ES_empirical_w0:.2f} CHF of the base case')\n",
        "\n"
      ],
      "metadata": {
        "id": "3W9KiYy1Gzuq"
      },
      "execution_count": null,
      "outputs": []
    },
    {
      "cell_type": "code",
      "source": [
        "#@title visualize cdf of the loss function, VaR and ES for the optimized case\n",
        "loss, ecdf = ecdf_data(Loss_base)\n",
        "\n",
        "plt.plot(loss, ecdf, 'r', label='ECDF base case')\n",
        "plt.vlines(VaR_level_w0, 0, 1-alpha, colors='r', linestyles='--', label=f'VaR {1-alpha}')\n",
        "plt.vlines(ES_empirical_w0, 0, 1, colors='r', linestyles=':', label=f'ES_empirical {1-alpha}')\n",
        "\n",
        "loss, ecdf = ecdf_data(Loss_optim_VAR)\n",
        "plt.plot(loss, ecdf, 'b', label='ECDF optim ')\n",
        "plt.vlines(VaR_optimal, 0, 1-alpha, colors='b', linestyles='--', label=f'VaR optim {1-alpha}')\n",
        "plt.vlines(ES_optimal, 0, 1, colors='b', linestyles=':', label=f'ES_emp optim {1-alpha}')\n",
        "plt.xlabel('Loss [CHF]')\n",
        "plt.ylabel('ECDF')\n",
        "plt.legend(loc='upper left')\n",
        "plt.grid()\n",
        "plt.show()\n",
        "\n",
        "loss, ecdf = ecdf_data(Loss_base)\n",
        "plt.plot(loss, ecdf, 'r', label='ECDF base case')\n",
        "plt.vlines(VaR_level_w0, 0, 1-alpha, colors='r', linestyles='--', label=f'VaR (base case) {1-alpha}')\n",
        "plt.vlines(ES_empirical_w0, 0, 1, colors='r', linestyles=':', label=f'ES (base case)  empirical {1-alpha}')\n",
        "\n",
        "loss, ecdf = ecdf_data(Loss_optim_VAR)\n",
        "plt.plot(loss, ecdf, 'b', label='ECDF optim ')\n",
        "plt.vlines(VaR_optimal, 0, 1-alpha, colors='b', linestyles='--', label=f'VaR optim {1-alpha}')\n",
        "plt.vlines(ES_optimal, 0, 1, colors='b', linestyles=':', label=f'ES_emp optim {1-alpha}')\n",
        "plt.xlabel('Loss [CHF]')\n",
        "plt.ylabel('ECDF')\n",
        "plt.legend(loc='lower left')\n",
        "plt.grid()\n",
        "plt.yticks([0.8,0.9,1.0])\n",
        "plt.xlim(100_000,600_000)\n",
        "plt.show()"
      ],
      "metadata": {
        "id": "brdbTrcSlFPX"
      },
      "execution_count": null,
      "outputs": []
    },
    {
      "cell_type": "markdown",
      "source": [
        "# Greedy Search Portfolio Optimization with CVaR Constraint\n",
        "\n",
        "\n",
        "## Objective\n",
        "We want to solve:\n",
        "$$\n",
        "\\min_{w} \\, \\mathbb{E}[\\text{Loss}(w)] \\quad \\text{subject to} \\quad \\text{ES}_{1-\\alpha}(\\text{Loss}(w)) \\leq \\text{VaR}_{\\text{max}}\n",
        "$$\n",
        "where:\n",
        "- $w$ represents the portfolio weights.\n",
        "- $\\text{Loss}(w)$ is the portfolio loss function.\n",
        "- $\\text{VaR}_{\\text{max}}$ is the maximum allowable loss level\n",
        "\n"
      ],
      "metadata": {
        "id": "6_6u5ZfAiOin"
      }
    },
    {
      "cell_type": "code",
      "source": [
        "# Define optimization objective (minimize expected loss while constraining VaR)\n",
        "def obj_fun_Tail_Expectation(w, VaR_threshold, alpha):\n",
        "    \"\"\"Compute expected loss for given weights `w` and ensure VaR is below threshold.\"\"\"\n",
        "\n",
        "    # COMPLETE CODE\n",
        "    # SAME AS FOR THE PREVIOUS CASE\n",
        "    # BUT THIS TIME WE USE EXPECTED SHORTFALL AS CONSTRAINT\n",
        "    return []\n",
        "\n",
        "# Define model parameters....let see if we can do better than the base case w0.\n",
        "w0 = np.array([0.4, 0.3, 0.3])  # Initial guess for weights\n",
        "\n",
        "alpha = 0.1  # probability level\n",
        "VaR_level_w0, ES_empirical_w0, expected_base_w0, Loss_base = get_VaR_and_ES(w0, alpha=alpha)\n",
        "\n",
        "best_w_ES_EL = w0  # initialize best portfolio\n",
        "VaR_threshold = VaR_level_w0  # This means we do not accept loss higher than reference for the base case\n",
        "min_expected_loss = float('inf')  # initialize a high objective function\n",
        "\n",
        "# Number of samples for greedy search\n",
        "num_samples = 2_000\n",
        "for _ in range(num_samples):\n",
        "    # Sample a new set of weights\n",
        "    w_candidate = np.random.rand(3)\n",
        "    w_candidate /= np.sum(w_candidate)  # Normalize to sum to 1\n",
        "\n",
        "    # Compute expected loss and check VaR constraint\n",
        "    expected_loss_candidate = obj_fun_Tail_Expectation(w_candidate, VaR_threshold, alpha=alpha)\n",
        "\n",
        "    # Update best weights if the current candidate has a lower expected loss and\n",
        "    # satisfies the VaR constraint\n",
        "    if expected_loss_candidate < min_expected_loss:\n",
        "        min_expected_loss = expected_loss_candidate\n",
        "        best_w_ES_EL = w_candidate\n",
        " # ANSI escape codes for color"
      ],
      "metadata": {
        "id": "vm0mshpQdrjK"
      },
      "execution_count": 22,
      "outputs": []
    },
    {
      "cell_type": "code",
      "source": [
        "VaR_optimal, ES_optimal, min_expected_loss, Loss_optim_ES  = get_VaR_and_ES(best_w_ES_EL, alpha)\n",
        "\n",
        "# Results with color formatting\n",
        "print(f\"\\n Expected Loss Optimization with CVaR Constraint (Greedy Search):{RESET}\")\n",
        "print(f\"\\n {BLUE}Minimized Expected Loss:{RESET} {min_expected_loss:.2f}{RESET}  vs {RED}{expected_base_w0:.2f}{RESET} CHF of the base case\")\n",
        "\n",
        "print(f\"\\n Minimized Expected Loss: {GREEN}{min_expected_loss:.2f}{RESET} vs {RED}{expected_base_w0:.2f}{RESET} CHF of the base case\")\n",
        "print(f'\\n VaR for optimal weights: {GREEN}{VaR_optimal:.2f}{RESET} vs {RED}{VaR_level_w0:.2f}{RESET} CHF of the base case')\n",
        "print(f'\\n Expected Shortfall (empirical) is {GREEN}{ES_optimal:.2f}{RESET} vs {RED}{ES_empirical_w0:.2f}{RESET} CHF of the base case')\n"
      ],
      "metadata": {
        "id": "VU6pT56PIM4g"
      },
      "execution_count": null,
      "outputs": []
    },
    {
      "cell_type": "code",
      "source": [
        "#@title visualize cdf of the loss function, VaR and ES for the optimized case\n",
        "loss, ecdf = ecdf_data(Loss_base)\n",
        "plt.plot(loss, ecdf, 'r', label='ECDF base case')\n",
        "plt.vlines(VaR_level_w0, 0, 1-alpha, colors='r', linestyles='--', label=f'VaR {alpha}')\n",
        "plt.vlines(ES_empirical_w0, 0, 1, colors='r', linestyles=':', label=f'ES_empirical {alpha}')\n",
        "\n",
        "loss, ecdf = ecdf_data(Loss_optim_ES)\n",
        "plt.plot(loss, ecdf, 'b', label='ECDF optimized')\n",
        "plt.vlines(VaR_optimal, 0, 1-alpha, colors='b', linestyles=':', label=f'VaR {alpha}')\n",
        "plt.vlines(ES_optimal, 0, 1, colors='b', linestyles='--', label=f'ES_empirical {alpha}')\n",
        "plt.xlabel('Loss [CHF]')\n",
        "plt.ylabel('ECDF')\n",
        "plt.legend(loc='upper left')\n",
        "plt.grid()\n",
        "plt.show()\n",
        "\n",
        "loss, ecdf = ecdf_data(Loss_base)\n",
        "plt.plot(loss, ecdf, 'r', label='ECDF base case')\n",
        "plt.vlines(VaR_level_w0, 0, 1-alpha, colors='r', linestyles='--', label=f'VaR (base case) {1-alpha}')\n",
        "plt.vlines(ES_empirical_w0, 0, 1, colors='r', linestyles=':', label=f'ES (base case)  empirical {1-alpha}')\n",
        "\n",
        "loss, ecdf = ecdf_data(Loss_optim_ES)\n",
        "plt.plot(loss, ecdf, 'b', label='ECDF optim ')\n",
        "plt.vlines(VaR_optimal, 0, 1-alpha, colors='b', linestyles='--', label=f'VaR optim {1-alpha}')\n",
        "plt.vlines(ES_optimal, 0, 1, colors='b', linestyles=':', label=f'ES_emp optim {1-alpha}')\n",
        "plt.xlabel('Loss [CHF]')\n",
        "plt.ylabel('ECDF')\n",
        "plt.legend(loc='lower left')\n",
        "plt.grid()\n",
        "plt.yticks([0.8,0.9,1.0])\n",
        "plt.xlim(100_000,400_000)\n",
        "plt.show()"
      ],
      "metadata": {
        "id": "KMF42TjCdrrV"
      },
      "execution_count": null,
      "outputs": []
    }
  ]
}