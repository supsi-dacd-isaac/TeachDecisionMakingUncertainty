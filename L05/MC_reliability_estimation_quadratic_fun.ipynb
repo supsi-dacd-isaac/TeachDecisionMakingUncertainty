{
  "cells": [
    {
      "cell_type": "markdown",
      "metadata": {
        "id": "view-in-github",
        "colab_type": "text"
      },
      "source": [
        "<a href=\"https://colab.research.google.com/github/supsi-dacd-isaac/TeachDecisionMakingUncertainty/blob/main/L05/MC_reliability_estimation_quadratic_fun.ipynb\" target=\"_parent\"><img src=\"https://colab.research.google.com/assets/colab-badge.svg\" alt=\"Open In Colab\"/></a>"
      ]
    },
    {
      "cell_type": "markdown",
      "source": [
        "\n",
        "**Example MC-integration: Estimation of Chance Constraints**\n",
        "\n",
        "* Chance constraint are generally intractable analytically (multidimensional probabilistic integral)\n",
        "\n",
        "* Monte Carlo simulation allows estimating these integrals numerically.\n",
        "\n",
        "  * MC useful when dealing with complex function, example $g$ non-linear, discontinuous, etc.\n",
        "  * Numerical Estiamtion of probabilities\n",
        "\n"
      ],
      "metadata": {
        "id": "zBk-MIMFu4G-"
      }
    },
    {
      "cell_type": "code",
      "source": [
        "import numpy as np\n",
        "import matplotlib.pyplot as plt\n",
        "from scipy.stats import norm, lognorm, multivariate_normal\n",
        "import scipy.stats as stats\n",
        "from numpy.random import multivariate_normal as mvn_rnd\n"
      ],
      "metadata": {
        "id": "n2a-oHX5xx--"
      },
      "execution_count": null,
      "outputs": []
    },
    {
      "cell_type": "markdown",
      "source": [
        "# Problem Statement:\n",
        "Consider a structural reliability analysis problem.\n",
        "\n",
        "\n",
        "### A performance function for a system\n",
        "\n",
        "* A simple equation defines the structural integrity of the system\n",
        "\n",
        "$$g(x,\\theta)  =2-\\theta_1x_1 +\\theta_2 x_2 + \\theta_3 x_1x_2$$\n",
        "\n",
        "where\n",
        "\n",
        "* $\\theta$ gives the structure design, (assume $\\theta=[1, 1, 0.5]$ is a baseline design)\n",
        "* $x_1$ Random operational, $x_2$ Random wind speed\n",
        "* $x_1,x_2$ are distributed as $f_X(x)$ (we will provide a function DGM to generate samples from it)\n",
        "\n",
        "We loose structural integrity if:\n",
        "$$g(x,\\theta)  \\leq 0 $$\n"
      ],
      "metadata": {
        "id": "LHsENpRd0qlc"
      }
    },
    {
      "cell_type": "markdown",
      "source": [
        "   $ ~$"
      ],
      "metadata": {
        "id": "ZezPhEp5BGXv"
      }
    },
    {
      "cell_type": "markdown",
      "source": [
        "### **Taks 1**. Define the indicator function\n",
        "\n",
        "\n",
        "   $\n",
        "   I(x) =\n",
        "   \\begin{cases}\n",
        "   1 & \\text{if } g(x, \\theta) \\leq 0, \\\\\n",
        "   0 & \\text{otherwise.}\n",
        "   \\end{cases}\n",
        "   $\n",
        "\n",
        "\n",
        "### **Taks 2**. Estimate the distribution of $f_g$ with  $x \\sim f_X(x)$\n",
        "\n",
        "### **Taks 3**. Estimate Prob. via MC integration\n",
        "  \n",
        "$$\\mathbb{P}[g(x,\\theta) \\leq 0], ~~~~\\text{with}~~~~ x \\sim f_X(x)$$\n",
        "\n",
        "\n",
        "### **Taks 4**. Visualize failure region and plot convergence of the probability estimate\n",
        "$$\\{x : g(x, \\theta)\\leq 0\\}$$"
      ],
      "metadata": {
        "id": "pUcFFNtBA_zp"
      }
    },
    {
      "cell_type": "markdown",
      "source": [
        "   $ ~$"
      ],
      "metadata": {
        "id": "0l-9n_imBGPY"
      }
    },
    {
      "cell_type": "code",
      "source": [
        "#@title The Probabilistic Model -> Generate samples/scenarios $x\\sim f_X(x)$.\n",
        "\n",
        "# =====================================================\n",
        "# The Probabilistic Model\n",
        "# =====================================================\n",
        "\n",
        "def DGM(n_samples: int = 5000):\n",
        "  \"\"\"\n",
        "  A data generating mechanism\n",
        "    Args:\n",
        "        n_samples: integer number of samples\n",
        "    Returns:\n",
        "        X: the samples\n",
        "        marginals: the marginal distributions\n",
        "        corr_matrix: a correlation matrix\n",
        "\n",
        "  \"\"\"\n",
        "  np.random.seed(42)\n",
        "\n",
        "  # Define marginal distributions (e.g., Lognormal and Weibull)\n",
        "  marginals = [stats.lognorm(s=0.5, scale=np.exp(0.5)),   # Lognormal\n",
        "              stats.weibull_min(c=12.0, scale=1.0)]       # Weibul\n",
        "\n",
        "  # Define correlation matrix\n",
        "  corr_matrix = np.array([[1.0, 0.6], [0.6, 1.0]])\n",
        "\n",
        "  # Generate correlated samples from a multivariate gaussian distribution\n",
        "  Z = mvn_rnd(mean=np.zeros(2),\n",
        "              cov=corr_matrix,\n",
        "              size=n_samples)\n",
        "\n",
        "  U = stats.norm.cdf(Z)  # Transform to uniform space\n",
        "  X = np.zeros_like(U)   # X contains all zeros same size as U\n",
        "\n",
        "  for i in range(2):\n",
        "    X[:, i] = marginals[i].ppf(U[:, i])  # Transform to physical space using inverse CDF\n",
        "\n",
        "  return X, marginals, corr_matrix\n"
      ],
      "metadata": {
        "id": "TqNZBSqo2zT1"
      },
      "execution_count": null,
      "outputs": []
    },
    {
      "cell_type": "code",
      "source": [
        "# example\n",
        "X, marginals, corr_matrix =  DGM(2000)\n",
        "\n",
        "x_linspace = np.linspace(-0,8,100)\n",
        "plt.plot(x_linspace, marginals[0].pdf(x_linspace))\n",
        "plt.xlabel('x1')\n",
        "plt.ylabel('PDF x1')\n",
        "plt.grid()\n",
        "plt.show()\n",
        "\n",
        "x_linspace = np.linspace(-0,2,100)\n",
        "plt.plot(x_linspace, marginals[1].pdf(x_linspace))\n",
        "plt.xlabel('x2')\n",
        "plt.ylabel('PDF x2')\n",
        "plt.grid()\n",
        "plt.show()\n",
        "\n",
        "plt.scatter(X[:, 0], X[:, 1], alpha=0.5)\n",
        "plt.xlabel('x1')\n",
        "plt.ylabel('x2')\n",
        "plt.grid()\n",
        "plt.show()"
      ],
      "metadata": {
        "id": "UzZmubdH5ZPm"
      },
      "execution_count": null,
      "outputs": []
    },
    {
      "cell_type": "markdown",
      "source": [
        "#Start"
      ],
      "metadata": {
        "id": "ZICGGp9P-n8H"
      }
    },
    {
      "cell_type": "markdown",
      "source": [
        "### Taks 1. Define the indicator function\n",
        "\n",
        "\n",
        "   $\n",
        "   I(x) =\n",
        "   \\begin{cases}\n",
        "   1 & \\text{if } g(x, \\theta) \\leq 0, \\\\\n",
        "   0 & \\text{otherwise.}\n",
        "   \\end{cases}\n",
        "   $\n"
      ],
      "metadata": {
        "id": "gVyq6VFp9xsb"
      }
    },
    {
      "cell_type": "code",
      "source": [
        "# Define the Performance Function g(x,theta)\n",
        "def g_fun(x1, x2, theta = None):\n",
        "    \"\"\"\n",
        "    Performance function g(x,theta).\n",
        "    Args:\n",
        "        x1, x2: Input variables.\n",
        "        theta: Design parameters\n",
        "    Returns:\n",
        "        Value of the performance function.\n",
        "    \"\"\"\n",
        "    if theta is None:\n",
        "      theta = [1, 1, 0.5]\n",
        "\n",
        "    return # COMPLETE CODE\n",
        "\n",
        "# Define the Indicator Function I(x)\n",
        "def I_fun(x1, x2, theta = None):\n",
        "    \"\"\"\n",
        "    Indicator function I(x).\n",
        "    Args:\n",
        "        x1, x2: Input variables.\n",
        "    Returns:\n",
        "        1 if g(x) <= 0 (failure), 0 otherwise.\n",
        "    \"\"\"\n",
        "    return [] # COMPLETE CODE"
      ],
      "metadata": {
        "id": "54MW0S-ehzYH"
      },
      "execution_count": null,
      "outputs": []
    },
    {
      "cell_type": "markdown",
      "source": [
        "### Taks 2. Estimate the distribution of $f_g$ with  $x \\sim f_X(x)$ via MC simulation\n"
      ],
      "metadata": {
        "id": "y8-4ZMHb-FYt"
      }
    },
    {
      "cell_type": "markdown",
      "source": [
        "### Monte Carlo (MC)  \n",
        "\n",
        "Monte Carlo estimation provides a sample-based approach to approximate the failure probability $P_f(\\theta)$ or equivalently $R(\\theta)$.\n",
        "\n",
        "1. Draw $n$ independent samples $\\{x_i\\}_{i=1}^n$ from the distribution $f_X(x)$\n",
        "\n",
        "2. For each sample $x_i$, evaluate $g(x_i; \\theta)$ and $I(x_i)$.  \n",
        "\n",
        "\n",
        "3. The Monte Carlo **Estimation** of $P_f(\\theta)$ is the expectation of the indicator function\n",
        "\n",
        "   $$\n",
        "   \\hat{P}_f(\\theta) = \\frac{1}{N} \\sum_{i=1}^N I(x_i).\n",
        "   $$\n",
        "\n",
        "\n",
        "\n",
        "4. Using the complement, the estimate $P_R(\\theta) = 1 - \\hat{P}_f(\\theta)$.\n",
        "\n",
        "5. Visualize region $\\{x : g(x)\\leq 0\\}$\n",
        "      "
      ],
      "metadata": {
        "id": "2ET_9Uq628yt"
      }
    },
    {
      "cell_type": "code",
      "source": [
        "# Monte Carlo Estimation\n",
        "# 1. sample\n",
        "X, _, _ =  # COMPLETE...use the DGM to generate samples\n",
        "\n",
        "\n",
        "# 2. evalluate system response\n",
        "g_samples = [] # COMPLETE...\n",
        "\n",
        "# 3. probability distribution of g_samples\n",
        "g_samples_sorted = np.sort(g_samples)\n",
        "n = len(g_samples)\n",
        "g_cdf_empirical = np.arange(1, n + 1) / n"
      ],
      "metadata": {
        "id": "tWtv139i-Ez4"
      },
      "execution_count": null,
      "outputs": []
    },
    {
      "cell_type": "markdown",
      "source": [
        "### Taks 3. Estimate Prob. via MC integration\n",
        "  \n",
        "$$\\mathbb{P}[g(x,\\theta) \\leq 0], ~~~~\\text{with}~~~~ x \\sim f_X(x)$$\n",
        "\n"
      ],
      "metadata": {
        "id": "WoSt03vm-I3N"
      }
    },
    {
      "cell_type": "code",
      "source": [
        "# Monte Carlo Estimation\n",
        "# 1. sample\n",
        "X, _, _ =  DGM(10_000)\n",
        "\n",
        "# 2. evalluate system response\n",
        "I_sams = # COMPLETE...\n",
        "\n",
        "# 3. samples-based estimate\n",
        "mc_estimate_pof = # COMPLETE...Expetation of the indicator function\n",
        "\n",
        "print(f\"Estimated probability of failure = {mc_estimate_pof:.6f}\")\n",
        "\n",
        "# 4. samples-based estimate\n",
        "mc_estimate_reliability = # COMPLETE... use complement rule\n",
        "print(f\"Estimated probability of the reliability = {mc_estimate_reliability:.6f}\")\n"
      ],
      "metadata": {
        "colab": {
          "base_uri": "https://localhost:8080/"
        },
        "id": "AC6b8u6p2qQY",
        "outputId": "0b054f9e-a3b4-4955-cc69-2729aa33a82f"
      },
      "execution_count": null,
      "outputs": [
        {
          "output_type": "stream",
          "name": "stdout",
          "text": [
            "Estimated probability of failure = 0.002180\n",
            "Estimated probability of the reliability = 0.997820\n"
          ]
        }
      ]
    },
    {
      "cell_type": "markdown",
      "source": [
        "\n",
        "### Taks 4. Visualize failure region and plot convergence of the probability estimate\n",
        "$$\\{x : g(x, \\theta)\\leq 0\\}$$"
      ],
      "metadata": {
        "id": "ML6Doz4zA2wI"
      }
    },
    {
      "cell_type": "code",
      "source": [],
      "metadata": {
        "id": "eavlpALBA2jB"
      },
      "execution_count": null,
      "outputs": []
    },
    {
      "cell_type": "code",
      "source": [
        "# 5.1 Visualization of failure region\n",
        "plt.scatter(X[I_sams==0,0], X[I_sams==0,1], alpha=0.03, label=f\"Safe\")\n",
        "plt.scatter(X[I_sams==1,0], X[I_sams==1,1], alpha=0.05, c='r', marker='x', label=\"Failed\")\n",
        "plt.xlabel('x1')\n",
        "plt.ylabel('x2')\n",
        "plt.legend()\n",
        "plt.grid()\n",
        "plt.show()\n",
        "\n",
        "# 5.2 Visualization of failure region\n",
        "X_grid_x1, X_grid_x2 = np.meshgrid(np.linspace(min(X[:,0]),max(X[:,0]),100), np.linspace(min(X[:,1]),max(X[:,1]),100))\n",
        "X_grid = np.stack((X_grid_x1.ravel(), X_grid_x2.ravel()), axis=-1)\n",
        "I_grid = np.array([I_fun(x[0], x[1]) for x in X_grid])\n",
        "plt.scatter(X_grid[I_grid==0,0], X_grid[I_grid==0,1], alpha=0.03, label=f\"Safe\")\n",
        "plt.scatter(X_grid[I_grid==1,0], X_grid[I_grid==1,1], alpha=0.05, c='r', marker='x', label=\"Failed\")\n",
        "plt.xlabel('x1')\n",
        "plt.ylabel('x2')\n",
        "plt.legend()\n",
        "plt.grid()\n",
        "plt.show()\n",
        "\n"
      ],
      "metadata": {
        "id": "3JU1z6wu867o"
      },
      "execution_count": null,
      "outputs": []
    },
    {
      "cell_type": "code",
      "source": [
        "# 6. Convergence of the Pf estimator\n",
        "steps_2_eval = range(100,len(I_sams),50)\n",
        "Pf_step_k = np.array([np.mean(I_sams[:k]) for k in steps_2_eval])\n",
        "plt.plot(steps_2_eval, Pf_step_k)\n",
        "plt.xlabel('Number of samples')\n",
        "plt.ylabel('Estimated probability of failure')\n",
        "plt.grid()\n",
        "plt.show()"
      ],
      "metadata": {
        "id": "GDgaxYbq_kgO"
      },
      "execution_count": null,
      "outputs": []
    }
  ],
  "metadata": {
    "colab": {
      "provenance": [],
      "authorship_tag": "ABX9TyNPNf+/UMxf/Ld9FYUxWC6P",
      "include_colab_link": true
    },
    "kernelspec": {
      "display_name": "Python 3",
      "name": "python3"
    },
    "language_info": {
      "name": "python"
    }
  },
  "nbformat": 4,
  "nbformat_minor": 0
}