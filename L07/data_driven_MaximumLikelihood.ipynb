{
  "nbformat": 4,
  "nbformat_minor": 0,
  "metadata": {
    "colab": {
      "provenance": [],
      "authorship_tag": "ABX9TyNibFhzKjjoeNvthRNoBhTP",
      "include_colab_link": true
    },
    "kernelspec": {
      "name": "python3",
      "display_name": "Python 3"
    },
    "language_info": {
      "name": "python"
    }
  },
  "cells": [
    {
      "cell_type": "markdown",
      "metadata": {
        "id": "view-in-github",
        "colab_type": "text"
      },
      "source": [
        "<a href=\"https://colab.research.google.com/github/supsi-dacd-isaac/TeachDecisionMakingUncertainty/blob/main/L07/data_driven_MaximumLikelihood.ipynb\" target=\"_parent\"><img src=\"https://colab.research.google.com/assets/colab-badge.svg\" alt=\"Open In Colab\"/></a>"
      ]
    },
    {
      "cell_type": "markdown",
      "source": [
        "# Maximum Likelihood Estimation for a Normal Distribution\n",
        "\n",
        "This document demonstrates how to perform Maximum Likelihood Estimation (MLE) to estimate the parameters (mean and standard deviation) of a normal distribution using Python.\n",
        "\n",
        "See also:\n",
        "http://probabilitycourse.com/chapter8/8_2_3_max_likelihood_estimation.php\n",
        "\n",
        "for more details and examples\n",
        "\n",
        "\n",
        "## Introduction\n",
        "\n",
        "MLE is a method used to estimate the parameters of a statistical model. In the context of a normal distribution, MLE can be used to estimate the mean (μ) and standard deviation (σ) that best fit the observed data.\n",
        "\n",
        "\n",
        "\n",
        "First, we generate a sample dataset of 100 data points drawn from a normal distribution with a true mean of 5 and a standard deviation of 2.\n",
        "\n",
        "\n",
        "## Defining the Negative Log-Likelihood Function for a Normal Distribution\n",
        "\n",
        "In statistical modeling, the **Negative Log-Likelihood (NLL)** is a measure used to assess the fit of a probability distribution to a set of observed data. For a normal (Gaussian) distribution, the NLL function quantifies how well the parameters of the distribution (mean and standard deviation) explain the observed data.\n",
        "\n",
        "### Likelihood Function\n",
        "\n",
        "Given a set of independent and identically distributed data points $x_1, x_2, \\ldots, x_n $ drawn from a normal distribution with mean $\\mu$ and variance $\\sigma^2 $, the likelihood function $L(\\mu, \\sigma^2)$ is the joint probability density of observing the given data under the specified parameters:\n",
        "\n",
        "$$\n",
        "L(\\mu, \\sigma^2) = \\prod_{i=1}^n \\frac{1}{\\sqrt{2\\pi\\sigma^2}} \\exp\\left(-\\frac{(x_i - \\mu)^2}{2\\sigma^2}\\right)\n",
        "$$\n",
        "\n",
        "### Log-Likelihood Function\n",
        "\n",
        "To simplify the computation, we often work with the natural logarithm of the likelihood function, known as the log-likelihood function:\n",
        "\n",
        "$$\n",
        "\\ln L(\\mu, \\sigma^2) = -\\frac{n}{2} \\ln(2\\pi) - \\frac{n}{2} \\ln(\\sigma^2) - \\frac{1}{2\\sigma^2} \\sum_{i=1}^n (x_i - \\mu)^2\n",
        "$$\n",
        " .\n",
        "\n"
      ],
      "metadata": {
        "id": "eX37OgIBPz6R"
      }
    },
    {
      "cell_type": "code",
      "execution_count": 35,
      "metadata": {
        "colab": {
          "base_uri": "https://localhost:8080/"
        },
        "id": "m-WkA5G1PIVk",
        "outputId": "e74cd10c-3adb-4964-b884-230bbb969186"
      },
      "outputs": [
        {
          "output_type": "stream",
          "name": "stdout",
          "text": [
            "MLE for Mean (mu): 4.792306965211812\n",
            "MLE for Standard Deviation (sigma): 1.8072323532892591\n"
          ]
        }
      ],
      "source": [
        "import numpy as np\n",
        "from scipy.stats import norm\n",
        "\n",
        "# Set seed for reproducibility\n",
        "np.random.seed(42)\n",
        "\n",
        "# Generate 100 data points from a normal distribution with true mean=5 and std=2\n",
        "sample_data = np.random.normal(loc=5, scale=2, size=100)\n",
        "\n",
        "\n",
        "def negative_log_likelihood(params, data):\n",
        "    mu, sigma = params\n",
        "    n = len(data)\n",
        "    return 0.5 * n * np.log(2 * np.pi * sigma**2) + np.sum((data - mu)**2) / (2 * sigma**2)\n",
        "\n",
        "from scipy.optimize import minimize\n",
        "\n",
        "# Initial guesses for mu and sigma\n",
        "initial_params = [np.mean(sample_data), np.std(sample_data)]\n",
        "\n",
        "# Minimize the negative log-likelihood\n",
        "result = minimize(negative_log_likelihood, initial_params, args=(sample_data,), bounds=[(None, None), (1e-6, None)])\n",
        "\n",
        "# Extract the MLE estimates\n",
        "mle_mu, mle_sigma = result.x\n",
        "\n",
        "print(f\"MLE for Mean (mu): {mle_mu}\")\n",
        "print(f\"MLE for Standard Deviation (sigma): {mle_sigma}\")\n"
      ]
    },
    {
      "cell_type": "markdown",
      "source": [
        "n"
      ],
      "metadata": {
        "id": "Ee8DFES3SdgB"
      }
    },
    {
      "cell_type": "code",
      "source": [
        "import numpy as np\n",
        "from scipy.stats import wasserstein_distance as wasserstein\n",
        "from scipy.optimize import minimize\n",
        "\n",
        "# Improved likelihood function\n",
        "def non_parametric_likelihood(params, simulator, data):\n",
        "    sim_data = simulator(params)\n",
        "    if sim_data is None or len(sim_data) == 0:  # Handle failure cases\n",
        "        return 1e6  # Large finite penalty instead of -∞\n",
        "\n",
        "    probabilistic_distance_distributions = wasserstein(sim_data, data)\n",
        "\n",
        "    # Adjust likelihood scaling (was too extreme before)\n",
        "    likelihood = np.exp(-100 * probabilistic_distance_distributions / len(data))\n",
        "\n",
        "    return -likelihood  # NEGATIVE for maximization\n",
        "\n",
        "# Improved simulator function\n",
        "def example_stochastic_simulator(params, n_samples=5000):  # Increased samples\n",
        "    mu, std, a1, a2, a3 = params\n",
        "\n",
        "    if std <= 0:  # Prevent invalid standard deviation\n",
        "        return None\n",
        "\n",
        "    noise1 = np.random.normal(loc=mu, scale=std, size=n_samples)\n",
        "    noise2 = np.random.normal(loc=mu, scale=std, size=n_samples)\n",
        "    out = a1 + a2 * noise1 + a3 * noise2  + np.sin(a2 * noise1 * noise2)\n",
        "\n",
        "    return out\n",
        "\n",
        "# True parameters\n",
        "true_parameters = [1, 0.2, 0.1, 3, 1.1]\n",
        "\n",
        "# Sample data with more points for better likelihood estimation\n",
        "sample_data = example_stochastic_simulator(true_parameters, 5000)  # Use more samples\n",
        "\n",
        "# Initial guess\n",
        "initial_params = [0.5, 0.1, 0.1, 0.1, 0.1]\n",
        "\n",
        "# Bounds to ensure `std` is positive\n",
        "bounds = [(None, 2),  # mu unrestricted\n",
        "          (1e-4, 2),  # std > 0\n",
        "          (0, 2),   # a1 unrestricted\n",
        "          (0, 2),   # a2 unrestricted\n",
        "          (0, 2)]   # a3 unrestricted\n",
        "\n",
        "# Try Powell (better for non-smooth optimization)\n",
        "result = minimize(non_parametric_likelihood, initial_params, args=(example_stochastic_simulator, sample_data), bounds=bounds, method=\"Powell\")\n",
        "\n",
        "# Extract the MLE estimates\n",
        "mle_params = result.x\n",
        "\n",
        "print(\"Optimized Parameters:\", mle_params)\n",
        "print(\"True Parameters:\", true_parameters)\n",
        "print(\"Optimization Success:\", result.success)\n",
        "print(\"Final Cost:\", result.fun)\n",
        "\n",
        "import matplotlib.pyplot as plt\n",
        "plt.hist(sample_data, cumulative=True, density=True, bins=100)\n",
        "plt.hist(example_stochastic_simulator(mle_params), cumulative=True, density=True, bins=100)\n",
        "plt.show()\n",
        "\n"
      ],
      "metadata": {
        "colab": {
          "base_uri": "https://localhost:8080/",
          "height": 502
        },
        "id": "lsgkJ45oSc37",
        "outputId": "d1d28f28-1616-4820-b8a0-2d6845fc36c3"
      },
      "execution_count": 34,
      "outputs": [
        {
          "output_type": "stream",
          "name": "stdout",
          "text": [
            "Optimized Parameters: [1.67728361 0.41046507 1.87497843 0.97137672 0.28502476]\n",
            "True Parameters: [1, 0.2, 0.1, 3, 1.1]\n",
            "Optimization Success: True\n",
            "Final Cost: -0.9985499332740044\n"
          ]
        },
        {
          "output_type": "display_data",
          "data": {
            "text/plain": [
              "<Figure size 640x480 with 1 Axes>"
            ],
            "image/png": "[encoded data removed]"
          },
          "metadata": {}
        }
      ]
    }
  ]
}