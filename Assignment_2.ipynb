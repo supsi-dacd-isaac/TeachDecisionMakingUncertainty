{
  "nbformat": 4,
  "nbformat_minor": 0,
  "metadata": {
    "colab": {
      "provenance": [],
      "authorship_tag": "ABX9TyM/nI/oJnz34sFCA2W7Kq6P",
      "include_colab_link": true
    },
    "kernelspec": {
      "name": "python3",
      "display_name": "Python 3"
    },
    "language_info": {
      "name": "python"
    }
  },
  "cells": [
    {
      "cell_type": "markdown",
      "metadata": {
        "id": "view-in-github",
        "colab_type": "text"
      },
      "source": [
        "<a href=\"https://colab.research.google.com/github/supsi-dacd-isaac/TeachDecisionMakingUncertainty/blob/main/Assignment_2.ipynb\" target=\"_parent\"><img src=\"https://colab.research.google.com/assets/colab-badge.svg\" alt=\"Open In Colab\"/></a>"
      ]
    },
    {
      "cell_type": "markdown",
      "source": [
        "# Cart-pole control\n",
        "\n",
        "In the second task you’ll try to craft controllers for the version of the cart-pole problem described by Barto, Sutton, and Anderson in [“Neuronlike Adaptive Elements That Can Solve Difficult Learning Control Problem”.](https://ieeexplore.ieee.org/document/6313077)\n",
        "\n",
        "<div>\n",
        "<img src=\"https://gymnasium.farama.org/_static/videos/mujoco/inverted_pendulum.gif\" width=\"200\"/>\n",
        "</div>\n",
        "\n",
        "\n",
        "\n",
        "# Gym env\n",
        "This model has been encoded in the **Inverted Pendulum** environment\n",
        "\n",
        "Find [here](https://gymnasium.farama.org/environments/mujoco/inverted_pendulum/) a detailed description of the environment\n",
        "* action space\n",
        "* observation space\n",
        "* reward\n",
        "* model\n",
        "\n",
        "\n"
      ],
      "metadata": {
        "id": "K-xwQEtYZwlG"
      }
    },
    {
      "cell_type": "code",
      "source": [
        "#@title Installing required libraries, setup\n",
        "\n",
        "%%capture\n",
        "!pip install gym pyvirtualdisplay\n",
        "!apt-get install -y xvfb python-opengl ffmpeg\n",
        "!pip install \"gymnasium[mujoco]\"\n",
        "import os\n",
        "os.environ[\"MUJOCO_GL\"] = \"egl\"\n",
        "os.environ[\"PYOPENGL_PLATFORM\"] = \"egl\""
      ],
      "metadata": {
        "id": "RuKuo2qgivG3",
        "cellView": "form"
      },
      "execution_count": 12,
      "outputs": []
    },
    {
      "cell_type": "markdown",
      "source": [
        "# Env and benchmark policies\n",
        "The following cell defines the environment, `InvertedPendulum-v5` and two baseline policie:\n",
        "* `zero_policy`: always return 0, that is, no force is applied to the cart\n",
        "* `random_policy`: a random force is sampled from the admissible intervals of the environment's action space\n",
        "\n",
        "The effect of these two policies is shown in the following cells via animations of control scenarios."
      ],
      "metadata": {
        "id": "8Y5c8STRaa_6"
      }
    },
    {
      "cell_type": "code",
      "source": [
        "import gymnasium as gym\n",
        "import numpy as np\n",
        "import random\n",
        "import math\n",
        "import matplotlib.pyplot as plt\n",
        "import seaborn as sns\n",
        "import pandas as pd\n",
        "\n",
        "# Create the InvertedPendulum environment (Mujoco must be installed)\n",
        "env = gym.make(\"InvertedPendulum-v5\", render_mode=\"rgb_array\")\n",
        "\n",
        "# Random policy - always chose [0]\n",
        "def zero_policy(obs):\n",
        "    return [0]\n",
        "\n",
        "# Random policy\n",
        "def random_policy(obs):\n",
        "    return env.action_space.sample()"
      ],
      "metadata": {
        "id": "__lK1cSjbEgk"
      },
      "execution_count": 13,
      "outputs": []
    },
    {
      "cell_type": "markdown",
      "source": [
        "# Benchmark solutions\n",
        "The following cell runs 1000 episodes for the `zero_policy` and the `random_policy` policies and retrieve the expected rewards in terms of number of steps before termination. Your solutions should beat both the benchmarks (~24 steps in expectation)."
      ],
      "metadata": {
        "id": "8b6_iKfeX1Y8"
      }
    },
    {
      "cell_type": "code",
      "source": [
        "#@title Defining animating function\n",
        "from gymnasium.wrappers import RecordVideo\n",
        "import glob\n",
        "from IPython.display import Video\n",
        "\n",
        "\n",
        "def animate_policy(policy, env=gym.make(\"InvertedPendulum-v5\", render_mode=\"rgb_array\")):\n",
        "  recorded = RecordVideo(\n",
        "      env,                          # this is your AtariPreprocessing+FrameStack env\n",
        "      video_folder=\"\",\n",
        "      episode_trigger=lambda ep: True,\n",
        "      name_prefix=\"breakout_eval\"\n",
        "  )\n",
        "\n",
        "  # Run exactly one episode\n",
        "  obs, info = recorded.reset()\n",
        "  done = False\n",
        "  i=0\n",
        "  obs, _ = env.reset()\n",
        "  while not done:\n",
        "      i+=1\n",
        "      action = policy(obs)\n",
        "      obs, reward, terminated, truncated, info = recorded.step(action)\n",
        "      done = terminated or truncated\n",
        "  recorded.close()\n",
        "\n",
        "  # Find and embed the just-written MP4\n",
        "  mp4 = sorted(glob.glob(\"breakout_eval-episode-*.mp4\"))[-1]\n",
        "  return Video(mp4, embed=True)"
      ],
      "metadata": {
        "id": "srPBZ2eoOIBg"
      },
      "execution_count": 14,
      "outputs": []
    },
    {
      "cell_type": "code",
      "source": [
        "animate_policy(random_policy,env=gym.make(\"InvertedPendulum-v5\", render_mode=\"rgb_array\"))"
      ],
      "metadata": {
        "colab": {
          "base_uri": "https://localhost:8080/",
          "height": 502
        },
        "id": "Zl4xLw6yfxMr",
        "outputId": "be2e5242-9cea-47a6-a043-16af2092c177"
      },
      "execution_count": 15,
      "outputs": [
        {
          "output_type": "execute_result",
          "data": {
            "text/plain": [
              "<IPython.core.display.Video object>"
            ],
            "text/html": [
              "<video controls  >\n",
              " <source src=\"data:video/mp4;base64,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\" type=\"video/mp4\">\n",
              " Your browser does not support the video tag.\n",
              " </video>"
            ]
          },
          "metadata": {},
          "execution_count": 15
        }
      ]
    },
    {
      "cell_type": "code",
      "source": [
        "animate_policy(zero_policy,env=gym.make(\"InvertedPendulum-v5\", render_mode=\"rgb_array\"))\n"
      ],
      "metadata": {
        "colab": {
          "base_uri": "https://localhost:8080/",
          "height": 502
        },
        "id": "mvD0U7tafyFX",
        "outputId": "397d7283-0e1c-467a-a981-51c80d3e7626"
      },
      "execution_count": 16,
      "outputs": [
        {
          "output_type": "execute_result",
          "data": {
            "text/plain": [
              "<IPython.core.display.Video object>"
            ],
            "text/html": [
              "<video controls  >\n",
              " <source src=\"data:video/mp4;base64,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\" type=\"video/mp4\">\n",
              " Your browser does not support the video tag.\n",
              " </video>"
            ]
          },
          "metadata": {},
          "execution_count": 16
        }
      ]
    },
    {
      "cell_type": "code",
      "source": [
        "def compute_average_reward(policy, env, num_episodes=1000):\n",
        "    total_reward = 0\n",
        "    for _ in range(num_episodes):\n",
        "        obs, _ = env.reset()\n",
        "        done = False\n",
        "        episode_reward = 0\n",
        "        while not done:\n",
        "            action = policy(obs)\n",
        "            obs, reward, terminated, truncated, info = env.step(action)\n",
        "            episode_reward += reward\n",
        "            done = terminated or truncated\n",
        "        total_reward += episode_reward\n",
        "    return total_reward / num_episodes\n",
        "\n",
        "# Create the environment\n",
        "env = gym.make(\"InvertedPendulum-v5\")\n",
        "\n",
        "# Compute average reward for zero policy\n",
        "avg_reward_zero = compute_average_reward(zero_policy, env)\n",
        "print(f\"Average reward for zero policy over 1000 episodes: {avg_reward_zero}\")\n",
        "\n",
        "# Compute average reward for random policy\n",
        "avg_reward_random = compute_average_reward(random_policy, env)\n",
        "print(f\"Average reward for random policy over 1000 episodes: {avg_reward_random}\")\n",
        "\n",
        "env.close()"
      ],
      "metadata": {
        "colab": {
          "base_uri": "https://localhost:8080/"
        },
        "id": "aVDksuqaV8Zu",
        "outputId": "624cdda1-3514-42fd-b900-f524344551f8"
      },
      "execution_count": 17,
      "outputs": [
        {
          "output_type": "stream",
          "name": "stdout",
          "text": [
            "Average reward for zero policy over 1000 episodes: 24.042\n",
            "Average reward for random policy over 1000 episodes: 4.785\n"
          ]
        }
      ]
    }
  ]
}