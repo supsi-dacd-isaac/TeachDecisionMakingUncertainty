{
  "nbformat": 4,
  "nbformat_minor": 0,
  "metadata": {
    "colab": {
      "provenance": [],
      "authorship_tag": "ABX9TyMGH9rPRK986ijOQhzwvkZQ",
      "include_colab_link": true
    },
    "kernelspec": {
      "name": "python3",
      "display_name": "Python 3"
    },
    "language_info": {
      "name": "python"
    }
  },
  "cells": [
    {
      "cell_type": "markdown",
      "metadata": {
        "id": "view-in-github",
        "colab_type": "text"
      },
      "source": [
        "<a href=\"https://colab.research.google.com/github/supsi-dacd-isaac/TeachDecisionMakingUncertainty/blob/main/Assignment_2.ipynb\" target=\"_parent\"><img src=\"https://colab.research.google.com/assets/colab-badge.svg\" alt=\"Open In Colab\"/></a>"
      ]
    },
    {
      "cell_type": "markdown",
      "source": [
        "# Cart-pole control\n",
        "\n",
        "In the second task you’ll try to craft controllers for the version of the cart-pole problem described by Barto, Sutton, and Anderson in [“Neuronlike Adaptive Elements That Can Solve Difficult Learning Control Problem”.](https://ieeexplore.ieee.org/document/6313077)\n",
        "\n",
        "<div>\n",
        "<img src=\"https://gymnasium.farama.org/_static/videos/mujoco/inverted_pendulum.gif\" width=\"200\"/>\n",
        "</div>\n",
        "\n",
        "\n",
        "\n",
        "# Gym env\n",
        "This model has been encoded in the **Inverted Pendulum** environment\n",
        "\n",
        "Find [here](https://gymnasium.farama.org/environments/mujoco/inverted_pendulum/) a detailed description of the environment\n",
        "* action space\n",
        "* observation space\n",
        "* reward\n",
        "* model\n",
        "\n",
        "\n"
      ],
      "metadata": {
        "id": "K-xwQEtYZwlG"
      }
    },
    {
      "cell_type": "code",
      "source": [
        "#@title Installing required libraries, setup\n",
        "\n",
        "%%capture\n",
        "!pip install gym pyvirtualdisplay\n",
        "!apt-get install -y xvfb python-opengl ffmpeg\n",
        "!pip install \"gymnasium[mujoco]\"\n",
        "import os\n",
        "os.environ[\"MUJOCO_GL\"] = \"egl\"\n",
        "os.environ[\"PYOPENGL_PLATFORM\"] = \"egl\""
      ],
      "metadata": {
        "id": "RuKuo2qgivG3",
        "cellView": "form"
      },
      "execution_count": 207,
      "outputs": []
    },
    {
      "cell_type": "markdown",
      "source": [
        "# Env and benchmark policies\n",
        "The following cell defines the environment, `InvertedPendulum-v5` and two baseline policie:\n",
        "* `zero_policy`: always return 0, that is, no force is applied to the cart\n",
        "* `random_policy`: a random force is sampled from the admissible intervals of the environment's action space\n",
        "\n",
        "The effect of these two policies is shown in the following cells via animations of control scenarios."
      ],
      "metadata": {
        "id": "8Y5c8STRaa_6"
      }
    },
    {
      "cell_type": "code",
      "source": [
        "import gymnasium as gym\n",
        "import numpy as np\n",
        "import random\n",
        "import math\n",
        "import matplotlib.pyplot as plt\n",
        "import seaborn as sns\n",
        "import pandas as pd\n",
        "\n",
        "# Create the InvertedPendulum environment (Mujoco must be installed)\n",
        "env = gym.make(\"InvertedPendulum-v5\", render_mode=\"rgb_array\")\n",
        "\n",
        "# Random policy - always chose [0]\n",
        "def zero_policy(obs):\n",
        "    return [0]\n",
        "\n",
        "# Random policy\n",
        "def random_policy(obs):\n",
        "    return env.action_space.sample()"
      ],
      "metadata": {
        "id": "__lK1cSjbEgk"
      },
      "execution_count": 208,
      "outputs": []
    },
    {
      "cell_type": "markdown",
      "source": [
        "# Benchmark solutions\n",
        "The following cell runs 1000 episodes for the `zero_policy` and the `random_policy` policies and retrieve the expected rewards in terms of number of steps before termination. Your solutions should beat both the benchmarks (~24 steps in expectation)."
      ],
      "metadata": {
        "id": "8b6_iKfeX1Y8"
      }
    },
    {
      "cell_type": "code",
      "source": [
        "#@title Defining animating function\n",
        "from gymnasium.wrappers import RecordVideo\n",
        "import glob\n",
        "from IPython.display import Video\n",
        "\n",
        "\n",
        "def animate_policy(policy, env=gym.make(\"InvertedPendulum-v5\", render_mode=\"rgb_array\")):\n",
        "  recorded = RecordVideo(\n",
        "      env,                          # this is your AtariPreprocessing+FrameStack env\n",
        "      video_folder=\"\",\n",
        "      episode_trigger=lambda ep: True,\n",
        "      name_prefix=\"breakout_eval\"\n",
        "  )\n",
        "\n",
        "  # Run exactly one episode\n",
        "  obs, info = recorded.reset()\n",
        "  done = False\n",
        "  i=0\n",
        "  obs, _ = env.reset()\n",
        "  while not done:\n",
        "      i+=1\n",
        "      action = policy(obs)\n",
        "      obs, reward, terminated, truncated, info = recorded.step(action)\n",
        "      done = terminated or truncated\n",
        "  recorded.close()\n",
        "\n",
        "  # Find and embed the just-written MP4\n",
        "  mp4 = sorted(glob.glob(\"breakout_eval-episode-*.mp4\"))[-1]\n",
        "  return Video(mp4, embed=True)"
      ],
      "metadata": {
        "id": "srPBZ2eoOIBg"
      },
      "execution_count": 209,
      "outputs": []
    },
    {
      "cell_type": "code",
      "source": [
        "animate_policy(random_policy)"
      ],
      "metadata": {
        "colab": {
          "base_uri": "https://localhost:8080/",
          "height": 502
        },
        "id": "Zl4xLw6yfxMr",
        "outputId": "d2365a5c-97bb-4db2-8718-abc3a367d87a"
      },
      "execution_count": 210,
      "outputs": [
        {
          "output_type": "execute_result",
          "data": {
            "text/plain": [
              "<IPython.core.display.Video object>"
            ],
            "text/html": [
              "<video controls  >\n",
              " <source src=\"data:video/mp4;base64,AAAAIGZ0eXBpc29tAAACAGlzb21pc28yYXZjMW1wNDEAAAAIZnJlZQAACLJtZGF0AAACrgYF//+q3EXpvebZSLeWLNgg2SPu73gyNjQgLSBjb3JlIDE2NCByMzE5MSA0NjEzYWMzIC0gSC4yNjQvTVBFRy00IEFWQyBjb2RlYyAtIENvcHlsZWZ0IDIwMDMtMjAyNCAtIGh0dHA6Ly93d3cudmlkZW9sYW4ub3JnL3gyNjQuaHRtbCAtIG9wdGlvbnM6IGNhYmFjPTEgcmVmPTMgZGVibG9jaz0xOjA6MCBhbmFseXNlPTB4MzoweDExMyBtZT1oZXggc3VibWU9NyBwc3k9MSBwc3lfcmQ9MS4wMDowLjAwIG1peGVkX3JlZj0xIG1lX3JhbmdlPTE2IGNocm9tYV9tZT0xIHRyZWxsaXM9MSA4eDhkY3Q9MSBjcW09MCBkZWFkem9uZT0yMSwxMSBmYXN0X3Bza2lwPTEgY2hyb21hX3FwX29mZnNldD0tMiB0aHJlYWRzPTMgbG9va2FoZWFkX3RocmVhZHM9MSBzbGljZWRfdGhyZWFkcz0wIG5yPTAgZGVjaW1hdGU9MSBpbnRlcmxhY2VkPTAgYmx1cmF5X2NvbXBhdD0wIGNvbnN0cmFpbmVkX2ludHJhPTAgYmZyYW1lcz0zIGJfcHlyYW1pZD0yIGJfYWRhcHQ9MSBiX2JpYXM9MCBkaXJlY3Q9MSB3ZWlnaHRiPTEgb3Blbl9nb3A9MCB3ZWlnaHRwPTIga2V5aW50PTI1MCBrZXlpbnRfbWluPTI1IHNjZW5lY3V0PTQwIGludHJhX3JlZnJlc2g9MCByY19sb29rYWhlYWQ9NDAgcmM9Y3JmIG1idHJlZT0xIGNyZj0yMy4wIHFjb21wPTAuNjAgcXBtaW49MCBxcG1heD02OSBxcHN0ZXA9NCBpcF9yYXRpbz0xLjQwIGFxPTE6MS4wMACAAAADy2WIhAAz//727L4FNhTIUJcRLMXaSnA+KqSAgHc0wAAAAwAAAwG658Yf0LjnuckAABqQAT4ekvwdwCAIFeLD2sbM7n2AmHXNlMqJkaUmhsjWCce3312xebOf8mLnxo+pKNTfK2dUa5GEAm5y4pBMNtEpS5IyqA+0QVdbzT6ZAZAE4iCbk8i4smiPZ3pCYSHMizo+xZ+QccGdDrROE90Uza4wl0A8BwVc+G67SEPLX2IEK4ks8J/AA5V4x43zkO3cKFQ4HVu8DRzw0xcCSfj1GHuCf5azIZy1yFdKoOUbVIqKWjEEIlD5OefXxbSPsUVqztvNaIQaM3OMR4SmSiuRJliOTNcrTkNBUi2H52cj/ke9/2SNyK4UoNDltPp8Eb81NmtmrAQmfx6V9UNV4Xs0tZeWg+MEYJ5q4zAeMtvK4OolGyFlVmSeatzbCPCsrHMBDOgN35JEhM4FrIoDUrvb4Xf0ow97F1fHItFP4fxtpu8RKWo6Ejq9sNB7HmG9BbRDL/faORSqy7G6nDKU/e728IglGNP6ixQQurjmjir1wZq3PDmSiWtTRZ0+rQB6Ys2e22BgspA49BqhM5mbZuV1yLqeH/9deGSsT/TfNfND3zOHPyzJvwEWHmy22y86OiDCDhoQ6JqM+qpJuCHR8n8NS+2enP187lKvNr6Hty66FgDS3KyO4JzfhAGPte3YpU7MDvoLNxTUZeEaxeDyxjsPXGwiTu/sYz3sFA4rO8pcfKHSwqlndf0pavdJ8faJdUST0z+qyxsCvwd4PVJAi82FRZ8RB1GBBfGdZBGw38icwR0rFOgzSPJIB/hlNWFqNAMFh2w/oLqn16m6J62N0Eki5YiM1Zt6ZKkQl2/CiJr1qcJuxYsmhhTUjeoubyiBsdo+NHBW3kSroNMXQVCq7c0XTI6Sn1x5qbO8T5p+JIgvxbgWfCG7X/YgSF2fY/CTaMwni2v+GeddJ/TQDsEH5bF8/n7FCxjBMPsArauSX1YJMnGfsw/5V/7e5ghVLdpRXgqt8HD8y5VQOy5oL2VE8cOX5liVoaEnr3OaRQFe3gnkqDYKvx4Aw8kveiqGq8G5x+jouCNRoGNH0rVMrrl8eNUaVYsW9E2FdFeIFmcncGzswsJLD9FyppX+YqFL7v0dMfZ60iBexckwQ0TmfanIE7Lq+elcGOfdsiK7go2s28G8puWOK52604zBSPTnVD+llRk2IxU9JtqMg2q90BLJ0HMlA/OUslHtAACRLRB7rl76gFGAAAADAAADAAADAAADAAADAAADAAADAAADACthAAAAwUGaI2xC//6MsAD0rchXZEMz0K9X2XIIF/eAAqE0eE/e41LbVDXAcs1uuOvut2NyhN2Q0GDFtRg4eazNeyEGgmpeaGVAe4BK5aNoOWvnlOX7eUXNpxaDFjNza4KfOKl/ZW8Vpu3kDPBqNeGeCAjp/V0IT3vCeV67SRXy36QnBmhRQGyqBNJ9TFirPjC7Xo3cRZLASfHTY/Ec9KBjPUJgEfQdyDi1g2fLLKvdU6ZilfpFZ/JoFYEcny+THO1VXgAkbzwAAABgQZ5BeIV/ADOAU69lY733TkWfzmV1V26ND8i5IAlA4XR6n0SHAck4QCleb3ZIsEmjfH1fAoIZHy63CsMblruO8bHNjf4Ngr8bmX8UKrjbnpa2RMFC8KEoovtZdTgX0AY1AAAAYAGeYmpCvwAzjO4K7bFWTfLRY5k/uWQr8/wOPa4dwUrhUdoF0buEljktW9AmMTD56i1eF3hlJnfRJM/MtniG+2uWKx1TRpxvdKW1AEUHk/B0x3P+aka7XsfxKLysWZATcAAAAJhBmmRJqEFomUwIV//+OEADtGY+5O0JGCEjE3XQN9JQAceWHh+/vT3bNK8WLUMAAk8tkNv3RQ1Rw02BIIFBixncX//Yz4z6brjJGbuz2hgRCF16oQ+JAVa4a2CGQ6FAGJi+fDPJQVDU58r09sTHGGFWyOF3ZiVFFaYFBYs2Snql/F15tYhTwNT4gvKxeQugeabjlWhrFbXeIQAAA11tb292AAAAbG12aGQAAAAAAAAAAAAAAAAAAAPoAAAAyAABAAABAAAAAAAAAAAAAAAAAQAAAAAAAAAAAAAAAAAAAAEAAAAAAAAAAAAAAAAAAEAAAAAAAAAAAAAAAAAAAAAAAAAAAAAAAAAAAAAAAAACAAACiHRyYWsAAABcdGtoZAAAAAMAAAAAAAAAAAAAAAEAAAAAAAAAyAAAAAAAAAAAAAAAAAAAAAAAAQAAAAAAAAAAAAAAAAAAAAEAAAAAAAAAAAAAAAAAAEAAAAAB4AAAAeAAAAAAACRlZHRzAAAAHGVsc3QAAAAAAAAAAQAAAMgAAAQAAAEAAAAAAgBtZGlhAAAAIG1kaGQAAAAAAAAAAAAAAAAAADIAAAAKAFXEAAAAAAAtaGRscgAAAAAAAAAAdmlkZQAAAAAAAAAAAAAAAFZpZGVvSGFuZGxlcgAAAAGrbWluZgAAABR2bWhkAAAAAQAAAAAAAAAAAAAAJGRpbmYAAAAcZHJlZgAAAAAAAAABAAAADHVybCAAAAABAAABa3N0YmwAAACvc3RzZAAAAAAAAAABAAAAn2F2YzEAAAAAAAAAAQAAAAAAAAAAAAAAAAAAAAAB4AHgAEgAAABIAAAAAAAAAAEUTGF2YzYxLjMuMTAwIGxpYngyNjQAAAAAAAAAAAAAAAAY//8AAAA1YXZjQwFkAB7/4QAYZ2QAHqzZQeD2hAAAAwAEAAADAMg8WLZYAQAGaOvjyyLA/fj4AAAAABRidHJ0AAAAAAABWpAAAVqQAAAAGHN0dHMAAAAAAAAAAQAAAAUAAAIAAAAAFHN0c3MAAAAAAAAAAQAAAAEAAAAwY3R0cwAAAAAAAAAEAAAAAQAABAAAAAABAAAIAAAAAAIAAAIAAAAAAQAABAAAAAAcc3RzYwAAAAAAAAABAAAAAQAAAAUAAAABAAAAKHN0c3oAAAAAAAAAAAAAAAUAAAaBAAAAxQAAAGQAAABkAAAAnAAAABRzdGNvAAAAAAAAAAEAAAAwAAAAYXVkdGEAAABZbWV0YQAAAAAAAAAhaGRscgAAAAAAAAAAbWRpcmFwcGwAAAAAAAAAAAAAAAAsaWxzdAAAACSpdG9vAAAAHGRhdGEAAAABAAAAAExhdmY2MS4xLjEwMA==\" type=\"video/mp4\">\n",
              " Your browser does not support the video tag.\n",
              " </video>"
            ]
          },
          "metadata": {},
          "execution_count": 210
        }
      ]
    },
    {
      "cell_type": "code",
      "source": [
        "animate_policy(zero_policy)\n"
      ],
      "metadata": {
        "colab": {
          "base_uri": "https://localhost:8080/",
          "height": 502
        },
        "id": "mvD0U7tafyFX",
        "outputId": "5ba022cb-55b9-41c7-edb7-ca4c963e41f3"
      },
      "execution_count": 211,
      "outputs": [
        {
          "output_type": "execute_result",
          "data": {
            "text/plain": [
              "<IPython.core.display.Video object>"
            ],
            "text/html": [
              "<video controls  >\n",
              " <source src=\"data:video/mp4;base64,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\" type=\"video/mp4\">\n",
              " Your browser does not support the video tag.\n",
              " </video>"
            ]
          },
          "metadata": {},
          "execution_count": 211
        }
      ]
    },
    {
      "cell_type": "code",
      "source": [
        "def compute_average_reward(policy, env, num_episodes=1000):\n",
        "    total_reward = 0\n",
        "    for _ in range(num_episodes):\n",
        "        obs, _ = env.reset()\n",
        "        done = False\n",
        "        episode_reward = 0\n",
        "        while not done:\n",
        "            action = policy(obs)\n",
        "            obs, reward, terminated, truncated, info = env.step(action)\n",
        "            episode_reward += reward\n",
        "            done = terminated or truncated\n",
        "        total_reward += episode_reward\n",
        "    return total_reward / num_episodes\n",
        "\n",
        "# Create the environment\n",
        "env = gym.make(\"InvertedPendulum-v5\")\n",
        "\n",
        "# Compute average reward for zero policy\n",
        "avg_reward_zero = compute_average_reward(zero_policy, env)\n",
        "print(f\"Average reward for zero policy over 1000 episodes: {avg_reward_zero}\")\n",
        "\n",
        "# Compute average reward for random policy\n",
        "avg_reward_random = compute_average_reward(random_policy, env)\n",
        "print(f\"Average reward for random policy over 1000 episodes: {avg_reward_random}\")\n",
        "\n",
        "env.close()"
      ],
      "metadata": {
        "colab": {
          "base_uri": "https://localhost:8080/"
        },
        "id": "aVDksuqaV8Zu",
        "outputId": "39a52469-bb13-4560-a1b4-32d1135544e1"
      },
      "execution_count": 212,
      "outputs": [
        {
          "output_type": "stream",
          "name": "stdout",
          "text": [
            "Average reward for zero policy over 1000 episodes: 24.333\n",
            "Average reward for random policy over 1000 episodes: 5.045\n"
          ]
        }
      ]
    }
  ]
}