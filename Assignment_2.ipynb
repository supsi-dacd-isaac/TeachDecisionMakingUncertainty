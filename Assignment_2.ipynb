{
  "nbformat": 4,
  "nbformat_minor": 0,
  "metadata": {
    "colab": {
      "provenance": [],
      "authorship_tag": "ABX9TyMKim1r6vf+N86IeSKXkZTH",
      "include_colab_link": true
    },
    "kernelspec": {
      "name": "python3",
      "display_name": "Python 3"
    },
    "language_info": {
      "name": "python"
    }
  },
  "cells": [
    {
      "cell_type": "markdown",
      "metadata": {
        "id": "view-in-github",
        "colab_type": "text"
      },
      "source": [
        "<a href=\"https://colab.research.google.com/github/supsi-dacd-isaac/TeachDecisionMakingUncertainty/blob/main/Assignment_2.ipynb\" target=\"_parent\"><img src=\"https://colab.research.google.com/assets/colab-badge.svg\" alt=\"Open In Colab\"/></a>"
      ]
    },
    {
      "cell_type": "markdown",
      "source": [
        "# Cart-pole control\n",
        "\n",
        "In the second task you’ll try to craft controllers for the version of the cart-pole problem described by Barto, Sutton, and Anderson in [“Neuronlike Adaptive Elements That Can Solve Difficult Learning Control Problem”.](https://ieeexplore.ieee.org/document/6313077)\n",
        "\n",
        "<div>\n",
        "<img src=\"https://gymnasium.farama.org/_static/videos/mujoco/inverted_pendulum.gif\" width=\"200\"/>\n",
        "</div>\n",
        "\n",
        "\n",
        "\n",
        "# Gym env\n",
        "This model has been encoded in the **Inverted Pendulum** environment\n",
        "\n",
        "Find [here](https://gymnasium.farama.org/environments/mujoco/inverted_pendulum/) a detailed description of the environment\n",
        "* action space\n",
        "* observation space\n",
        "* reward\n",
        "* model\n",
        "\n",
        "\n"
      ],
      "metadata": {
        "id": "K-xwQEtYZwlG"
      }
    },
    {
      "cell_type": "code",
      "source": [
        "#@title Installing required libraries, setup\n",
        "\n",
        "%%capture\n",
        "!pip install gym pyvirtualdisplay\n",
        "!apt-get install -y xvfb python-opengl ffmpeg\n",
        "!pip install \"gymnasium[mujoco]\"\n",
        "import os\n",
        "os.environ[\"MUJOCO_GL\"] = \"egl\"\n",
        "os.environ[\"PYOPENGL_PLATFORM\"] = \"egl\""
      ],
      "metadata": {
        "id": "RuKuo2qgivG3",
        "cellView": "form"
      },
      "execution_count": 1,
      "outputs": []
    },
    {
      "cell_type": "markdown",
      "source": [
        "# Env and benchmark policies\n",
        "The following cell defines the environment, `InvertedPendulum-v5` and two baseline policie:\n",
        "* `zero_policy`: always return 0, that is, no force is applied to the cart\n",
        "* `random_policy`: a random force is sampled from the admissible intervals of the environment's action space\n",
        "\n",
        "The effect of these two policies is shown in the following cells via animations of control scenarios."
      ],
      "metadata": {
        "id": "8Y5c8STRaa_6"
      }
    },
    {
      "cell_type": "code",
      "source": [
        "import gymnasium as gym\n",
        "import numpy as np\n",
        "import random\n",
        "import math\n",
        "import matplotlib.pyplot as plt\n",
        "import seaborn as sns\n",
        "import pandas as pd\n",
        "\n",
        "# Create the InvertedPendulum environment (Mujoco must be installed)\n",
        "env = gym.make(\"InvertedPendulum-v5\", render_mode=\"rgb_array\")\n",
        "\n",
        "# Random policy - always chose [0]\n",
        "def zero_policy(obs):\n",
        "    return [0]\n",
        "\n",
        "# Random policy\n",
        "def random_policy(obs):\n",
        "    return env.action_space.sample()"
      ],
      "metadata": {
        "id": "__lK1cSjbEgk"
      },
      "execution_count": 2,
      "outputs": []
    },
    {
      "cell_type": "markdown",
      "source": [
        "# Benchmark solutions\n",
        "The following cell runs 1000 episodes for the `zero_policy` and the `random_policy` policies and retrieve the expected rewards in terms of number of steps before termination. Your solutions should beat both the benchmarks (~24 steps in expectation)."
      ],
      "metadata": {
        "id": "8b6_iKfeX1Y8"
      }
    },
    {
      "cell_type": "code",
      "source": [
        "#@title Defining animating function\n",
        "from gymnasium.wrappers import RecordVideo\n",
        "import glob\n",
        "from IPython.display import Video\n",
        "\n",
        "\n",
        "def animate_policy(policy, env=gym.make(\"InvertedPendulum-v5\", render_mode=\"rgb_array\")):\n",
        "  recorded = RecordVideo(\n",
        "      env,                          # this is your AtariPreprocessing+FrameStack env\n",
        "      video_folder=\"\",\n",
        "      episode_trigger=lambda ep: True,\n",
        "      name_prefix=\"breakout_eval\"\n",
        "  )\n",
        "\n",
        "  # Run exactly one episode\n",
        "  obs, info = recorded.reset()\n",
        "  done = False\n",
        "  i=0\n",
        "  obs, _ = env.reset()\n",
        "  while not done:\n",
        "      i+=1\n",
        "      action = policy(obs)\n",
        "      obs, reward, terminated, truncated, info = recorded.step(action)\n",
        "      done = terminated or truncated\n",
        "  recorded.close()\n",
        "\n",
        "  # Find and embed the just-written MP4\n",
        "  mp4 = sorted(glob.glob(\"breakout_eval-episode-*.mp4\"))[-1]\n",
        "  return Video(mp4, embed=True)"
      ],
      "metadata": {
        "id": "srPBZ2eoOIBg"
      },
      "execution_count": 3,
      "outputs": []
    },
    {
      "cell_type": "code",
      "source": [
        "animate_policy(random_policy)"
      ],
      "metadata": {
        "colab": {
          "base_uri": "https://localhost:8080/",
          "height": 556
        },
        "id": "Zl4xLw6yfxMr",
        "outputId": "01ce8239-3a9d-49e0-e000-f7fd52b676ac"
      },
      "execution_count": 4,
      "outputs": [
        {
          "output_type": "stream",
          "name": "stderr",
          "text": [
            "/usr/local/lib/python3.11/dist-packages/gymnasium/wrappers/rendering.py:283: UserWarning: \u001b[33mWARN: Overwriting existing videos at /content folder (try specifying a different `video_folder` for the `RecordVideo` wrapper if this is not desired)\u001b[0m\n",
            "  logger.warn(\n"
          ]
        },
        {
          "output_type": "execute_result",
          "data": {
            "text/plain": [
              "<IPython.core.display.Video object>"
            ],
            "text/html": [
              "<video controls  >\n",
              " <source src=\"data:video/mp4;base64,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\" type=\"video/mp4\">\n",
              " Your browser does not support the video tag.\n",
              " </video>"
            ]
          },
          "metadata": {},
          "execution_count": 4
        }
      ]
    },
    {
      "cell_type": "code",
      "source": [
        "animate_policy(zero_policy, env=gym.make(\"InvertedPendulum-v5\", render_mode=\"rgb_array\"))"
      ],
      "metadata": {
        "colab": {
          "base_uri": "https://localhost:8080/",
          "height": 502
        },
        "id": "mvD0U7tafyFX",
        "outputId": "6f324a5e-5e52-4545-85af-b2c2794fab1b"
      },
      "execution_count": 11,
      "outputs": [
        {
          "output_type": "execute_result",
          "data": {
            "text/plain": [
              "<IPython.core.display.Video object>"
            ],
            "text/html": [
              "<video controls  >\n",
              " <source src=\"data:video/mp4;base64,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\" type=\"video/mp4\">\n",
              " Your browser does not support the video tag.\n",
              " </video>"
            ]
          },
          "metadata": {},
          "execution_count": 11
        }
      ]
    },
    {
      "cell_type": "code",
      "source": [
        "def compute_average_reward(policy, env, num_episodes=1000):\n",
        "    total_reward = 0\n",
        "    for _ in range(num_episodes):\n",
        "        obs, _ = env.reset()\n",
        "        done = False\n",
        "        episode_reward = 0\n",
        "        while not done:\n",
        "            action = policy(obs)\n",
        "            obs, reward, terminated, truncated, info = env.step(action)\n",
        "            episode_reward += reward\n",
        "            done = terminated or truncated\n",
        "        total_reward += episode_reward\n",
        "    return total_reward / num_episodes\n",
        "\n",
        "# Create the environment\n",
        "env = gym.make(\"InvertedPendulum-v5\")\n",
        "\n",
        "# Compute average reward for zero policy\n",
        "avg_reward_zero = compute_average_reward(zero_policy, env)\n",
        "print(f\"Average reward for zero policy over 1000 episodes: {avg_reward_zero}\")\n",
        "\n",
        "# Compute average reward for random policy\n",
        "avg_reward_random = compute_average_reward(random_policy, env)\n",
        "print(f\"Average reward for random policy over 1000 episodes: {avg_reward_random}\")\n",
        "\n",
        "env.close()"
      ],
      "metadata": {
        "colab": {
          "base_uri": "https://localhost:8080/"
        },
        "id": "aVDksuqaV8Zu",
        "outputId": "d980f5fe-e6a8-48a3-97a9-e3e4299648e5"
      },
      "execution_count": 9,
      "outputs": [
        {
          "output_type": "stream",
          "name": "stdout",
          "text": [
            "Average reward for zero policy over 1000 episodes: 24.317\n",
            "Average reward for random policy over 1000 episodes: 5.155\n"
          ]
        }
      ]
    }
  ]
}