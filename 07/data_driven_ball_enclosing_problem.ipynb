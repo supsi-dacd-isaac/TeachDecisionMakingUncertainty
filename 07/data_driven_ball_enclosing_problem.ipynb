{
  "nbformat": 4,
  "nbformat_minor": 0,
  "metadata": {
    "colab": {
      "provenance": [],
      "authorship_tag": "ABX9TyPW6MAV6bUTFym1s0/23zJ2",
      "include_colab_link": true
    },
    "kernelspec": {
      "name": "python3",
      "display_name": "Python 3"
    },
    "language_info": {
      "name": "python"
    }
  },
  "cells": [
    {
      "cell_type": "markdown",
      "metadata": {
        "id": "view-in-github",
        "colab_type": "text"
      },
      "source": [
        "<a href=\"https://colab.research.google.com/github/supsi-dacd-isaac/TeachDecisionMakingUncertainty/blob/main/07/data_driven_ball_enclosing_problem.ipynb\" target=\"_parent\"><img src=\"https://colab.research.google.com/assets/colab-badge.svg\" alt=\"Open In Colab\"/></a>"
      ]
    },
    {
      "cell_type": "markdown",
      "source": [
        "# Data-Driven Enclosing Sphere Problem\n",
        "\n",
        "In this notebook, we address a robust data-driven optimization problem where the goal is to determine a credible set that encloses most of the data scenarios. This is achieved by finding the smallest sphere (or ball) that contains the majority of data points, while also allowing for a few outliers using slack variables.\n",
        "\n",
        "## Problem Formulation\n",
        "\n",
        "### Without discarded samples\n",
        "\n",
        "Consider a data set of scenarios:\n",
        "\n",
        "\n",
        "\n",
        "\n"
      ],
      "metadata": {
        "id": "WcEwOdZ4xA6F"
      }
    },
    {
      "cell_type": "code",
      "source": [
        "import numpy as np\n",
        "import matplotlib.pyplot as plt\n",
        "\n",
        "# Generate synthetic 2D data with more samples and non-symmetric distribution\n",
        "np.random.seed(42)\n",
        "num_samples = 300  # Increased number of samples\n",
        "X = np.random.multivariate_normal([2, 3], [[1, 0.5], [0.5, 2]], num_samples) # Non-symmetric covariance\n",
        "X[:,0] = np.sin(X[:,1])* X[:,0]\n",
        "plt.scatter(X[:, 0], X[:, 1], color='blue', label=\"Data Points\", s=10)\n",
        "plt.grid()\n",
        "plt.xlabel(\"X-coordinate\")\n",
        "plt.ylabel(\"Y-coordinate\")\n",
        "plt.title(\"Synthetic 2D Data with Non-Symmetric Covariance\")\n",
        "plt.show()"
      ],
      "metadata": {
        "id": "-I6zExEC7eK3"
      },
      "execution_count": null,
      "outputs": []
    },
    {
      "cell_type": "markdown",
      "source": [
        "\n",
        "\n",
        "\n",
        "We define the enclosing set as a sphere:\n",
        "$$\n",
        "\\mathcal{U} = \\{ u \\in \\Omega : \\|u - c\\| \\le r \\}\n",
        "$$\n",
        "where:\n",
        "- $c \\in \\mathbb{R}^n$ is the center.\n",
        "- $r \\ge 0$ is the radius.\n",
        "\n",
        "The optimization problem is:\n",
        "$$\n",
        "\\begin{aligned}\n",
        "\\min_{c, r} \\quad & r \\\\\n",
        "\\text{subject to} \\quad & \\|u^{(i)} - c\\|_2 \\le r, \\quad i = 1, \\dots, N, \\\\\n",
        "& r \\ge 0.\n",
        "\\end{aligned}\n",
        "$$\n",
        "\n",
        "where $\\|u^{(i)} - c\\|_2$ is the Euclidean norm (distance) of each scenario from the ball center, e.g., $\\sqrt{(u_x^{(i)} - c_x)^2 + (u_y^{(i)} - c_y)^2}$ for a 2-dimensional case.\n",
        "\n"
      ],
      "metadata": {
        "id": "ANSDjLJe7eeC"
      }
    },
    {
      "cell_type": "code",
      "source": [
        "import cvxpy as cp"
      ],
      "metadata": {
        "id": "HJdKP9hkgEkG"
      },
      "execution_count": null,
      "outputs": []
    },
    {
      "cell_type": "markdown",
      "source": [
        "Thsi problem is simple (convex) but, yet, the constraits are quadratic....so we need dedicated solversm there are loaded with the package `import cvxpy as cp`"
      ],
      "metadata": {
        "id": "rq3xGh8WgE3d"
      }
    },
    {
      "cell_type": "code",
      "execution_count": null,
      "metadata": {
        "id": "BTIb6MqSu9y6"
      },
      "outputs": [],
      "source": [
        "# Decision variables: center (c) and radius (r)\n",
        "c = cp.Variable(2)\n",
        "r = cp.Variable(nonneg=True)\n",
        "\n",
        "# Constraints: Enclosing sphere condition for each data point\n",
        "constraints = [cp.norm(X[i] - c, 2) <= r for i in range(X.shape[0])]  # cp.norm(x, 2)\n",
        "\n",
        "# Objective function: Minimize the radius of the sphere\n",
        "objective = cp.Minimize(r)\n",
        "\n",
        "# Define and solve the optimization problem\n",
        "prob = cp.Problem(objective, constraints)\n",
        "result = prob.solve()\n",
        "\n",
        "print(\"Optimal center:\", c.value)\n",
        "print(\"Optimal radius:\", r.value)\n",
        "\n",
        "# Plot the data points and the enclosing sphere\n",
        "plt.figure(figsize=(8, 6))  # Adjust figure size for better visualization\n",
        "plt.scatter(X[:, 0], X[:, 1], color='blue', label=\"Data Points\", s=10) # Reduced marker size for clarity\n",
        "circle = plt.Circle(c.value, r.value, color='green', fill=False, label=\"Enclosing Sphere\", linewidth=2) # Increased linewidth\n",
        "plt.gca().add_patch(circle)\n",
        "plt.axis('equal')\n",
        "plt.title(\"Minimum Enclosing Sphere\")\n",
        "plt.xlabel(\"X-coordinate\")\n",
        "plt.ylabel(\"Y-coordinate\")\n",
        "plt.legend()\n",
        "plt.grid(True) # Added a grid for better readability\n",
        "plt.show()\n"
      ]
    },
    {
      "cell_type": "markdown",
      "source": [
        "### With discarded samples (Outliers)\n",
        "\n",
        "To account for outliers, slack variables $\\xi_i \\ge 0$ are introduced:\n",
        "$$\n",
        "\\|u^{(i)} - c\\| \\le r + \\xi_i.\n",
        "$$\n",
        "The robust formulation becomes:\n",
        "$$\n",
        "\\begin{aligned}\n",
        "\\min_{c, r, \\xi} \\quad & r + \\lambda \\sum_{i=1}^{N} \\xi_i \\\\\n",
        "\\text{subject to} \\quad & \\|u^{(i)} - c\\| \\le r + \\xi_i, \\quad i = 1, \\dots, N, \\\\\n",
        "& \\xi_i \\ge 0, \\quad i = 1, \\dots, N, \\\\\n",
        "& r \\ge 0.\n",
        "\\end{aligned}\n",
        "$$\n",
        "where $\\lambda > 0$ is a penalty parameter.\n",
        "\n",
        "\n",
        "Tof find the discarded outliers proceed as follows:\n",
        "* If $\\xi_i > \\epsilon$ where$ \\epsilon$ is a sufficiently small value the i-th sample has been discarded.  \n",
        "\n",
        "* $\\xi_i \\leq \\epsilon$ will sattisfy the constraints to a reasonable numerical accuraccy."
      ],
      "metadata": {
        "id": "2dREqcltLyx8"
      }
    },
    {
      "cell_type": "code",
      "source": [
        "# COMPLETE CODE\n",
        "\n",
        "# Decision variables\n",
        "\n",
        "# Constraints: Enclosing sphere condition for each data point\n",
        "\n",
        "# Objective function: Minimize the radius of the sphere\n",
        "\n",
        "\n",
        "# Define and solve the optimization problem"
      ],
      "metadata": {
        "id": "-q6_ewnLzpbk"
      },
      "execution_count": 28,
      "outputs": []
    }
  ]
}